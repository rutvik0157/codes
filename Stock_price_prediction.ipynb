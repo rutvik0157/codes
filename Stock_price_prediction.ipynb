{
  "nbformat": 4,
  "nbformat_minor": 0,
  "metadata": {
    "colab": {
      "provenance": [],
      "gpuType": "T4"
    },
    "kernelspec": {
      "name": "python3",
      "display_name": "Python 3"
    },
    "language_info": {
      "name": "python"
    },
    "accelerator": "GPU"
  },
  "cells": [
    {
      "cell_type": "code",
      "execution_count": null,
      "metadata": {
        "id": "nwacOEULhd0N"
      },
      "outputs": [],
      "source": [
        "import numpy as np\n",
        "import pandas as pd\n",
        "import matplotlib.pyplot as plt\n",
        "import seaborn as sns\n",
        "import datetime as dt"
      ]
    },
    {
      "cell_type": "code",
      "source": [
        "import pandas_datareader as pdr\n",
        "key = \"42ae9ac2e5ff7214b105e75d7e44ce719c1b8ddd\""
      ],
      "metadata": {
        "id": "JM_xX2X-rDMd"
      },
      "execution_count": null,
      "outputs": []
    },
    {
      "source": [
        "!pip install --upgrade pandas-datareader pandas"
      ],
      "cell_type": "code",
      "metadata": {
        "colab": {
          "base_uri": "https://localhost:8080/"
        },
        "collapsed": true,
        "id": "xQbZgKReutRj",
        "outputId": "7bfd7fd2-bd46-4b0b-c7d3-6673b13d3928"
      },
      "execution_count": null,
      "outputs": [
        {
          "output_type": "stream",
          "name": "stdout",
          "text": [
            "Requirement already satisfied: pandas-datareader in /usr/local/lib/python3.10/dist-packages (0.10.0)\n",
            "Requirement already satisfied: pandas in /usr/local/lib/python3.10/dist-packages (1.5.3)\n",
            "Collecting pandas\n",
            "  Using cached pandas-2.2.3-cp310-cp310-manylinux_2_17_x86_64.manylinux2014_x86_64.whl.metadata (89 kB)\n",
            "Requirement already satisfied: lxml in /usr/local/lib/python3.10/dist-packages (from pandas-datareader) (5.3.0)\n",
            "Requirement already satisfied: requests>=2.19.0 in /usr/local/lib/python3.10/dist-packages (from pandas-datareader) (2.32.3)\n",
            "Requirement already satisfied: numpy>=1.22.4 in /usr/local/lib/python3.10/dist-packages (from pandas) (1.26.4)\n",
            "Requirement already satisfied: python-dateutil>=2.8.2 in /usr/local/lib/python3.10/dist-packages (from pandas) (2.8.2)\n",
            "Requirement already satisfied: pytz>=2020.1 in /usr/local/lib/python3.10/dist-packages (from pandas) (2024.2)\n",
            "Requirement already satisfied: tzdata>=2022.7 in /usr/local/lib/python3.10/dist-packages (from pandas) (2024.2)\n",
            "Requirement already satisfied: six>=1.5 in /usr/local/lib/python3.10/dist-packages (from python-dateutil>=2.8.2->pandas) (1.16.0)\n",
            "Requirement already satisfied: charset-normalizer<4,>=2 in /usr/local/lib/python3.10/dist-packages (from requests>=2.19.0->pandas-datareader) (3.4.0)\n",
            "Requirement already satisfied: idna<4,>=2.5 in /usr/local/lib/python3.10/dist-packages (from requests>=2.19.0->pandas-datareader) (3.10)\n",
            "Requirement already satisfied: urllib3<3,>=1.21.1 in /usr/local/lib/python3.10/dist-packages (from requests>=2.19.0->pandas-datareader) (2.2.3)\n",
            "Requirement already satisfied: certifi>=2017.4.17 in /usr/local/lib/python3.10/dist-packages (from requests>=2.19.0->pandas-datareader) (2024.8.30)\n",
            "Using cached pandas-2.2.3-cp310-cp310-manylinux_2_17_x86_64.manylinux2014_x86_64.whl (13.1 MB)\n",
            "Installing collected packages: pandas\n",
            "  Attempting uninstall: pandas\n",
            "    Found existing installation: pandas 1.5.3\n",
            "    Uninstalling pandas-1.5.3:\n",
            "      Successfully uninstalled pandas-1.5.3\n",
            "\u001b[31mERROR: pip's dependency resolver does not currently take into account all the packages that are installed. This behaviour is the source of the following dependency conflicts.\n",
            "cudf-cu12 24.10.1 requires pandas<2.2.3dev0,>=2.0, but you have pandas 2.2.3 which is incompatible.\n",
            "google-colab 1.0.0 requires pandas==2.2.2, but you have pandas 2.2.3 which is incompatible.\u001b[0m\u001b[31m\n",
            "\u001b[0mSuccessfully installed pandas-2.2.3\n"
          ]
        }
      ]
    },
    {
      "cell_type": "code",
      "source": [
        "df = pdr.get_data_tiingo('AAPL', api_key=key)"
      ],
      "metadata": {
        "colab": {
          "base_uri": "https://localhost:8080/"
        },
        "id": "Hq-lh8fIumV-",
        "outputId": "7d2640b6-392f-4ca3-cfe8-5ed41dc497d4"
      },
      "execution_count": null,
      "outputs": [
        {
          "output_type": "stream",
          "name": "stderr",
          "text": [
            "<ipython-input-19-08157bf6935e>:1: FutureWarning: In a future version of pandas all arguments of concat except for the argument 'objs' will be keyword-only.\n",
            "  df = pdr.get_data_tiingo('AAPL', api_key=key)\n"
          ]
        }
      ]
    },
    {
      "cell_type": "code",
      "source": [
        "!pip install pandas==1.5.3"
      ],
      "metadata": {
        "colab": {
          "base_uri": "https://localhost:8080/"
        },
        "collapsed": true,
        "id": "deFdCbwP3sT-",
        "outputId": "ff437faf-c1d4-4b11-8a8c-fecaf8c93121"
      },
      "execution_count": null,
      "outputs": [
        {
          "output_type": "stream",
          "name": "stdout",
          "text": [
            "Requirement already satisfied: pandas==1.5.3 in /usr/local/lib/python3.10/dist-packages (1.5.3)\n",
            "Requirement already satisfied: python-dateutil>=2.8.1 in /usr/local/lib/python3.10/dist-packages (from pandas==1.5.3) (2.8.2)\n",
            "Requirement already satisfied: pytz>=2020.1 in /usr/local/lib/python3.10/dist-packages (from pandas==1.5.3) (2024.2)\n",
            "Requirement already satisfied: numpy>=1.21.0 in /usr/local/lib/python3.10/dist-packages (from pandas==1.5.3) (1.26.4)\n",
            "Requirement already satisfied: six>=1.5 in /usr/local/lib/python3.10/dist-packages (from python-dateutil>=2.8.1->pandas==1.5.3) (1.16.0)\n"
          ]
        }
      ]
    },
    {
      "cell_type": "code",
      "source": [
        "df.to_csv('AAPL.csv')"
      ],
      "metadata": {
        "id": "69T5vPh24Mwk"
      },
      "execution_count": null,
      "outputs": []
    },
    {
      "cell_type": "code",
      "source": [
        "df = pd.read_csv('/content/AAPL.csv')"
      ],
      "metadata": {
        "id": "bwxFjfbT8Uvv"
      },
      "execution_count": null,
      "outputs": []
    },
    {
      "cell_type": "code",
      "source": [
        "df.head()"
      ],
      "metadata": {
        "colab": {
          "base_uri": "https://localhost:8080/",
          "height": 720
        },
        "id": "qEbW19dYxF-f",
        "outputId": "6f8b0392-f563-468c-b8bc-557782ff07b4",
        "collapsed": true
      },
      "execution_count": null,
      "outputs": [
        {
          "output_type": "error",
          "ename": "AttributeError",
          "evalue": "'Index' object has no attribute '_format_flat'",
          "traceback": [
            "\u001b[0;31m---------------------------------------------------------------------------\u001b[0m",
            "\u001b[0;31mAttributeError\u001b[0m                            Traceback (most recent call last)",
            "\u001b[0;32m/usr/local/lib/python3.10/dist-packages/IPython/core/formatters.py\u001b[0m in \u001b[0;36m__call__\u001b[0;34m(self, obj)\u001b[0m\n\u001b[1;32m    339\u001b[0m                 \u001b[0;32mpass\u001b[0m\u001b[0;34m\u001b[0m\u001b[0;34m\u001b[0m\u001b[0m\n\u001b[1;32m    340\u001b[0m             \u001b[0;32melse\u001b[0m\u001b[0;34m:\u001b[0m\u001b[0;34m\u001b[0m\u001b[0;34m\u001b[0m\u001b[0m\n\u001b[0;32m--> 341\u001b[0;31m                 \u001b[0;32mreturn\u001b[0m \u001b[0mprinter\u001b[0m\u001b[0;34m(\u001b[0m\u001b[0mobj\u001b[0m\u001b[0;34m)\u001b[0m\u001b[0;34m\u001b[0m\u001b[0;34m\u001b[0m\u001b[0m\n\u001b[0m\u001b[1;32m    342\u001b[0m             \u001b[0;31m# Finally look for special method names\u001b[0m\u001b[0;34m\u001b[0m\u001b[0;34m\u001b[0m\u001b[0m\n\u001b[1;32m    343\u001b[0m             \u001b[0mmethod\u001b[0m \u001b[0;34m=\u001b[0m \u001b[0mget_real_method\u001b[0m\u001b[0;34m(\u001b[0m\u001b[0mobj\u001b[0m\u001b[0;34m,\u001b[0m \u001b[0mself\u001b[0m\u001b[0;34m.\u001b[0m\u001b[0mprint_method\u001b[0m\u001b[0;34m)\u001b[0m\u001b[0;34m\u001b[0m\u001b[0;34m\u001b[0m\u001b[0m\n",
            "\u001b[0;32m/usr/local/lib/python3.10/dist-packages/google/colab/_quickchart_hint_button.py\u001b[0m in \u001b[0;36m_df_formatter_with_hint_buttons\u001b[0;34m(df)\u001b[0m\n\u001b[1;32m    256\u001b[0m     \u001b[0mbuttons\u001b[0m\u001b[0;34m.\u001b[0m\u001b[0mappend\u001b[0m\u001b[0;34m(\u001b[0m\u001b[0m_generate_with_variable\u001b[0m\u001b[0;34m.\u001b[0m\u001b[0mget_html\u001b[0m\u001b[0;34m(\u001b[0m\u001b[0mdf\u001b[0m\u001b[0;34m)\u001b[0m\u001b[0;34m)\u001b[0m\u001b[0;34m\u001b[0m\u001b[0;34m\u001b[0m\u001b[0m\n\u001b[1;32m    257\u001b[0m   \u001b[0;31m# pylint: disable=protected-access\u001b[0m\u001b[0;34m\u001b[0m\u001b[0;34m\u001b[0m\u001b[0m\n\u001b[0;32m--> 258\u001b[0;31m   html = _interactive_table_hint_button._df_formatter_with_interactive_hint(\n\u001b[0m\u001b[1;32m    259\u001b[0m       \u001b[0mdf\u001b[0m\u001b[0;34m,\u001b[0m \u001b[0mbuttons\u001b[0m\u001b[0;34m\u001b[0m\u001b[0;34m\u001b[0m\u001b[0m\n\u001b[1;32m    260\u001b[0m   )\n",
            "\u001b[0;32m/usr/local/lib/python3.10/dist-packages/google/colab/_interactive_table_hint_button.py\u001b[0m in \u001b[0;36m_df_formatter_with_interactive_hint\u001b[0;34m(dataframe, buttons)\u001b[0m\n\u001b[1;32m    120\u001b[0m     \u001b[0mbuttons\u001b[0m \u001b[0;34m=\u001b[0m \u001b[0;34m[\u001b[0m\u001b[0;34m]\u001b[0m\u001b[0;34m\u001b[0m\u001b[0;34m\u001b[0m\u001b[0m\n\u001b[1;32m    121\u001b[0m   \u001b[0mbuttons\u001b[0m\u001b[0;34m.\u001b[0m\u001b[0minsert\u001b[0m\u001b[0;34m(\u001b[0m\u001b[0;36m0\u001b[0m\u001b[0;34m,\u001b[0m \u001b[0m_get_button_html\u001b[0m\u001b[0;34m(\u001b[0m\u001b[0mkey\u001b[0m\u001b[0;34m)\u001b[0m\u001b[0;34m)\u001b[0m\u001b[0;34m\u001b[0m\u001b[0;34m\u001b[0m\u001b[0m\n\u001b[0;32m--> 122\u001b[0;31m   \u001b[0;32mreturn\u001b[0m \u001b[0m_get_html\u001b[0m\u001b[0;34m(\u001b[0m\u001b[0mdataframe\u001b[0m\u001b[0;34m,\u001b[0m \u001b[0mkey\u001b[0m\u001b[0;34m,\u001b[0m \u001b[0mbuttons\u001b[0m\u001b[0;34m)\u001b[0m\u001b[0;34m\u001b[0m\u001b[0;34m\u001b[0m\u001b[0m\n\u001b[0m\u001b[1;32m    123\u001b[0m \u001b[0;34m\u001b[0m\u001b[0m\n\u001b[1;32m    124\u001b[0m \u001b[0;34m\u001b[0m\u001b[0m\n",
            "\u001b[0;32m/usr/local/lib/python3.10/dist-packages/google/colab/_interactive_table_hint_button.py\u001b[0m in \u001b[0;36m_get_html\u001b[0;34m(dataframe, key, buttons)\u001b[0m\n\u001b[1;32m    176\u001b[0m   \"\"\".format(\n\u001b[1;32m    177\u001b[0m       \u001b[0mkey\u001b[0m\u001b[0;34m=\u001b[0m\u001b[0mkey\u001b[0m\u001b[0;34m,\u001b[0m\u001b[0;34m\u001b[0m\u001b[0;34m\u001b[0m\u001b[0m\n\u001b[0;32m--> 178\u001b[0;31m       \u001b[0mdf_html\u001b[0m\u001b[0;34m=\u001b[0m\u001b[0mdataframe\u001b[0m\u001b[0;34m.\u001b[0m\u001b[0m_repr_html_\u001b[0m\u001b[0;34m(\u001b[0m\u001b[0;34m)\u001b[0m\u001b[0;34m,\u001b[0m  \u001b[0;31m# pylint: disable=protected-access\u001b[0m\u001b[0;34m\u001b[0m\u001b[0;34m\u001b[0m\u001b[0m\n\u001b[0m\u001b[1;32m    179\u001b[0m       \u001b[0mbuttons_str\u001b[0m\u001b[0;34m=\u001b[0m\u001b[0mbuttons_str\u001b[0m\u001b[0;34m,\u001b[0m\u001b[0;34m\u001b[0m\u001b[0;34m\u001b[0m\u001b[0m\n\u001b[1;32m    180\u001b[0m   )\n",
            "\u001b[0;32m/usr/local/lib/python3.10/dist-packages/pandas/core/frame.py\u001b[0m in \u001b[0;36m_repr_html_\u001b[0;34m(self)\u001b[0m\n\u001b[1;32m   1104\u001b[0m                 \u001b[0mdecimal\u001b[0m\u001b[0;34m=\u001b[0m\u001b[0;34m\".\"\u001b[0m\u001b[0;34m,\u001b[0m\u001b[0;34m\u001b[0m\u001b[0;34m\u001b[0m\u001b[0m\n\u001b[1;32m   1105\u001b[0m             )\n\u001b[0;32m-> 1106\u001b[0;31m             \u001b[0;32mreturn\u001b[0m \u001b[0mfmt\u001b[0m\u001b[0;34m.\u001b[0m\u001b[0mDataFrameRenderer\u001b[0m\u001b[0;34m(\u001b[0m\u001b[0mformatter\u001b[0m\u001b[0;34m)\u001b[0m\u001b[0;34m.\u001b[0m\u001b[0mto_html\u001b[0m\u001b[0;34m(\u001b[0m\u001b[0mnotebook\u001b[0m\u001b[0;34m=\u001b[0m\u001b[0;32mTrue\u001b[0m\u001b[0;34m)\u001b[0m\u001b[0;34m\u001b[0m\u001b[0;34m\u001b[0m\u001b[0m\n\u001b[0m\u001b[1;32m   1107\u001b[0m         \u001b[0;32melse\u001b[0m\u001b[0;34m:\u001b[0m\u001b[0;34m\u001b[0m\u001b[0;34m\u001b[0m\u001b[0m\n\u001b[1;32m   1108\u001b[0m             \u001b[0;32mreturn\u001b[0m \u001b[0;32mNone\u001b[0m\u001b[0;34m\u001b[0m\u001b[0;34m\u001b[0m\u001b[0m\n",
            "\u001b[0;32m/usr/local/lib/python3.10/dist-packages/pandas/io/formats/format.py\u001b[0m in \u001b[0;36mto_html\u001b[0;34m(self, buf, encoding, classes, notebook, border, table_id, render_links)\u001b[0m\n\u001b[1;32m   1108\u001b[0m             \u001b[0mrender_links\u001b[0m\u001b[0;34m=\u001b[0m\u001b[0mrender_links\u001b[0m\u001b[0;34m,\u001b[0m\u001b[0;34m\u001b[0m\u001b[0;34m\u001b[0m\u001b[0m\n\u001b[1;32m   1109\u001b[0m         )\n\u001b[0;32m-> 1110\u001b[0;31m         \u001b[0mstring\u001b[0m \u001b[0;34m=\u001b[0m \u001b[0mhtml_formatter\u001b[0m\u001b[0;34m.\u001b[0m\u001b[0mto_string\u001b[0m\u001b[0;34m(\u001b[0m\u001b[0;34m)\u001b[0m\u001b[0;34m\u001b[0m\u001b[0;34m\u001b[0m\u001b[0m\n\u001b[0m\u001b[1;32m   1111\u001b[0m         \u001b[0;32mreturn\u001b[0m \u001b[0msave_to_buffer\u001b[0m\u001b[0;34m(\u001b[0m\u001b[0mstring\u001b[0m\u001b[0;34m,\u001b[0m \u001b[0mbuf\u001b[0m\u001b[0;34m=\u001b[0m\u001b[0mbuf\u001b[0m\u001b[0;34m,\u001b[0m \u001b[0mencoding\u001b[0m\u001b[0;34m=\u001b[0m\u001b[0mencoding\u001b[0m\u001b[0;34m)\u001b[0m\u001b[0;34m\u001b[0m\u001b[0;34m\u001b[0m\u001b[0m\n\u001b[1;32m   1112\u001b[0m \u001b[0;34m\u001b[0m\u001b[0m\n",
            "\u001b[0;32m/usr/local/lib/python3.10/dist-packages/pandas/io/formats/html.py\u001b[0m in \u001b[0;36mto_string\u001b[0;34m(self)\u001b[0m\n\u001b[1;32m     86\u001b[0m             \u001b[0mby\u001b[0m \u001b[0;34m=\u001b[0m \u001b[0mchr\u001b[0m\u001b[0;34m(\u001b[0m\u001b[0;36m215\u001b[0m\u001b[0;34m)\u001b[0m  \u001b[0;31m# ×\u001b[0m\u001b[0;34m\u001b[0m\u001b[0;34m\u001b[0m\u001b[0m\n\u001b[1;32m     87\u001b[0m             self.write(\n\u001b[0;32m---> 88\u001b[0;31m                 \u001b[0;34mf\"<p>{len(self.frame)} rows {by} {len(self.frame.columns)} columns</p>\"\u001b[0m\u001b[0;34m\u001b[0m\u001b[0;34m\u001b[0m\u001b[0m\n\u001b[0m\u001b[1;32m     89\u001b[0m             )\n\u001b[1;32m     90\u001b[0m \u001b[0;34m\u001b[0m\u001b[0m\n",
            "\u001b[0;32m/usr/local/lib/python3.10/dist-packages/pandas/io/formats/html.py\u001b[0m in \u001b[0;36mrender\u001b[0;34m(self)\u001b[0m\n",
            "\u001b[0;32m/usr/local/lib/python3.10/dist-packages/pandas/io/formats/html.py\u001b[0m in \u001b[0;36mrender\u001b[0;34m(self)\u001b[0m\n\u001b[1;32m     92\u001b[0m \u001b[0;34m\u001b[0m\u001b[0m\n\u001b[1;32m     93\u001b[0m     \u001b[0;34m@\u001b[0m\u001b[0mproperty\u001b[0m\u001b[0;34m\u001b[0m\u001b[0;34m\u001b[0m\u001b[0m\n\u001b[0;32m---> 94\u001b[0;31m     \u001b[0;32mdef\u001b[0m \u001b[0mshould_show_dimensions\u001b[0m\u001b[0;34m(\u001b[0m\u001b[0mself\u001b[0m\u001b[0;34m)\u001b[0m \u001b[0;34m->\u001b[0m \u001b[0mbool\u001b[0m\u001b[0;34m:\u001b[0m\u001b[0;34m\u001b[0m\u001b[0;34m\u001b[0m\u001b[0m\n\u001b[0m\u001b[1;32m     95\u001b[0m         \u001b[0;32mreturn\u001b[0m \u001b[0mself\u001b[0m\u001b[0;34m.\u001b[0m\u001b[0mfmt\u001b[0m\u001b[0;34m.\u001b[0m\u001b[0mshould_show_dimensions\u001b[0m\u001b[0;34m\u001b[0m\u001b[0;34m\u001b[0m\u001b[0m\n\u001b[1;32m     96\u001b[0m \u001b[0;34m\u001b[0m\u001b[0m\n",
            "\u001b[0;32m/usr/local/lib/python3.10/dist-packages/pandas/io/formats/html.py\u001b[0m in \u001b[0;36m_write_table\u001b[0;34m(self, indent)\u001b[0m\n\u001b[1;32m    265\u001b[0m         \u001b[0;32mif\u001b[0m \u001b[0misinstance\u001b[0m\u001b[0;34m(\u001b[0m\u001b[0mself\u001b[0m\u001b[0;34m.\u001b[0m\u001b[0mcolumns\u001b[0m\u001b[0;34m,\u001b[0m \u001b[0mMultiIndex\u001b[0m\u001b[0;34m)\u001b[0m\u001b[0;34m:\u001b[0m\u001b[0;34m\u001b[0m\u001b[0;34m\u001b[0m\u001b[0m\n\u001b[1;32m    266\u001b[0m             \u001b[0mtemplate\u001b[0m \u001b[0;34m=\u001b[0m \u001b[0;34m'colspan=\"{span:d}\" halign=\"left\"'\u001b[0m\u001b[0;34m\u001b[0m\u001b[0;34m\u001b[0m\u001b[0m\n\u001b[0;32m--> 267\u001b[0;31m \u001b[0;34m\u001b[0m\u001b[0m\n\u001b[0m\u001b[1;32m    268\u001b[0m             \u001b[0msentinel\u001b[0m\u001b[0;34m:\u001b[0m \u001b[0mlib\u001b[0m\u001b[0;34m.\u001b[0m\u001b[0mNoDefault\u001b[0m \u001b[0;34m|\u001b[0m \u001b[0mbool\u001b[0m\u001b[0;34m\u001b[0m\u001b[0;34m\u001b[0m\u001b[0m\n\u001b[1;32m    269\u001b[0m             \u001b[0;32mif\u001b[0m \u001b[0mself\u001b[0m\u001b[0;34m.\u001b[0m\u001b[0mfmt\u001b[0m\u001b[0;34m.\u001b[0m\u001b[0msparsify\u001b[0m\u001b[0;34m:\u001b[0m\u001b[0;34m\u001b[0m\u001b[0;34m\u001b[0m\u001b[0m\n",
            "\u001b[0;32m/usr/local/lib/python3.10/dist-packages/pandas/io/formats/html.py\u001b[0m in \u001b[0;36m_write_header\u001b[0;34m(self, indent)\u001b[0m\n\u001b[1;32m    401\u001b[0m             \u001b[0mfmt_values\u001b[0m \u001b[0;34m=\u001b[0m \u001b[0;34m{\u001b[0m\u001b[0mi\u001b[0m\u001b[0;34m:\u001b[0m \u001b[0mself\u001b[0m\u001b[0;34m.\u001b[0m\u001b[0mfmt\u001b[0m\u001b[0;34m.\u001b[0m\u001b[0mformat_col\u001b[0m\u001b[0;34m(\u001b[0m\u001b[0mi\u001b[0m\u001b[0;34m)\u001b[0m \u001b[0;32mfor\u001b[0m \u001b[0mi\u001b[0m \u001b[0;32min\u001b[0m \u001b[0mrange\u001b[0m\u001b[0;34m(\u001b[0m\u001b[0mself\u001b[0m\u001b[0;34m.\u001b[0m\u001b[0mncols\u001b[0m\u001b[0;34m)\u001b[0m\u001b[0;34m}\u001b[0m\u001b[0;34m\u001b[0m\u001b[0;34m\u001b[0m\u001b[0m\n\u001b[1;32m    402\u001b[0m         \u001b[0;32mreturn\u001b[0m \u001b[0mfmt_values\u001b[0m\u001b[0;34m\u001b[0m\u001b[0;34m\u001b[0m\u001b[0m\n\u001b[0;32m--> 403\u001b[0;31m \u001b[0;34m\u001b[0m\u001b[0m\n\u001b[0m\u001b[1;32m    404\u001b[0m     \u001b[0;32mdef\u001b[0m \u001b[0m_write_body\u001b[0m\u001b[0;34m(\u001b[0m\u001b[0mself\u001b[0m\u001b[0;34m,\u001b[0m \u001b[0mindent\u001b[0m\u001b[0;34m:\u001b[0m \u001b[0mint\u001b[0m\u001b[0;34m)\u001b[0m \u001b[0;34m->\u001b[0m \u001b[0;32mNone\u001b[0m\u001b[0;34m:\u001b[0m\u001b[0;34m\u001b[0m\u001b[0;34m\u001b[0m\u001b[0m\n\u001b[1;32m    405\u001b[0m         \u001b[0mself\u001b[0m\u001b[0;34m.\u001b[0m\u001b[0mwrite\u001b[0m\u001b[0;34m(\u001b[0m\u001b[0;34m\"<tbody>\"\u001b[0m\u001b[0;34m,\u001b[0m \u001b[0mindent\u001b[0m\u001b[0;34m)\u001b[0m\u001b[0;34m\u001b[0m\u001b[0;34m\u001b[0m\u001b[0m\n",
            "\u001b[0;32m/usr/local/lib/python3.10/dist-packages/pandas/io/formats/html.py\u001b[0m in \u001b[0;36m_write_col_header\u001b[0;34m(self, indent)\u001b[0m\n\u001b[1;32m    381\u001b[0m     \u001b[0;32mdef\u001b[0m \u001b[0m_write_row_header\u001b[0m\u001b[0;34m(\u001b[0m\u001b[0mself\u001b[0m\u001b[0;34m,\u001b[0m \u001b[0mindent\u001b[0m\u001b[0;34m:\u001b[0m \u001b[0mint\u001b[0m\u001b[0;34m)\u001b[0m \u001b[0;34m->\u001b[0m \u001b[0;32mNone\u001b[0m\u001b[0;34m:\u001b[0m\u001b[0;34m\u001b[0m\u001b[0;34m\u001b[0m\u001b[0m\n\u001b[1;32m    382\u001b[0m         \u001b[0mis_truncated_horizontally\u001b[0m \u001b[0;34m=\u001b[0m \u001b[0mself\u001b[0m\u001b[0;34m.\u001b[0m\u001b[0mfmt\u001b[0m\u001b[0;34m.\u001b[0m\u001b[0mis_truncated_horizontally\u001b[0m\u001b[0;34m\u001b[0m\u001b[0;34m\u001b[0m\u001b[0m\n\u001b[0;32m--> 383\u001b[0;31m         row = [x if x is not None else \"\" for x in self.frame.index.names] + [\"\"] * (\n\u001b[0m\u001b[1;32m    384\u001b[0m             \u001b[0mself\u001b[0m\u001b[0;34m.\u001b[0m\u001b[0mncols\u001b[0m \u001b[0;34m+\u001b[0m \u001b[0;34m(\u001b[0m\u001b[0;36m1\u001b[0m \u001b[0;32mif\u001b[0m \u001b[0mis_truncated_horizontally\u001b[0m \u001b[0;32melse\u001b[0m \u001b[0;36m0\u001b[0m\u001b[0;34m)\u001b[0m\u001b[0;34m\u001b[0m\u001b[0;34m\u001b[0m\u001b[0m\n\u001b[1;32m    385\u001b[0m         )\n",
            "\u001b[0;32m/usr/local/lib/python3.10/dist-packages/pandas/io/formats/html.py\u001b[0m in \u001b[0;36m_get_columns_formatted_values\u001b[0;34m(self)\u001b[0m\n\u001b[1;32m    609\u001b[0m         template_select = \"\"\"\\\n\u001b[1;32m    610\u001b[0m                 .dataframe %s {\n\u001b[0;32m--> 611\u001b[0;31m                     \u001b[0;34m%\u001b[0m\u001b[0ms\u001b[0m\u001b[0;34m:\u001b[0m \u001b[0;34m%\u001b[0m\u001b[0ms\u001b[0m\u001b[0;34m;\u001b[0m\u001b[0;34m\u001b[0m\u001b[0;34m\u001b[0m\u001b[0m\n\u001b[0m\u001b[1;32m    612\u001b[0m                 }\"\"\"\n\u001b[1;32m    613\u001b[0m         element_props = [\n",
            "\u001b[0;31mAttributeError\u001b[0m: 'Index' object has no attribute '_format_flat'"
          ]
        },
        {
          "output_type": "execute_result",
          "data": {
            "text/plain": [
              "   Unnamed: 0 symbol                       date   close    high     low  \\\n",
              "0           0   AAPL  2019-11-04 00:00:00+00:00  257.50  257.85  255.38   \n",
              "1           1   AAPL  2019-11-05 00:00:00+00:00  257.13  258.19  256.32   \n",
              "2           2   AAPL  2019-11-06 00:00:00+00:00  257.24  257.49  255.37   \n",
              "3           3   AAPL  2019-11-07 00:00:00+00:00  259.43  260.35  258.11   \n",
              "4           4   AAPL  2019-11-08 00:00:00+00:00  260.14  260.44  256.85   \n",
              "\n",
              "     open    volume   adjClose    adjHigh     adjLow    adjOpen  adjVolume  \\\n",
              "0  257.33  25817952  62.295381  62.380055  61.782503  62.254254  103271808   \n",
              "1  257.05  19974427  62.205870  62.462309  62.009911  62.186516   79897708   \n",
              "2  256.77  18966124  62.232481  62.292962  61.780084  62.118777   75864496   \n",
              "3  258.74  23735083  62.948576  63.171806  62.628288  62.781153   94940332   \n",
              "4  258.69  17520495  63.120851  63.193644  62.322560  62.769021   70081980   \n",
              "\n",
              "   divCash  splitFactor  \n",
              "0     0.00          1.0  \n",
              "1     0.00          1.0  \n",
              "2     0.00          1.0  \n",
              "3     0.77          1.0  \n",
              "4     0.00          1.0  "
            ],
            "application/vnd.google.colaboratory.intrinsic+json": {
              "type": "dataframe",
              "variable_name": "df",
              "summary": "{\n  \"name\": \"df\",\n  \"rows\": 1257,\n  \"fields\": [\n    {\n      \"column\": \"Unnamed: 0\",\n      \"properties\": {\n        \"dtype\": \"number\",\n        \"std\": 363,\n        \"min\": 0,\n        \"max\": 1256,\n        \"num_unique_values\": 1257,\n        \"samples\": [\n          435,\n          101,\n          51\n        ],\n        \"semantic_type\": \"\",\n        \"description\": \"\"\n      }\n    },\n    {\n      \"column\": \"symbol\",\n      \"properties\": {\n        \"dtype\": \"category\",\n        \"num_unique_values\": 1,\n        \"samples\": [\n          \"AAPL\"\n        ],\n        \"semantic_type\": \"\",\n        \"description\": \"\"\n      }\n    },\n    {\n      \"column\": \"date\",\n      \"properties\": {\n        \"dtype\": \"object\",\n        \"num_unique_values\": 1257,\n        \"samples\": [\n          \"2021-07-28 00:00:00+00:00\"\n        ],\n        \"semantic_type\": \"\",\n        \"description\": \"\"\n      }\n    },\n    {\n      \"column\": \"close\",\n      \"properties\": {\n        \"dtype\": \"number\",\n        \"std\": 69.41041285918367,\n        \"min\": 106.84,\n        \"max\": 506.09,\n        \"num_unique_values\": 1195,\n        \"samples\": [\n          142.64\n        ],\n        \"semantic_type\": \"\",\n        \"description\": \"\"\n      }\n    },\n    {\n      \"column\": \"high\",\n      \"properties\": {\n        \"dtype\": \"number\",\n        \"std\": 70.06499147571786,\n        \"min\": 110.19,\n        \"max\": 515.14,\n        \"num_unique_values\": 1212,\n        \"samples\": [\n          151.3\n        ],\n        \"semantic_type\": \"\",\n        \"description\": \"\"\n      }\n    },\n    {\n      \"column\": \"low\",\n      \"properties\": {\n        \"dtype\": \"number\",\n        \"std\": 68.40812640740394,\n        \"min\": 103.1,\n        \"max\": 500.33,\n        \"num_unique_values\": 1222,\n        \"samples\": [\n          113.55\n        ],\n        \"semantic_type\": \"\",\n        \"description\": \"\"\n      }\n    },\n    {\n      \"column\": \"open\",\n      \"properties\": {\n        \"dtype\": \"number\",\n        \"std\": 69.13771230826481,\n        \"min\": 104.54,\n        \"max\": 514.79,\n        \"num_unique_values\": 1202,\n        \"samples\": [\n          218.93\n        ],\n        \"semantic_type\": \"\",\n        \"description\": \"\"\n      }\n    },\n    {\n      \"column\": \"volume\",\n      \"properties\": {\n        \"dtype\": \"number\",\n        \"std\": 37100368,\n        \"min\": 11654363,\n        \"max\": 332607163,\n        \"num_unique_values\": 1257,\n        \"samples\": [\n          118931191\n        ],\n        \"semantic_type\": \"\",\n        \"description\": \"\"\n      }\n    },\n    {\n      \"column\": \"adjClose\",\n      \"properties\": {\n        \"dtype\": \"number\",\n        \"std\": 41.71636505845451,\n        \"min\": 54.5725400388,\n        \"max\": 236.48,\n        \"num_unique_values\": 1243,\n        \"samples\": [\n          183.8261897301\n        ],\n        \"semantic_type\": \"\",\n        \"description\": \"\"\n      }\n    },\n    {\n      \"column\": \"adjHigh\",\n      \"properties\": {\n        \"dtype\": \"number\",\n        \"std\": 41.947674756237504,\n        \"min\": 55.5770619908,\n        \"max\": 237.49,\n        \"num_unique_values\": 1246,\n        \"samples\": [\n          141.3379023811\n        ],\n        \"semantic_type\": \"\",\n        \"description\": \"\"\n      }\n    },\n    {\n      \"column\": \"adjLow\",\n      \"properties\": {\n        \"dtype\": \"number\",\n        \"std\": 41.46434350678449,\n        \"min\": 51.7122063451,\n        \"max\": 234.45,\n        \"num_unique_values\": 1250,\n        \"samples\": [\n          148.9443643458\n        ],\n        \"semantic_type\": \"\",\n        \"description\": \"\"\n      }\n    },\n    {\n      \"column\": \"adjOpen\",\n      \"properties\": {\n        \"dtype\": \"number\",\n        \"std\": 41.72476065617064,\n        \"min\": 55.474907216,\n        \"max\": 236.2085333823,\n        \"num_unique_values\": 1244,\n        \"samples\": [\n          131.744950512\n        ],\n        \"semantic_type\": \"\",\n        \"description\": \"\"\n      }\n    },\n    {\n      \"column\": \"adjVolume\",\n      \"properties\": {\n        \"dtype\": \"number\",\n        \"std\": 52956119,\n        \"min\": 24048344,\n        \"max\": 426884920,\n        \"num_unique_values\": 1257,\n        \"samples\": [\n          118931191\n        ],\n        \"semantic_type\": \"\",\n        \"description\": \"\"\n      }\n    },\n    {\n      \"column\": \"divCash\",\n      \"properties\": {\n        \"dtype\": \"number\",\n        \"std\": 0.051551725941842395,\n        \"min\": 0.0,\n        \"max\": 0.82,\n        \"num_unique_values\": 8,\n        \"samples\": [\n          0.77\n        ],\n        \"semantic_type\": \"\",\n        \"description\": \"\"\n      }\n    },\n    {\n      \"column\": \"splitFactor\",\n      \"properties\": {\n        \"dtype\": \"number\",\n        \"std\": 0.08461621909897445,\n        \"min\": 1.0,\n        \"max\": 4.0,\n        \"num_unique_values\": 2,\n        \"samples\": [\n          4.0\n        ],\n        \"semantic_type\": \"\",\n        \"description\": \"\"\n      }\n    }\n  ]\n}"
            }
          },
          "metadata": {},
          "execution_count": 35
        }
      ]
    },
    {
      "cell_type": "code",
      "source": [
        "df.tail()"
      ],
      "metadata": {
        "colab": {
          "base_uri": "https://localhost:8080/",
          "height": 720
        },
        "id": "8lo8GthExHx4",
        "outputId": "73bd83cd-d427-4ac2-94a8-1a9b744dffa6",
        "collapsed": true
      },
      "execution_count": null,
      "outputs": [
        {
          "output_type": "error",
          "ename": "AttributeError",
          "evalue": "'Index' object has no attribute '_format_flat'",
          "traceback": [
            "\u001b[0;31m---------------------------------------------------------------------------\u001b[0m",
            "\u001b[0;31mAttributeError\u001b[0m                            Traceback (most recent call last)",
            "\u001b[0;32m/usr/local/lib/python3.10/dist-packages/IPython/core/formatters.py\u001b[0m in \u001b[0;36m__call__\u001b[0;34m(self, obj)\u001b[0m\n\u001b[1;32m    339\u001b[0m                 \u001b[0;32mpass\u001b[0m\u001b[0;34m\u001b[0m\u001b[0;34m\u001b[0m\u001b[0m\n\u001b[1;32m    340\u001b[0m             \u001b[0;32melse\u001b[0m\u001b[0;34m:\u001b[0m\u001b[0;34m\u001b[0m\u001b[0;34m\u001b[0m\u001b[0m\n\u001b[0;32m--> 341\u001b[0;31m                 \u001b[0;32mreturn\u001b[0m \u001b[0mprinter\u001b[0m\u001b[0;34m(\u001b[0m\u001b[0mobj\u001b[0m\u001b[0;34m)\u001b[0m\u001b[0;34m\u001b[0m\u001b[0;34m\u001b[0m\u001b[0m\n\u001b[0m\u001b[1;32m    342\u001b[0m             \u001b[0;31m# Finally look for special method names\u001b[0m\u001b[0;34m\u001b[0m\u001b[0;34m\u001b[0m\u001b[0m\n\u001b[1;32m    343\u001b[0m             \u001b[0mmethod\u001b[0m \u001b[0;34m=\u001b[0m \u001b[0mget_real_method\u001b[0m\u001b[0;34m(\u001b[0m\u001b[0mobj\u001b[0m\u001b[0;34m,\u001b[0m \u001b[0mself\u001b[0m\u001b[0;34m.\u001b[0m\u001b[0mprint_method\u001b[0m\u001b[0;34m)\u001b[0m\u001b[0;34m\u001b[0m\u001b[0;34m\u001b[0m\u001b[0m\n",
            "\u001b[0;32m/usr/local/lib/python3.10/dist-packages/google/colab/_quickchart_hint_button.py\u001b[0m in \u001b[0;36m_df_formatter_with_hint_buttons\u001b[0;34m(df)\u001b[0m\n\u001b[1;32m    256\u001b[0m     \u001b[0mbuttons\u001b[0m\u001b[0;34m.\u001b[0m\u001b[0mappend\u001b[0m\u001b[0;34m(\u001b[0m\u001b[0m_generate_with_variable\u001b[0m\u001b[0;34m.\u001b[0m\u001b[0mget_html\u001b[0m\u001b[0;34m(\u001b[0m\u001b[0mdf\u001b[0m\u001b[0;34m)\u001b[0m\u001b[0;34m)\u001b[0m\u001b[0;34m\u001b[0m\u001b[0;34m\u001b[0m\u001b[0m\n\u001b[1;32m    257\u001b[0m   \u001b[0;31m# pylint: disable=protected-access\u001b[0m\u001b[0;34m\u001b[0m\u001b[0;34m\u001b[0m\u001b[0m\n\u001b[0;32m--> 258\u001b[0;31m   html = _interactive_table_hint_button._df_formatter_with_interactive_hint(\n\u001b[0m\u001b[1;32m    259\u001b[0m       \u001b[0mdf\u001b[0m\u001b[0;34m,\u001b[0m \u001b[0mbuttons\u001b[0m\u001b[0;34m\u001b[0m\u001b[0;34m\u001b[0m\u001b[0m\n\u001b[1;32m    260\u001b[0m   )\n",
            "\u001b[0;32m/usr/local/lib/python3.10/dist-packages/google/colab/_interactive_table_hint_button.py\u001b[0m in \u001b[0;36m_df_formatter_with_interactive_hint\u001b[0;34m(dataframe, buttons)\u001b[0m\n\u001b[1;32m    120\u001b[0m     \u001b[0mbuttons\u001b[0m \u001b[0;34m=\u001b[0m \u001b[0;34m[\u001b[0m\u001b[0;34m]\u001b[0m\u001b[0;34m\u001b[0m\u001b[0;34m\u001b[0m\u001b[0m\n\u001b[1;32m    121\u001b[0m   \u001b[0mbuttons\u001b[0m\u001b[0;34m.\u001b[0m\u001b[0minsert\u001b[0m\u001b[0;34m(\u001b[0m\u001b[0;36m0\u001b[0m\u001b[0;34m,\u001b[0m \u001b[0m_get_button_html\u001b[0m\u001b[0;34m(\u001b[0m\u001b[0mkey\u001b[0m\u001b[0;34m)\u001b[0m\u001b[0;34m)\u001b[0m\u001b[0;34m\u001b[0m\u001b[0;34m\u001b[0m\u001b[0m\n\u001b[0;32m--> 122\u001b[0;31m   \u001b[0;32mreturn\u001b[0m \u001b[0m_get_html\u001b[0m\u001b[0;34m(\u001b[0m\u001b[0mdataframe\u001b[0m\u001b[0;34m,\u001b[0m \u001b[0mkey\u001b[0m\u001b[0;34m,\u001b[0m \u001b[0mbuttons\u001b[0m\u001b[0;34m)\u001b[0m\u001b[0;34m\u001b[0m\u001b[0;34m\u001b[0m\u001b[0m\n\u001b[0m\u001b[1;32m    123\u001b[0m \u001b[0;34m\u001b[0m\u001b[0m\n\u001b[1;32m    124\u001b[0m \u001b[0;34m\u001b[0m\u001b[0m\n",
            "\u001b[0;32m/usr/local/lib/python3.10/dist-packages/google/colab/_interactive_table_hint_button.py\u001b[0m in \u001b[0;36m_get_html\u001b[0;34m(dataframe, key, buttons)\u001b[0m\n\u001b[1;32m    176\u001b[0m   \"\"\".format(\n\u001b[1;32m    177\u001b[0m       \u001b[0mkey\u001b[0m\u001b[0;34m=\u001b[0m\u001b[0mkey\u001b[0m\u001b[0;34m,\u001b[0m\u001b[0;34m\u001b[0m\u001b[0;34m\u001b[0m\u001b[0m\n\u001b[0;32m--> 178\u001b[0;31m       \u001b[0mdf_html\u001b[0m\u001b[0;34m=\u001b[0m\u001b[0mdataframe\u001b[0m\u001b[0;34m.\u001b[0m\u001b[0m_repr_html_\u001b[0m\u001b[0;34m(\u001b[0m\u001b[0;34m)\u001b[0m\u001b[0;34m,\u001b[0m  \u001b[0;31m# pylint: disable=protected-access\u001b[0m\u001b[0;34m\u001b[0m\u001b[0;34m\u001b[0m\u001b[0m\n\u001b[0m\u001b[1;32m    179\u001b[0m       \u001b[0mbuttons_str\u001b[0m\u001b[0;34m=\u001b[0m\u001b[0mbuttons_str\u001b[0m\u001b[0;34m,\u001b[0m\u001b[0;34m\u001b[0m\u001b[0;34m\u001b[0m\u001b[0m\n\u001b[1;32m    180\u001b[0m   )\n",
            "\u001b[0;32m/usr/local/lib/python3.10/dist-packages/pandas/core/frame.py\u001b[0m in \u001b[0;36m_repr_html_\u001b[0;34m(self)\u001b[0m\n\u001b[1;32m   1104\u001b[0m                 \u001b[0mdecimal\u001b[0m\u001b[0;34m=\u001b[0m\u001b[0;34m\".\"\u001b[0m\u001b[0;34m,\u001b[0m\u001b[0;34m\u001b[0m\u001b[0;34m\u001b[0m\u001b[0m\n\u001b[1;32m   1105\u001b[0m             )\n\u001b[0;32m-> 1106\u001b[0;31m             \u001b[0;32mreturn\u001b[0m \u001b[0mfmt\u001b[0m\u001b[0;34m.\u001b[0m\u001b[0mDataFrameRenderer\u001b[0m\u001b[0;34m(\u001b[0m\u001b[0mformatter\u001b[0m\u001b[0;34m)\u001b[0m\u001b[0;34m.\u001b[0m\u001b[0mto_html\u001b[0m\u001b[0;34m(\u001b[0m\u001b[0mnotebook\u001b[0m\u001b[0;34m=\u001b[0m\u001b[0;32mTrue\u001b[0m\u001b[0;34m)\u001b[0m\u001b[0;34m\u001b[0m\u001b[0;34m\u001b[0m\u001b[0m\n\u001b[0m\u001b[1;32m   1107\u001b[0m         \u001b[0;32melse\u001b[0m\u001b[0;34m:\u001b[0m\u001b[0;34m\u001b[0m\u001b[0;34m\u001b[0m\u001b[0m\n\u001b[1;32m   1108\u001b[0m             \u001b[0;32mreturn\u001b[0m \u001b[0;32mNone\u001b[0m\u001b[0;34m\u001b[0m\u001b[0;34m\u001b[0m\u001b[0m\n",
            "\u001b[0;32m/usr/local/lib/python3.10/dist-packages/pandas/io/formats/format.py\u001b[0m in \u001b[0;36mto_html\u001b[0;34m(self, buf, encoding, classes, notebook, border, table_id, render_links)\u001b[0m\n\u001b[1;32m   1108\u001b[0m             \u001b[0mrender_links\u001b[0m\u001b[0;34m=\u001b[0m\u001b[0mrender_links\u001b[0m\u001b[0;34m,\u001b[0m\u001b[0;34m\u001b[0m\u001b[0;34m\u001b[0m\u001b[0m\n\u001b[1;32m   1109\u001b[0m         )\n\u001b[0;32m-> 1110\u001b[0;31m         \u001b[0mstring\u001b[0m \u001b[0;34m=\u001b[0m \u001b[0mhtml_formatter\u001b[0m\u001b[0;34m.\u001b[0m\u001b[0mto_string\u001b[0m\u001b[0;34m(\u001b[0m\u001b[0;34m)\u001b[0m\u001b[0;34m\u001b[0m\u001b[0;34m\u001b[0m\u001b[0m\n\u001b[0m\u001b[1;32m   1111\u001b[0m         \u001b[0;32mreturn\u001b[0m \u001b[0msave_to_buffer\u001b[0m\u001b[0;34m(\u001b[0m\u001b[0mstring\u001b[0m\u001b[0;34m,\u001b[0m \u001b[0mbuf\u001b[0m\u001b[0;34m=\u001b[0m\u001b[0mbuf\u001b[0m\u001b[0;34m,\u001b[0m \u001b[0mencoding\u001b[0m\u001b[0;34m=\u001b[0m\u001b[0mencoding\u001b[0m\u001b[0;34m)\u001b[0m\u001b[0;34m\u001b[0m\u001b[0;34m\u001b[0m\u001b[0m\n\u001b[1;32m   1112\u001b[0m \u001b[0;34m\u001b[0m\u001b[0m\n",
            "\u001b[0;32m/usr/local/lib/python3.10/dist-packages/pandas/io/formats/html.py\u001b[0m in \u001b[0;36mto_string\u001b[0;34m(self)\u001b[0m\n\u001b[1;32m     86\u001b[0m             \u001b[0mby\u001b[0m \u001b[0;34m=\u001b[0m \u001b[0mchr\u001b[0m\u001b[0;34m(\u001b[0m\u001b[0;36m215\u001b[0m\u001b[0;34m)\u001b[0m  \u001b[0;31m# ×\u001b[0m\u001b[0;34m\u001b[0m\u001b[0;34m\u001b[0m\u001b[0m\n\u001b[1;32m     87\u001b[0m             self.write(\n\u001b[0;32m---> 88\u001b[0;31m                 \u001b[0;34mf\"<p>{len(self.frame)} rows {by} {len(self.frame.columns)} columns</p>\"\u001b[0m\u001b[0;34m\u001b[0m\u001b[0;34m\u001b[0m\u001b[0m\n\u001b[0m\u001b[1;32m     89\u001b[0m             )\n\u001b[1;32m     90\u001b[0m \u001b[0;34m\u001b[0m\u001b[0m\n",
            "\u001b[0;32m/usr/local/lib/python3.10/dist-packages/pandas/io/formats/html.py\u001b[0m in \u001b[0;36mrender\u001b[0;34m(self)\u001b[0m\n",
            "\u001b[0;32m/usr/local/lib/python3.10/dist-packages/pandas/io/formats/html.py\u001b[0m in \u001b[0;36mrender\u001b[0;34m(self)\u001b[0m\n\u001b[1;32m     92\u001b[0m \u001b[0;34m\u001b[0m\u001b[0m\n\u001b[1;32m     93\u001b[0m     \u001b[0;34m@\u001b[0m\u001b[0mproperty\u001b[0m\u001b[0;34m\u001b[0m\u001b[0;34m\u001b[0m\u001b[0m\n\u001b[0;32m---> 94\u001b[0;31m     \u001b[0;32mdef\u001b[0m \u001b[0mshould_show_dimensions\u001b[0m\u001b[0;34m(\u001b[0m\u001b[0mself\u001b[0m\u001b[0;34m)\u001b[0m \u001b[0;34m->\u001b[0m \u001b[0mbool\u001b[0m\u001b[0;34m:\u001b[0m\u001b[0;34m\u001b[0m\u001b[0;34m\u001b[0m\u001b[0m\n\u001b[0m\u001b[1;32m     95\u001b[0m         \u001b[0;32mreturn\u001b[0m \u001b[0mself\u001b[0m\u001b[0;34m.\u001b[0m\u001b[0mfmt\u001b[0m\u001b[0;34m.\u001b[0m\u001b[0mshould_show_dimensions\u001b[0m\u001b[0;34m\u001b[0m\u001b[0;34m\u001b[0m\u001b[0m\n\u001b[1;32m     96\u001b[0m \u001b[0;34m\u001b[0m\u001b[0m\n",
            "\u001b[0;32m/usr/local/lib/python3.10/dist-packages/pandas/io/formats/html.py\u001b[0m in \u001b[0;36m_write_table\u001b[0;34m(self, indent)\u001b[0m\n\u001b[1;32m    265\u001b[0m         \u001b[0;32mif\u001b[0m \u001b[0misinstance\u001b[0m\u001b[0;34m(\u001b[0m\u001b[0mself\u001b[0m\u001b[0;34m.\u001b[0m\u001b[0mcolumns\u001b[0m\u001b[0;34m,\u001b[0m \u001b[0mMultiIndex\u001b[0m\u001b[0;34m)\u001b[0m\u001b[0;34m:\u001b[0m\u001b[0;34m\u001b[0m\u001b[0;34m\u001b[0m\u001b[0m\n\u001b[1;32m    266\u001b[0m             \u001b[0mtemplate\u001b[0m \u001b[0;34m=\u001b[0m \u001b[0;34m'colspan=\"{span:d}\" halign=\"left\"'\u001b[0m\u001b[0;34m\u001b[0m\u001b[0;34m\u001b[0m\u001b[0m\n\u001b[0;32m--> 267\u001b[0;31m \u001b[0;34m\u001b[0m\u001b[0m\n\u001b[0m\u001b[1;32m    268\u001b[0m             \u001b[0msentinel\u001b[0m\u001b[0;34m:\u001b[0m \u001b[0mlib\u001b[0m\u001b[0;34m.\u001b[0m\u001b[0mNoDefault\u001b[0m \u001b[0;34m|\u001b[0m \u001b[0mbool\u001b[0m\u001b[0;34m\u001b[0m\u001b[0;34m\u001b[0m\u001b[0m\n\u001b[1;32m    269\u001b[0m             \u001b[0;32mif\u001b[0m \u001b[0mself\u001b[0m\u001b[0;34m.\u001b[0m\u001b[0mfmt\u001b[0m\u001b[0;34m.\u001b[0m\u001b[0msparsify\u001b[0m\u001b[0;34m:\u001b[0m\u001b[0;34m\u001b[0m\u001b[0;34m\u001b[0m\u001b[0m\n",
            "\u001b[0;32m/usr/local/lib/python3.10/dist-packages/pandas/io/formats/html.py\u001b[0m in \u001b[0;36m_write_header\u001b[0;34m(self, indent)\u001b[0m\n\u001b[1;32m    401\u001b[0m             \u001b[0mfmt_values\u001b[0m \u001b[0;34m=\u001b[0m \u001b[0;34m{\u001b[0m\u001b[0mi\u001b[0m\u001b[0;34m:\u001b[0m \u001b[0mself\u001b[0m\u001b[0;34m.\u001b[0m\u001b[0mfmt\u001b[0m\u001b[0;34m.\u001b[0m\u001b[0mformat_col\u001b[0m\u001b[0;34m(\u001b[0m\u001b[0mi\u001b[0m\u001b[0;34m)\u001b[0m \u001b[0;32mfor\u001b[0m \u001b[0mi\u001b[0m \u001b[0;32min\u001b[0m \u001b[0mrange\u001b[0m\u001b[0;34m(\u001b[0m\u001b[0mself\u001b[0m\u001b[0;34m.\u001b[0m\u001b[0mncols\u001b[0m\u001b[0;34m)\u001b[0m\u001b[0;34m}\u001b[0m\u001b[0;34m\u001b[0m\u001b[0;34m\u001b[0m\u001b[0m\n\u001b[1;32m    402\u001b[0m         \u001b[0;32mreturn\u001b[0m \u001b[0mfmt_values\u001b[0m\u001b[0;34m\u001b[0m\u001b[0;34m\u001b[0m\u001b[0m\n\u001b[0;32m--> 403\u001b[0;31m \u001b[0;34m\u001b[0m\u001b[0m\n\u001b[0m\u001b[1;32m    404\u001b[0m     \u001b[0;32mdef\u001b[0m \u001b[0m_write_body\u001b[0m\u001b[0;34m(\u001b[0m\u001b[0mself\u001b[0m\u001b[0;34m,\u001b[0m \u001b[0mindent\u001b[0m\u001b[0;34m:\u001b[0m \u001b[0mint\u001b[0m\u001b[0;34m)\u001b[0m \u001b[0;34m->\u001b[0m \u001b[0;32mNone\u001b[0m\u001b[0;34m:\u001b[0m\u001b[0;34m\u001b[0m\u001b[0;34m\u001b[0m\u001b[0m\n\u001b[1;32m    405\u001b[0m         \u001b[0mself\u001b[0m\u001b[0;34m.\u001b[0m\u001b[0mwrite\u001b[0m\u001b[0;34m(\u001b[0m\u001b[0;34m\"<tbody>\"\u001b[0m\u001b[0;34m,\u001b[0m \u001b[0mindent\u001b[0m\u001b[0;34m)\u001b[0m\u001b[0;34m\u001b[0m\u001b[0;34m\u001b[0m\u001b[0m\n",
            "\u001b[0;32m/usr/local/lib/python3.10/dist-packages/pandas/io/formats/html.py\u001b[0m in \u001b[0;36m_write_col_header\u001b[0;34m(self, indent)\u001b[0m\n\u001b[1;32m    381\u001b[0m     \u001b[0;32mdef\u001b[0m \u001b[0m_write_row_header\u001b[0m\u001b[0;34m(\u001b[0m\u001b[0mself\u001b[0m\u001b[0;34m,\u001b[0m \u001b[0mindent\u001b[0m\u001b[0;34m:\u001b[0m \u001b[0mint\u001b[0m\u001b[0;34m)\u001b[0m \u001b[0;34m->\u001b[0m \u001b[0;32mNone\u001b[0m\u001b[0;34m:\u001b[0m\u001b[0;34m\u001b[0m\u001b[0;34m\u001b[0m\u001b[0m\n\u001b[1;32m    382\u001b[0m         \u001b[0mis_truncated_horizontally\u001b[0m \u001b[0;34m=\u001b[0m \u001b[0mself\u001b[0m\u001b[0;34m.\u001b[0m\u001b[0mfmt\u001b[0m\u001b[0;34m.\u001b[0m\u001b[0mis_truncated_horizontally\u001b[0m\u001b[0;34m\u001b[0m\u001b[0;34m\u001b[0m\u001b[0m\n\u001b[0;32m--> 383\u001b[0;31m         row = [x if x is not None else \"\" for x in self.frame.index.names] + [\"\"] * (\n\u001b[0m\u001b[1;32m    384\u001b[0m             \u001b[0mself\u001b[0m\u001b[0;34m.\u001b[0m\u001b[0mncols\u001b[0m \u001b[0;34m+\u001b[0m \u001b[0;34m(\u001b[0m\u001b[0;36m1\u001b[0m \u001b[0;32mif\u001b[0m \u001b[0mis_truncated_horizontally\u001b[0m \u001b[0;32melse\u001b[0m \u001b[0;36m0\u001b[0m\u001b[0;34m)\u001b[0m\u001b[0;34m\u001b[0m\u001b[0;34m\u001b[0m\u001b[0m\n\u001b[1;32m    385\u001b[0m         )\n",
            "\u001b[0;32m/usr/local/lib/python3.10/dist-packages/pandas/io/formats/html.py\u001b[0m in \u001b[0;36m_get_columns_formatted_values\u001b[0;34m(self)\u001b[0m\n\u001b[1;32m    609\u001b[0m         template_select = \"\"\"\\\n\u001b[1;32m    610\u001b[0m                 .dataframe %s {\n\u001b[0;32m--> 611\u001b[0;31m                     \u001b[0;34m%\u001b[0m\u001b[0ms\u001b[0m\u001b[0;34m:\u001b[0m \u001b[0;34m%\u001b[0m\u001b[0ms\u001b[0m\u001b[0;34m;\u001b[0m\u001b[0;34m\u001b[0m\u001b[0;34m\u001b[0m\u001b[0m\n\u001b[0m\u001b[1;32m    612\u001b[0m                 }\"\"\"\n\u001b[1;32m    613\u001b[0m         element_props = [\n",
            "\u001b[0;31mAttributeError\u001b[0m: 'Index' object has no attribute '_format_flat'"
          ]
        },
        {
          "output_type": "execute_result",
          "data": {
            "text/plain": [
              "     symbol                       date   close     high     low    open  \\\n",
              "1252   AAPL  2024-10-25 00:00:00+00:00  231.41  233.220  229.57  229.74   \n",
              "1253   AAPL  2024-10-28 00:00:00+00:00  233.40  234.730  232.55  233.32   \n",
              "1254   AAPL  2024-10-29 00:00:00+00:00  233.67  234.325  232.32  233.10   \n",
              "1255   AAPL  2024-10-30 00:00:00+00:00  230.10  233.470  229.55  232.61   \n",
              "1256   AAPL  2024-10-31 00:00:00+00:00  225.91  229.830  225.37  229.34   \n",
              "\n",
              "        volume  adjClose  adjHigh  adjLow  adjOpen  adjVolume  divCash  \\\n",
              "1252  38802304    231.41  233.220  229.57   229.74   38802304      0.0   \n",
              "1253  36087134    233.40  234.730  232.55   233.32   36087134      0.0   \n",
              "1254  35417247    233.67  234.325  232.32   233.10   35417247      0.0   \n",
              "1255  47070907    230.10  233.470  229.55   232.61   47070907      0.0   \n",
              "1256  64370086    225.91  229.830  225.37   229.34   64370086      0.0   \n",
              "\n",
              "      splitFactor  \n",
              "1252          1.0  \n",
              "1253          1.0  \n",
              "1254          1.0  \n",
              "1255          1.0  \n",
              "1256          1.0  "
            ],
            "application/vnd.google.colaboratory.intrinsic+json": {
              "type": "dataframe",
              "repr_error": "0"
            }
          },
          "metadata": {},
          "execution_count": 24
        }
      ]
    },
    {
      "cell_type": "code",
      "source": [
        "df1 = df.reset_index()['close']"
      ],
      "metadata": {
        "id": "bSM_9zpyxN6z"
      },
      "execution_count": null,
      "outputs": []
    },
    {
      "cell_type": "code",
      "source": [
        "plt.plot(df1, label='AAPL')\n",
        "plt.xlabel('Time')\n",
        "plt.ylabel('price')"
      ],
      "metadata": {
        "colab": {
          "base_uri": "https://localhost:8080/",
          "height": 466
        },
        "id": "1qRnrnJh0F2N",
        "outputId": "02a56a05-18a2-43cb-8d31-c8657edd0ce9"
      },
      "execution_count": null,
      "outputs": [
        {
          "output_type": "execute_result",
          "data": {
            "text/plain": [
              "Text(0, 0.5, 'price')"
            ]
          },
          "metadata": {},
          "execution_count": 26
        },
        {
          "output_type": "display_data",
          "data": {
            "text/plain": [
              "<Figure size 640x480 with 1 Axes>"
            ],
            "image/png": "[encoded data removed]"
          },
          "metadata": {}
        }
      ]
    },
    {
      "cell_type": "markdown",
      "source": [
        "Method 1 for scaling [0, 1]"
      ],
      "metadata": {
        "id": "CFyMcuc16-TD"
      }
    },
    {
      "cell_type": "code",
      "source": [
        "mini = min(df['close'])\n",
        "print(mini)"
      ],
      "metadata": {
        "colab": {
          "base_uri": "https://localhost:8080/"
        },
        "id": "oOsZV5iG0xTu",
        "outputId": "162214ac-d95b-4372-c4e7-a419a704f959"
      },
      "execution_count": null,
      "outputs": [
        {
          "output_type": "stream",
          "name": "stdout",
          "text": [
            "106.84\n"
          ]
        }
      ]
    },
    {
      "cell_type": "code",
      "source": [
        "maxi = max(df['close'])\n",
        "print(maxi)"
      ],
      "metadata": {
        "colab": {
          "base_uri": "https://localhost:8080/"
        },
        "id": "CPFEozWi6aXK",
        "outputId": "a01ecf0b-5e6d-414e-8764-23df2e4bae63"
      },
      "execution_count": null,
      "outputs": [
        {
          "output_type": "stream",
          "name": "stdout",
          "text": [
            "506.09\n"
          ]
        }
      ]
    },
    {
      "cell_type": "code",
      "source": [
        "df1= (df['close']-mini)/(maxi - mini)"
      ],
      "metadata": {
        "id": "ZHaBPEJE6iER"
      },
      "execution_count": null,
      "outputs": []
    },
    {
      "cell_type": "code",
      "source": [
        "df1.head()"
      ],
      "metadata": {
        "colab": {
          "base_uri": "https://localhost:8080/",
          "height": 477
        },
        "id": "XlbPN2cQ62MI",
        "outputId": "69c7603b-88fd-42b0-d90c-c24c23428e3a",
        "collapsed": true
      },
      "execution_count": null,
      "outputs": [
        {
          "output_type": "error",
          "ename": "AttributeError",
          "evalue": "'Index' object has no attribute '_format_flat'",
          "traceback": [
            "\u001b[0;31m---------------------------------------------------------------------------\u001b[0m",
            "\u001b[0;31mAttributeError\u001b[0m                            Traceback (most recent call last)",
            "\u001b[0;32m/usr/local/lib/python3.10/dist-packages/IPython/core/formatters.py\u001b[0m in \u001b[0;36m__call__\u001b[0;34m(self, obj)\u001b[0m\n\u001b[1;32m    339\u001b[0m                 \u001b[0;32mpass\u001b[0m\u001b[0;34m\u001b[0m\u001b[0;34m\u001b[0m\u001b[0m\n\u001b[1;32m    340\u001b[0m             \u001b[0;32melse\u001b[0m\u001b[0;34m:\u001b[0m\u001b[0;34m\u001b[0m\u001b[0;34m\u001b[0m\u001b[0m\n\u001b[0;32m--> 341\u001b[0;31m                 \u001b[0;32mreturn\u001b[0m \u001b[0mprinter\u001b[0m\u001b[0;34m(\u001b[0m\u001b[0mobj\u001b[0m\u001b[0;34m)\u001b[0m\u001b[0;34m\u001b[0m\u001b[0;34m\u001b[0m\u001b[0m\n\u001b[0m\u001b[1;32m    342\u001b[0m             \u001b[0;31m# Finally look for special method names\u001b[0m\u001b[0;34m\u001b[0m\u001b[0;34m\u001b[0m\u001b[0m\n\u001b[1;32m    343\u001b[0m             \u001b[0mmethod\u001b[0m \u001b[0;34m=\u001b[0m \u001b[0mget_real_method\u001b[0m\u001b[0;34m(\u001b[0m\u001b[0mobj\u001b[0m\u001b[0;34m,\u001b[0m \u001b[0mself\u001b[0m\u001b[0;34m.\u001b[0m\u001b[0mprint_method\u001b[0m\u001b[0;34m)\u001b[0m\u001b[0;34m\u001b[0m\u001b[0;34m\u001b[0m\u001b[0m\n",
            "\u001b[0;32m/usr/local/lib/python3.10/dist-packages/google/colab/_reprs.py\u001b[0m in \u001b[0;36m_pandas_series_to_html\u001b[0;34m(series)\u001b[0m\n\u001b[1;32m    215\u001b[0m   \u001b[0;32mdef\u001b[0m \u001b[0m_pandas_series_to_html\u001b[0m\u001b[0;34m(\u001b[0m\u001b[0mseries\u001b[0m\u001b[0;34m)\u001b[0m\u001b[0;34m:\u001b[0m\u001b[0;34m\u001b[0m\u001b[0;34m\u001b[0m\u001b[0m\n\u001b[1;32m    216\u001b[0m     \u001b[0;34m\"\"\"Renders a pandas Series as a DataFrame HTML table with a dtype label.\"\"\"\u001b[0m\u001b[0;34m\u001b[0m\u001b[0;34m\u001b[0m\u001b[0m\n\u001b[0;32m--> 217\u001b[0;31m     \u001b[0mseries_as_table_html\u001b[0m \u001b[0;34m=\u001b[0m \u001b[0mseries\u001b[0m\u001b[0;34m.\u001b[0m\u001b[0mto_frame\u001b[0m\u001b[0;34m(\u001b[0m\u001b[0;34m)\u001b[0m\u001b[0;34m.\u001b[0m\u001b[0m_repr_html_\u001b[0m\u001b[0;34m(\u001b[0m\u001b[0;34m)\u001b[0m  \u001b[0;31m# pylint: disable=protected-access\u001b[0m\u001b[0;34m\u001b[0m\u001b[0;34m\u001b[0m\u001b[0m\n\u001b[0m\u001b[1;32m    218\u001b[0m     \u001b[0mseries_as_table_html\u001b[0m \u001b[0;34m+=\u001b[0m \u001b[0;34mf'<br><label><b>dtype:</b> {series.dtype}</label>'\u001b[0m\u001b[0;34m\u001b[0m\u001b[0;34m\u001b[0m\u001b[0m\n\u001b[1;32m    219\u001b[0m     \u001b[0;32mreturn\u001b[0m \u001b[0mseries_as_table_html\u001b[0m\u001b[0;34m\u001b[0m\u001b[0;34m\u001b[0m\u001b[0m\n",
            "\u001b[0;32m/usr/local/lib/python3.10/dist-packages/pandas/core/frame.py\u001b[0m in \u001b[0;36m_repr_html_\u001b[0;34m(self)\u001b[0m\n\u001b[1;32m   1104\u001b[0m                 \u001b[0mdecimal\u001b[0m\u001b[0;34m=\u001b[0m\u001b[0;34m\".\"\u001b[0m\u001b[0;34m,\u001b[0m\u001b[0;34m\u001b[0m\u001b[0;34m\u001b[0m\u001b[0m\n\u001b[1;32m   1105\u001b[0m             )\n\u001b[0;32m-> 1106\u001b[0;31m             \u001b[0;32mreturn\u001b[0m \u001b[0mfmt\u001b[0m\u001b[0;34m.\u001b[0m\u001b[0mDataFrameRenderer\u001b[0m\u001b[0;34m(\u001b[0m\u001b[0mformatter\u001b[0m\u001b[0;34m)\u001b[0m\u001b[0;34m.\u001b[0m\u001b[0mto_html\u001b[0m\u001b[0;34m(\u001b[0m\u001b[0mnotebook\u001b[0m\u001b[0;34m=\u001b[0m\u001b[0;32mTrue\u001b[0m\u001b[0;34m)\u001b[0m\u001b[0;34m\u001b[0m\u001b[0;34m\u001b[0m\u001b[0m\n\u001b[0m\u001b[1;32m   1107\u001b[0m         \u001b[0;32melse\u001b[0m\u001b[0;34m:\u001b[0m\u001b[0;34m\u001b[0m\u001b[0;34m\u001b[0m\u001b[0m\n\u001b[1;32m   1108\u001b[0m             \u001b[0;32mreturn\u001b[0m \u001b[0;32mNone\u001b[0m\u001b[0;34m\u001b[0m\u001b[0;34m\u001b[0m\u001b[0m\n",
            "\u001b[0;32m/usr/local/lib/python3.10/dist-packages/pandas/io/formats/format.py\u001b[0m in \u001b[0;36mto_html\u001b[0;34m(self, buf, encoding, classes, notebook, border, table_id, render_links)\u001b[0m\n\u001b[1;32m   1108\u001b[0m             \u001b[0mrender_links\u001b[0m\u001b[0;34m=\u001b[0m\u001b[0mrender_links\u001b[0m\u001b[0;34m,\u001b[0m\u001b[0;34m\u001b[0m\u001b[0;34m\u001b[0m\u001b[0m\n\u001b[1;32m   1109\u001b[0m         )\n\u001b[0;32m-> 1110\u001b[0;31m         \u001b[0mstring\u001b[0m \u001b[0;34m=\u001b[0m \u001b[0mhtml_formatter\u001b[0m\u001b[0;34m.\u001b[0m\u001b[0mto_string\u001b[0m\u001b[0;34m(\u001b[0m\u001b[0;34m)\u001b[0m\u001b[0;34m\u001b[0m\u001b[0;34m\u001b[0m\u001b[0m\n\u001b[0m\u001b[1;32m   1111\u001b[0m         \u001b[0;32mreturn\u001b[0m \u001b[0msave_to_buffer\u001b[0m\u001b[0;34m(\u001b[0m\u001b[0mstring\u001b[0m\u001b[0;34m,\u001b[0m \u001b[0mbuf\u001b[0m\u001b[0;34m=\u001b[0m\u001b[0mbuf\u001b[0m\u001b[0;34m,\u001b[0m \u001b[0mencoding\u001b[0m\u001b[0;34m=\u001b[0m\u001b[0mencoding\u001b[0m\u001b[0;34m)\u001b[0m\u001b[0;34m\u001b[0m\u001b[0;34m\u001b[0m\u001b[0m\n\u001b[1;32m   1112\u001b[0m \u001b[0;34m\u001b[0m\u001b[0m\n",
            "\u001b[0;32m/usr/local/lib/python3.10/dist-packages/pandas/io/formats/html.py\u001b[0m in \u001b[0;36mto_string\u001b[0;34m(self)\u001b[0m\n\u001b[1;32m     86\u001b[0m             \u001b[0mby\u001b[0m \u001b[0;34m=\u001b[0m \u001b[0mchr\u001b[0m\u001b[0;34m(\u001b[0m\u001b[0;36m215\u001b[0m\u001b[0;34m)\u001b[0m  \u001b[0;31m# ×\u001b[0m\u001b[0;34m\u001b[0m\u001b[0;34m\u001b[0m\u001b[0m\n\u001b[1;32m     87\u001b[0m             self.write(\n\u001b[0;32m---> 88\u001b[0;31m                 \u001b[0;34mf\"<p>{len(self.frame)} rows {by} {len(self.frame.columns)} columns</p>\"\u001b[0m\u001b[0;34m\u001b[0m\u001b[0;34m\u001b[0m\u001b[0m\n\u001b[0m\u001b[1;32m     89\u001b[0m             )\n\u001b[1;32m     90\u001b[0m \u001b[0;34m\u001b[0m\u001b[0m\n",
            "\u001b[0;32m/usr/local/lib/python3.10/dist-packages/pandas/io/formats/html.py\u001b[0m in \u001b[0;36mrender\u001b[0;34m(self)\u001b[0m\n",
            "\u001b[0;32m/usr/local/lib/python3.10/dist-packages/pandas/io/formats/html.py\u001b[0m in \u001b[0;36mrender\u001b[0;34m(self)\u001b[0m\n\u001b[1;32m     92\u001b[0m \u001b[0;34m\u001b[0m\u001b[0m\n\u001b[1;32m     93\u001b[0m     \u001b[0;34m@\u001b[0m\u001b[0mproperty\u001b[0m\u001b[0;34m\u001b[0m\u001b[0;34m\u001b[0m\u001b[0m\n\u001b[0;32m---> 94\u001b[0;31m     \u001b[0;32mdef\u001b[0m \u001b[0mshould_show_dimensions\u001b[0m\u001b[0;34m(\u001b[0m\u001b[0mself\u001b[0m\u001b[0;34m)\u001b[0m \u001b[0;34m->\u001b[0m \u001b[0mbool\u001b[0m\u001b[0;34m:\u001b[0m\u001b[0;34m\u001b[0m\u001b[0;34m\u001b[0m\u001b[0m\n\u001b[0m\u001b[1;32m     95\u001b[0m         \u001b[0;32mreturn\u001b[0m \u001b[0mself\u001b[0m\u001b[0;34m.\u001b[0m\u001b[0mfmt\u001b[0m\u001b[0;34m.\u001b[0m\u001b[0mshould_show_dimensions\u001b[0m\u001b[0;34m\u001b[0m\u001b[0;34m\u001b[0m\u001b[0m\n\u001b[1;32m     96\u001b[0m \u001b[0;34m\u001b[0m\u001b[0m\n",
            "\u001b[0;32m/usr/local/lib/python3.10/dist-packages/pandas/io/formats/html.py\u001b[0m in \u001b[0;36m_write_table\u001b[0;34m(self, indent)\u001b[0m\n\u001b[1;32m    265\u001b[0m         \u001b[0;32mif\u001b[0m \u001b[0misinstance\u001b[0m\u001b[0;34m(\u001b[0m\u001b[0mself\u001b[0m\u001b[0;34m.\u001b[0m\u001b[0mcolumns\u001b[0m\u001b[0;34m,\u001b[0m \u001b[0mMultiIndex\u001b[0m\u001b[0;34m)\u001b[0m\u001b[0;34m:\u001b[0m\u001b[0;34m\u001b[0m\u001b[0;34m\u001b[0m\u001b[0m\n\u001b[1;32m    266\u001b[0m             \u001b[0mtemplate\u001b[0m \u001b[0;34m=\u001b[0m \u001b[0;34m'colspan=\"{span:d}\" halign=\"left\"'\u001b[0m\u001b[0;34m\u001b[0m\u001b[0;34m\u001b[0m\u001b[0m\n\u001b[0;32m--> 267\u001b[0;31m \u001b[0;34m\u001b[0m\u001b[0m\n\u001b[0m\u001b[1;32m    268\u001b[0m             \u001b[0msentinel\u001b[0m\u001b[0;34m:\u001b[0m \u001b[0mlib\u001b[0m\u001b[0;34m.\u001b[0m\u001b[0mNoDefault\u001b[0m \u001b[0;34m|\u001b[0m \u001b[0mbool\u001b[0m\u001b[0;34m\u001b[0m\u001b[0;34m\u001b[0m\u001b[0m\n\u001b[1;32m    269\u001b[0m             \u001b[0;32mif\u001b[0m \u001b[0mself\u001b[0m\u001b[0;34m.\u001b[0m\u001b[0mfmt\u001b[0m\u001b[0;34m.\u001b[0m\u001b[0msparsify\u001b[0m\u001b[0;34m:\u001b[0m\u001b[0;34m\u001b[0m\u001b[0;34m\u001b[0m\u001b[0m\n",
            "\u001b[0;32m/usr/local/lib/python3.10/dist-packages/pandas/io/formats/html.py\u001b[0m in \u001b[0;36m_write_header\u001b[0;34m(self, indent)\u001b[0m\n\u001b[1;32m    401\u001b[0m             \u001b[0mfmt_values\u001b[0m \u001b[0;34m=\u001b[0m \u001b[0;34m{\u001b[0m\u001b[0mi\u001b[0m\u001b[0;34m:\u001b[0m \u001b[0mself\u001b[0m\u001b[0;34m.\u001b[0m\u001b[0mfmt\u001b[0m\u001b[0;34m.\u001b[0m\u001b[0mformat_col\u001b[0m\u001b[0;34m(\u001b[0m\u001b[0mi\u001b[0m\u001b[0;34m)\u001b[0m \u001b[0;32mfor\u001b[0m \u001b[0mi\u001b[0m \u001b[0;32min\u001b[0m \u001b[0mrange\u001b[0m\u001b[0;34m(\u001b[0m\u001b[0mself\u001b[0m\u001b[0;34m.\u001b[0m\u001b[0mncols\u001b[0m\u001b[0;34m)\u001b[0m\u001b[0;34m}\u001b[0m\u001b[0;34m\u001b[0m\u001b[0;34m\u001b[0m\u001b[0m\n\u001b[1;32m    402\u001b[0m         \u001b[0;32mreturn\u001b[0m \u001b[0mfmt_values\u001b[0m\u001b[0;34m\u001b[0m\u001b[0;34m\u001b[0m\u001b[0m\n\u001b[0;32m--> 403\u001b[0;31m \u001b[0;34m\u001b[0m\u001b[0m\n\u001b[0m\u001b[1;32m    404\u001b[0m     \u001b[0;32mdef\u001b[0m \u001b[0m_write_body\u001b[0m\u001b[0;34m(\u001b[0m\u001b[0mself\u001b[0m\u001b[0;34m,\u001b[0m \u001b[0mindent\u001b[0m\u001b[0;34m:\u001b[0m \u001b[0mint\u001b[0m\u001b[0;34m)\u001b[0m \u001b[0;34m->\u001b[0m \u001b[0;32mNone\u001b[0m\u001b[0;34m:\u001b[0m\u001b[0;34m\u001b[0m\u001b[0;34m\u001b[0m\u001b[0m\n\u001b[1;32m    405\u001b[0m         \u001b[0mself\u001b[0m\u001b[0;34m.\u001b[0m\u001b[0mwrite\u001b[0m\u001b[0;34m(\u001b[0m\u001b[0;34m\"<tbody>\"\u001b[0m\u001b[0;34m,\u001b[0m \u001b[0mindent\u001b[0m\u001b[0;34m)\u001b[0m\u001b[0;34m\u001b[0m\u001b[0;34m\u001b[0m\u001b[0m\n",
            "\u001b[0;32m/usr/local/lib/python3.10/dist-packages/pandas/io/formats/html.py\u001b[0m in \u001b[0;36m_write_col_header\u001b[0;34m(self, indent)\u001b[0m\n\u001b[1;32m    381\u001b[0m     \u001b[0;32mdef\u001b[0m \u001b[0m_write_row_header\u001b[0m\u001b[0;34m(\u001b[0m\u001b[0mself\u001b[0m\u001b[0;34m,\u001b[0m \u001b[0mindent\u001b[0m\u001b[0;34m:\u001b[0m \u001b[0mint\u001b[0m\u001b[0;34m)\u001b[0m \u001b[0;34m->\u001b[0m \u001b[0;32mNone\u001b[0m\u001b[0;34m:\u001b[0m\u001b[0;34m\u001b[0m\u001b[0;34m\u001b[0m\u001b[0m\n\u001b[1;32m    382\u001b[0m         \u001b[0mis_truncated_horizontally\u001b[0m \u001b[0;34m=\u001b[0m \u001b[0mself\u001b[0m\u001b[0;34m.\u001b[0m\u001b[0mfmt\u001b[0m\u001b[0;34m.\u001b[0m\u001b[0mis_truncated_horizontally\u001b[0m\u001b[0;34m\u001b[0m\u001b[0;34m\u001b[0m\u001b[0m\n\u001b[0;32m--> 383\u001b[0;31m         row = [x if x is not None else \"\" for x in self.frame.index.names] + [\"\"] * (\n\u001b[0m\u001b[1;32m    384\u001b[0m             \u001b[0mself\u001b[0m\u001b[0;34m.\u001b[0m\u001b[0mncols\u001b[0m \u001b[0;34m+\u001b[0m \u001b[0;34m(\u001b[0m\u001b[0;36m1\u001b[0m \u001b[0;32mif\u001b[0m \u001b[0mis_truncated_horizontally\u001b[0m \u001b[0;32melse\u001b[0m \u001b[0;36m0\u001b[0m\u001b[0;34m)\u001b[0m\u001b[0;34m\u001b[0m\u001b[0;34m\u001b[0m\u001b[0m\n\u001b[1;32m    385\u001b[0m         )\n",
            "\u001b[0;32m/usr/local/lib/python3.10/dist-packages/pandas/io/formats/html.py\u001b[0m in \u001b[0;36m_get_columns_formatted_values\u001b[0;34m(self)\u001b[0m\n\u001b[1;32m    609\u001b[0m         template_select = \"\"\"\\\n\u001b[1;32m    610\u001b[0m                 .dataframe %s {\n\u001b[0;32m--> 611\u001b[0;31m                     \u001b[0;34m%\u001b[0m\u001b[0ms\u001b[0m\u001b[0;34m:\u001b[0m \u001b[0;34m%\u001b[0m\u001b[0ms\u001b[0m\u001b[0;34m;\u001b[0m\u001b[0;34m\u001b[0m\u001b[0;34m\u001b[0m\u001b[0m\n\u001b[0m\u001b[1;32m    612\u001b[0m                 }\"\"\"\n\u001b[1;32m    613\u001b[0m         element_props = [\n",
            "\u001b[0;31mAttributeError\u001b[0m: 'Index' object has no attribute '_format_flat'"
          ]
        },
        {
          "output_type": "execute_result",
          "data": {
            "text/plain": [
              "0    0.377358\n",
              "1    0.376431\n",
              "2    0.376706\n",
              "3    0.382192\n",
              "4    0.383970\n",
              "Name: close, dtype: float64"
            ]
          },
          "metadata": {},
          "execution_count": 36
        }
      ]
    },
    {
      "cell_type": "markdown",
      "source": [
        "Method 2 for scaling [0,1]"
      ],
      "metadata": {
        "id": "d84Ee-hI7F11"
      }
    },
    {
      "cell_type": "code",
      "source": [
        "from sklearn.preprocessing import MinMaxScaler"
      ],
      "metadata": {
        "id": "ve-nNTg565yK"
      },
      "execution_count": null,
      "outputs": []
    },
    {
      "cell_type": "code",
      "source": [
        "scaler = MinMaxScaler(feature_range= (0,1))\n",
        "df['closed1'] = scaler.fit_transform(df[['close']])"
      ],
      "metadata": {
        "id": "ewyVhPcz7tec"
      },
      "execution_count": null,
      "outputs": []
    },
    {
      "cell_type": "code",
      "source": [
        "df.head()"
      ],
      "metadata": {
        "colab": {
          "base_uri": "https://localhost:8080/",
          "height": 720
        },
        "id": "qEXHutL18ElK",
        "outputId": "4cfa1cfd-798e-4934-cc5e-7cdc0cdc4e64",
        "collapsed": true
      },
      "execution_count": null,
      "outputs": [
        {
          "output_type": "error",
          "ename": "AttributeError",
          "evalue": "'Index' object has no attribute '_format_flat'",
          "traceback": [
            "\u001b[0;31m---------------------------------------------------------------------------\u001b[0m",
            "\u001b[0;31mAttributeError\u001b[0m                            Traceback (most recent call last)",
            "\u001b[0;32m/usr/local/lib/python3.10/dist-packages/IPython/core/formatters.py\u001b[0m in \u001b[0;36m__call__\u001b[0;34m(self, obj)\u001b[0m\n\u001b[1;32m    339\u001b[0m                 \u001b[0;32mpass\u001b[0m\u001b[0;34m\u001b[0m\u001b[0;34m\u001b[0m\u001b[0m\n\u001b[1;32m    340\u001b[0m             \u001b[0;32melse\u001b[0m\u001b[0;34m:\u001b[0m\u001b[0;34m\u001b[0m\u001b[0;34m\u001b[0m\u001b[0m\n\u001b[0;32m--> 341\u001b[0;31m                 \u001b[0;32mreturn\u001b[0m \u001b[0mprinter\u001b[0m\u001b[0;34m(\u001b[0m\u001b[0mobj\u001b[0m\u001b[0;34m)\u001b[0m\u001b[0;34m\u001b[0m\u001b[0;34m\u001b[0m\u001b[0m\n\u001b[0m\u001b[1;32m    342\u001b[0m             \u001b[0;31m# Finally look for special method names\u001b[0m\u001b[0;34m\u001b[0m\u001b[0;34m\u001b[0m\u001b[0m\n\u001b[1;32m    343\u001b[0m             \u001b[0mmethod\u001b[0m \u001b[0;34m=\u001b[0m \u001b[0mget_real_method\u001b[0m\u001b[0;34m(\u001b[0m\u001b[0mobj\u001b[0m\u001b[0;34m,\u001b[0m \u001b[0mself\u001b[0m\u001b[0;34m.\u001b[0m\u001b[0mprint_method\u001b[0m\u001b[0;34m)\u001b[0m\u001b[0;34m\u001b[0m\u001b[0;34m\u001b[0m\u001b[0m\n",
            "\u001b[0;32m/usr/local/lib/python3.10/dist-packages/google/colab/_quickchart_hint_button.py\u001b[0m in \u001b[0;36m_df_formatter_with_hint_buttons\u001b[0;34m(df)\u001b[0m\n\u001b[1;32m    256\u001b[0m     \u001b[0mbuttons\u001b[0m\u001b[0;34m.\u001b[0m\u001b[0mappend\u001b[0m\u001b[0;34m(\u001b[0m\u001b[0m_generate_with_variable\u001b[0m\u001b[0;34m.\u001b[0m\u001b[0mget_html\u001b[0m\u001b[0;34m(\u001b[0m\u001b[0mdf\u001b[0m\u001b[0;34m)\u001b[0m\u001b[0;34m)\u001b[0m\u001b[0;34m\u001b[0m\u001b[0;34m\u001b[0m\u001b[0m\n\u001b[1;32m    257\u001b[0m   \u001b[0;31m# pylint: disable=protected-access\u001b[0m\u001b[0;34m\u001b[0m\u001b[0;34m\u001b[0m\u001b[0m\n\u001b[0;32m--> 258\u001b[0;31m   html = _interactive_table_hint_button._df_formatter_with_interactive_hint(\n\u001b[0m\u001b[1;32m    259\u001b[0m       \u001b[0mdf\u001b[0m\u001b[0;34m,\u001b[0m \u001b[0mbuttons\u001b[0m\u001b[0;34m\u001b[0m\u001b[0;34m\u001b[0m\u001b[0m\n\u001b[1;32m    260\u001b[0m   )\n",
            "\u001b[0;32m/usr/local/lib/python3.10/dist-packages/google/colab/_interactive_table_hint_button.py\u001b[0m in \u001b[0;36m_df_formatter_with_interactive_hint\u001b[0;34m(dataframe, buttons)\u001b[0m\n\u001b[1;32m    120\u001b[0m     \u001b[0mbuttons\u001b[0m \u001b[0;34m=\u001b[0m \u001b[0;34m[\u001b[0m\u001b[0;34m]\u001b[0m\u001b[0;34m\u001b[0m\u001b[0;34m\u001b[0m\u001b[0m\n\u001b[1;32m    121\u001b[0m   \u001b[0mbuttons\u001b[0m\u001b[0;34m.\u001b[0m\u001b[0minsert\u001b[0m\u001b[0;34m(\u001b[0m\u001b[0;36m0\u001b[0m\u001b[0;34m,\u001b[0m \u001b[0m_get_button_html\u001b[0m\u001b[0;34m(\u001b[0m\u001b[0mkey\u001b[0m\u001b[0;34m)\u001b[0m\u001b[0;34m)\u001b[0m\u001b[0;34m\u001b[0m\u001b[0;34m\u001b[0m\u001b[0m\n\u001b[0;32m--> 122\u001b[0;31m   \u001b[0;32mreturn\u001b[0m \u001b[0m_get_html\u001b[0m\u001b[0;34m(\u001b[0m\u001b[0mdataframe\u001b[0m\u001b[0;34m,\u001b[0m \u001b[0mkey\u001b[0m\u001b[0;34m,\u001b[0m \u001b[0mbuttons\u001b[0m\u001b[0;34m)\u001b[0m\u001b[0;34m\u001b[0m\u001b[0;34m\u001b[0m\u001b[0m\n\u001b[0m\u001b[1;32m    123\u001b[0m \u001b[0;34m\u001b[0m\u001b[0m\n\u001b[1;32m    124\u001b[0m \u001b[0;34m\u001b[0m\u001b[0m\n",
            "\u001b[0;32m/usr/local/lib/python3.10/dist-packages/google/colab/_interactive_table_hint_button.py\u001b[0m in \u001b[0;36m_get_html\u001b[0;34m(dataframe, key, buttons)\u001b[0m\n\u001b[1;32m    176\u001b[0m   \"\"\".format(\n\u001b[1;32m    177\u001b[0m       \u001b[0mkey\u001b[0m\u001b[0;34m=\u001b[0m\u001b[0mkey\u001b[0m\u001b[0;34m,\u001b[0m\u001b[0;34m\u001b[0m\u001b[0;34m\u001b[0m\u001b[0m\n\u001b[0;32m--> 178\u001b[0;31m       \u001b[0mdf_html\u001b[0m\u001b[0;34m=\u001b[0m\u001b[0mdataframe\u001b[0m\u001b[0;34m.\u001b[0m\u001b[0m_repr_html_\u001b[0m\u001b[0;34m(\u001b[0m\u001b[0;34m)\u001b[0m\u001b[0;34m,\u001b[0m  \u001b[0;31m# pylint: disable=protected-access\u001b[0m\u001b[0;34m\u001b[0m\u001b[0;34m\u001b[0m\u001b[0m\n\u001b[0m\u001b[1;32m    179\u001b[0m       \u001b[0mbuttons_str\u001b[0m\u001b[0;34m=\u001b[0m\u001b[0mbuttons_str\u001b[0m\u001b[0;34m,\u001b[0m\u001b[0;34m\u001b[0m\u001b[0;34m\u001b[0m\u001b[0m\n\u001b[1;32m    180\u001b[0m   )\n",
            "\u001b[0;32m/usr/local/lib/python3.10/dist-packages/pandas/core/frame.py\u001b[0m in \u001b[0;36m_repr_html_\u001b[0;34m(self)\u001b[0m\n\u001b[1;32m   1104\u001b[0m                 \u001b[0mdecimal\u001b[0m\u001b[0;34m=\u001b[0m\u001b[0;34m\".\"\u001b[0m\u001b[0;34m,\u001b[0m\u001b[0;34m\u001b[0m\u001b[0;34m\u001b[0m\u001b[0m\n\u001b[1;32m   1105\u001b[0m             )\n\u001b[0;32m-> 1106\u001b[0;31m             \u001b[0;32mreturn\u001b[0m \u001b[0mfmt\u001b[0m\u001b[0;34m.\u001b[0m\u001b[0mDataFrameRenderer\u001b[0m\u001b[0;34m(\u001b[0m\u001b[0mformatter\u001b[0m\u001b[0;34m)\u001b[0m\u001b[0;34m.\u001b[0m\u001b[0mto_html\u001b[0m\u001b[0;34m(\u001b[0m\u001b[0mnotebook\u001b[0m\u001b[0;34m=\u001b[0m\u001b[0;32mTrue\u001b[0m\u001b[0;34m)\u001b[0m\u001b[0;34m\u001b[0m\u001b[0;34m\u001b[0m\u001b[0m\n\u001b[0m\u001b[1;32m   1107\u001b[0m         \u001b[0;32melse\u001b[0m\u001b[0;34m:\u001b[0m\u001b[0;34m\u001b[0m\u001b[0;34m\u001b[0m\u001b[0m\n\u001b[1;32m   1108\u001b[0m             \u001b[0;32mreturn\u001b[0m \u001b[0;32mNone\u001b[0m\u001b[0;34m\u001b[0m\u001b[0;34m\u001b[0m\u001b[0m\n",
            "\u001b[0;32m/usr/local/lib/python3.10/dist-packages/pandas/io/formats/format.py\u001b[0m in \u001b[0;36mto_html\u001b[0;34m(self, buf, encoding, classes, notebook, border, table_id, render_links)\u001b[0m\n\u001b[1;32m   1108\u001b[0m             \u001b[0mrender_links\u001b[0m\u001b[0;34m=\u001b[0m\u001b[0mrender_links\u001b[0m\u001b[0;34m,\u001b[0m\u001b[0;34m\u001b[0m\u001b[0;34m\u001b[0m\u001b[0m\n\u001b[1;32m   1109\u001b[0m         )\n\u001b[0;32m-> 1110\u001b[0;31m         \u001b[0mstring\u001b[0m \u001b[0;34m=\u001b[0m \u001b[0mhtml_formatter\u001b[0m\u001b[0;34m.\u001b[0m\u001b[0mto_string\u001b[0m\u001b[0;34m(\u001b[0m\u001b[0;34m)\u001b[0m\u001b[0;34m\u001b[0m\u001b[0;34m\u001b[0m\u001b[0m\n\u001b[0m\u001b[1;32m   1111\u001b[0m         \u001b[0;32mreturn\u001b[0m \u001b[0msave_to_buffer\u001b[0m\u001b[0;34m(\u001b[0m\u001b[0mstring\u001b[0m\u001b[0;34m,\u001b[0m \u001b[0mbuf\u001b[0m\u001b[0;34m=\u001b[0m\u001b[0mbuf\u001b[0m\u001b[0;34m,\u001b[0m \u001b[0mencoding\u001b[0m\u001b[0;34m=\u001b[0m\u001b[0mencoding\u001b[0m\u001b[0;34m)\u001b[0m\u001b[0;34m\u001b[0m\u001b[0;34m\u001b[0m\u001b[0m\n\u001b[1;32m   1112\u001b[0m \u001b[0;34m\u001b[0m\u001b[0m\n",
            "\u001b[0;32m/usr/local/lib/python3.10/dist-packages/pandas/io/formats/html.py\u001b[0m in \u001b[0;36mto_string\u001b[0;34m(self)\u001b[0m\n\u001b[1;32m     86\u001b[0m             \u001b[0mby\u001b[0m \u001b[0;34m=\u001b[0m \u001b[0mchr\u001b[0m\u001b[0;34m(\u001b[0m\u001b[0;36m215\u001b[0m\u001b[0;34m)\u001b[0m  \u001b[0;31m# ×\u001b[0m\u001b[0;34m\u001b[0m\u001b[0;34m\u001b[0m\u001b[0m\n\u001b[1;32m     87\u001b[0m             self.write(\n\u001b[0;32m---> 88\u001b[0;31m                 \u001b[0;34mf\"<p>{len(self.frame)} rows {by} {len(self.frame.columns)} columns</p>\"\u001b[0m\u001b[0;34m\u001b[0m\u001b[0;34m\u001b[0m\u001b[0m\n\u001b[0m\u001b[1;32m     89\u001b[0m             )\n\u001b[1;32m     90\u001b[0m \u001b[0;34m\u001b[0m\u001b[0m\n",
            "\u001b[0;32m/usr/local/lib/python3.10/dist-packages/pandas/io/formats/html.py\u001b[0m in \u001b[0;36mrender\u001b[0;34m(self)\u001b[0m\n",
            "\u001b[0;32m/usr/local/lib/python3.10/dist-packages/pandas/io/formats/html.py\u001b[0m in \u001b[0;36mrender\u001b[0;34m(self)\u001b[0m\n\u001b[1;32m     92\u001b[0m \u001b[0;34m\u001b[0m\u001b[0m\n\u001b[1;32m     93\u001b[0m     \u001b[0;34m@\u001b[0m\u001b[0mproperty\u001b[0m\u001b[0;34m\u001b[0m\u001b[0;34m\u001b[0m\u001b[0m\n\u001b[0;32m---> 94\u001b[0;31m     \u001b[0;32mdef\u001b[0m \u001b[0mshould_show_dimensions\u001b[0m\u001b[0;34m(\u001b[0m\u001b[0mself\u001b[0m\u001b[0;34m)\u001b[0m \u001b[0;34m->\u001b[0m \u001b[0mbool\u001b[0m\u001b[0;34m:\u001b[0m\u001b[0;34m\u001b[0m\u001b[0;34m\u001b[0m\u001b[0m\n\u001b[0m\u001b[1;32m     95\u001b[0m         \u001b[0;32mreturn\u001b[0m \u001b[0mself\u001b[0m\u001b[0;34m.\u001b[0m\u001b[0mfmt\u001b[0m\u001b[0;34m.\u001b[0m\u001b[0mshould_show_dimensions\u001b[0m\u001b[0;34m\u001b[0m\u001b[0;34m\u001b[0m\u001b[0m\n\u001b[1;32m     96\u001b[0m \u001b[0;34m\u001b[0m\u001b[0m\n",
            "\u001b[0;32m/usr/local/lib/python3.10/dist-packages/pandas/io/formats/html.py\u001b[0m in \u001b[0;36m_write_table\u001b[0;34m(self, indent)\u001b[0m\n\u001b[1;32m    265\u001b[0m         \u001b[0;32mif\u001b[0m \u001b[0misinstance\u001b[0m\u001b[0;34m(\u001b[0m\u001b[0mself\u001b[0m\u001b[0;34m.\u001b[0m\u001b[0mcolumns\u001b[0m\u001b[0;34m,\u001b[0m \u001b[0mMultiIndex\u001b[0m\u001b[0;34m)\u001b[0m\u001b[0;34m:\u001b[0m\u001b[0;34m\u001b[0m\u001b[0;34m\u001b[0m\u001b[0m\n\u001b[1;32m    266\u001b[0m             \u001b[0mtemplate\u001b[0m \u001b[0;34m=\u001b[0m \u001b[0;34m'colspan=\"{span:d}\" halign=\"left\"'\u001b[0m\u001b[0;34m\u001b[0m\u001b[0;34m\u001b[0m\u001b[0m\n\u001b[0;32m--> 267\u001b[0;31m \u001b[0;34m\u001b[0m\u001b[0m\n\u001b[0m\u001b[1;32m    268\u001b[0m             \u001b[0msentinel\u001b[0m\u001b[0;34m:\u001b[0m \u001b[0mlib\u001b[0m\u001b[0;34m.\u001b[0m\u001b[0mNoDefault\u001b[0m \u001b[0;34m|\u001b[0m \u001b[0mbool\u001b[0m\u001b[0;34m\u001b[0m\u001b[0;34m\u001b[0m\u001b[0m\n\u001b[1;32m    269\u001b[0m             \u001b[0;32mif\u001b[0m \u001b[0mself\u001b[0m\u001b[0;34m.\u001b[0m\u001b[0mfmt\u001b[0m\u001b[0;34m.\u001b[0m\u001b[0msparsify\u001b[0m\u001b[0;34m:\u001b[0m\u001b[0;34m\u001b[0m\u001b[0;34m\u001b[0m\u001b[0m\n",
            "\u001b[0;32m/usr/local/lib/python3.10/dist-packages/pandas/io/formats/html.py\u001b[0m in \u001b[0;36m_write_header\u001b[0;34m(self, indent)\u001b[0m\n\u001b[1;32m    401\u001b[0m             \u001b[0mfmt_values\u001b[0m \u001b[0;34m=\u001b[0m \u001b[0;34m{\u001b[0m\u001b[0mi\u001b[0m\u001b[0;34m:\u001b[0m \u001b[0mself\u001b[0m\u001b[0;34m.\u001b[0m\u001b[0mfmt\u001b[0m\u001b[0;34m.\u001b[0m\u001b[0mformat_col\u001b[0m\u001b[0;34m(\u001b[0m\u001b[0mi\u001b[0m\u001b[0;34m)\u001b[0m \u001b[0;32mfor\u001b[0m \u001b[0mi\u001b[0m \u001b[0;32min\u001b[0m \u001b[0mrange\u001b[0m\u001b[0;34m(\u001b[0m\u001b[0mself\u001b[0m\u001b[0;34m.\u001b[0m\u001b[0mncols\u001b[0m\u001b[0;34m)\u001b[0m\u001b[0;34m}\u001b[0m\u001b[0;34m\u001b[0m\u001b[0;34m\u001b[0m\u001b[0m\n\u001b[1;32m    402\u001b[0m         \u001b[0;32mreturn\u001b[0m \u001b[0mfmt_values\u001b[0m\u001b[0;34m\u001b[0m\u001b[0;34m\u001b[0m\u001b[0m\n\u001b[0;32m--> 403\u001b[0;31m \u001b[0;34m\u001b[0m\u001b[0m\n\u001b[0m\u001b[1;32m    404\u001b[0m     \u001b[0;32mdef\u001b[0m \u001b[0m_write_body\u001b[0m\u001b[0;34m(\u001b[0m\u001b[0mself\u001b[0m\u001b[0;34m,\u001b[0m \u001b[0mindent\u001b[0m\u001b[0;34m:\u001b[0m \u001b[0mint\u001b[0m\u001b[0;34m)\u001b[0m \u001b[0;34m->\u001b[0m \u001b[0;32mNone\u001b[0m\u001b[0;34m:\u001b[0m\u001b[0;34m\u001b[0m\u001b[0;34m\u001b[0m\u001b[0m\n\u001b[1;32m    405\u001b[0m         \u001b[0mself\u001b[0m\u001b[0;34m.\u001b[0m\u001b[0mwrite\u001b[0m\u001b[0;34m(\u001b[0m\u001b[0;34m\"<tbody>\"\u001b[0m\u001b[0;34m,\u001b[0m \u001b[0mindent\u001b[0m\u001b[0;34m)\u001b[0m\u001b[0;34m\u001b[0m\u001b[0;34m\u001b[0m\u001b[0m\n",
            "\u001b[0;32m/usr/local/lib/python3.10/dist-packages/pandas/io/formats/html.py\u001b[0m in \u001b[0;36m_write_col_header\u001b[0;34m(self, indent)\u001b[0m\n\u001b[1;32m    381\u001b[0m     \u001b[0;32mdef\u001b[0m \u001b[0m_write_row_header\u001b[0m\u001b[0;34m(\u001b[0m\u001b[0mself\u001b[0m\u001b[0;34m,\u001b[0m \u001b[0mindent\u001b[0m\u001b[0;34m:\u001b[0m \u001b[0mint\u001b[0m\u001b[0;34m)\u001b[0m \u001b[0;34m->\u001b[0m \u001b[0;32mNone\u001b[0m\u001b[0;34m:\u001b[0m\u001b[0;34m\u001b[0m\u001b[0;34m\u001b[0m\u001b[0m\n\u001b[1;32m    382\u001b[0m         \u001b[0mis_truncated_horizontally\u001b[0m \u001b[0;34m=\u001b[0m \u001b[0mself\u001b[0m\u001b[0;34m.\u001b[0m\u001b[0mfmt\u001b[0m\u001b[0;34m.\u001b[0m\u001b[0mis_truncated_horizontally\u001b[0m\u001b[0;34m\u001b[0m\u001b[0;34m\u001b[0m\u001b[0m\n\u001b[0;32m--> 383\u001b[0;31m         row = [x if x is not None else \"\" for x in self.frame.index.names] + [\"\"] * (\n\u001b[0m\u001b[1;32m    384\u001b[0m             \u001b[0mself\u001b[0m\u001b[0;34m.\u001b[0m\u001b[0mncols\u001b[0m \u001b[0;34m+\u001b[0m \u001b[0;34m(\u001b[0m\u001b[0;36m1\u001b[0m \u001b[0;32mif\u001b[0m \u001b[0mis_truncated_horizontally\u001b[0m \u001b[0;32melse\u001b[0m \u001b[0;36m0\u001b[0m\u001b[0;34m)\u001b[0m\u001b[0;34m\u001b[0m\u001b[0;34m\u001b[0m\u001b[0m\n\u001b[1;32m    385\u001b[0m         )\n",
            "\u001b[0;32m/usr/local/lib/python3.10/dist-packages/pandas/io/formats/html.py\u001b[0m in \u001b[0;36m_get_columns_formatted_values\u001b[0;34m(self)\u001b[0m\n\u001b[1;32m    609\u001b[0m         template_select = \"\"\"\\\n\u001b[1;32m    610\u001b[0m                 .dataframe %s {\n\u001b[0;32m--> 611\u001b[0;31m                     \u001b[0;34m%\u001b[0m\u001b[0ms\u001b[0m\u001b[0;34m:\u001b[0m \u001b[0;34m%\u001b[0m\u001b[0ms\u001b[0m\u001b[0;34m;\u001b[0m\u001b[0;34m\u001b[0m\u001b[0;34m\u001b[0m\u001b[0m\n\u001b[0m\u001b[1;32m    612\u001b[0m                 }\"\"\"\n\u001b[1;32m    613\u001b[0m         element_props = [\n",
            "\u001b[0;31mAttributeError\u001b[0m: 'Index' object has no attribute '_format_flat'"
          ]
        },
        {
          "output_type": "execute_result",
          "data": {
            "text/plain": [
              "   Unnamed: 0 symbol                       date   close    high     low  \\\n",
              "0           0   AAPL  2019-11-04 00:00:00+00:00  257.50  257.85  255.38   \n",
              "1           1   AAPL  2019-11-05 00:00:00+00:00  257.13  258.19  256.32   \n",
              "2           2   AAPL  2019-11-06 00:00:00+00:00  257.24  257.49  255.37   \n",
              "3           3   AAPL  2019-11-07 00:00:00+00:00  259.43  260.35  258.11   \n",
              "4           4   AAPL  2019-11-08 00:00:00+00:00  260.14  260.44  256.85   \n",
              "\n",
              "     open    volume   adjClose    adjHigh     adjLow    adjOpen  adjVolume  \\\n",
              "0  257.33  25817952  62.295381  62.380055  61.782503  62.254254  103271808   \n",
              "1  257.05  19974427  62.205870  62.462309  62.009911  62.186516   79897708   \n",
              "2  256.77  18966124  62.232481  62.292962  61.780084  62.118777   75864496   \n",
              "3  258.74  23735083  62.948576  63.171806  62.628288  62.781153   94940332   \n",
              "4  258.69  17520495  63.120851  63.193644  62.322560  62.769021   70081980   \n",
              "\n",
              "   divCash  splitFactor   closed1  \n",
              "0     0.00          1.0  0.377358  \n",
              "1     0.00          1.0  0.376431  \n",
              "2     0.00          1.0  0.376706  \n",
              "3     0.77          1.0  0.382192  \n",
              "4     0.00          1.0  0.383970  "
            ],
            "application/vnd.google.colaboratory.intrinsic+json": {
              "type": "dataframe",
              "variable_name": "df",
              "summary": "{\n  \"name\": \"df\",\n  \"rows\": 1257,\n  \"fields\": [\n    {\n      \"column\": \"Unnamed: 0\",\n      \"properties\": {\n        \"dtype\": \"number\",\n        \"std\": 363,\n        \"min\": 0,\n        \"max\": 1256,\n        \"num_unique_values\": 1257,\n        \"samples\": [\n          435,\n          101,\n          51\n        ],\n        \"semantic_type\": \"\",\n        \"description\": \"\"\n      }\n    },\n    {\n      \"column\": \"symbol\",\n      \"properties\": {\n        \"dtype\": \"category\",\n        \"num_unique_values\": 1,\n        \"samples\": [\n          \"AAPL\"\n        ],\n        \"semantic_type\": \"\",\n        \"description\": \"\"\n      }\n    },\n    {\n      \"column\": \"date\",\n      \"properties\": {\n        \"dtype\": \"object\",\n        \"num_unique_values\": 1257,\n        \"samples\": [\n          \"2021-07-28 00:00:00+00:00\"\n        ],\n        \"semantic_type\": \"\",\n        \"description\": \"\"\n      }\n    },\n    {\n      \"column\": \"close\",\n      \"properties\": {\n        \"dtype\": \"number\",\n        \"std\": 69.41041285918367,\n        \"min\": 106.84,\n        \"max\": 506.09,\n        \"num_unique_values\": 1195,\n        \"samples\": [\n          142.64\n        ],\n        \"semantic_type\": \"\",\n        \"description\": \"\"\n      }\n    },\n    {\n      \"column\": \"high\",\n      \"properties\": {\n        \"dtype\": \"number\",\n        \"std\": 70.06499147571786,\n        \"min\": 110.19,\n        \"max\": 515.14,\n        \"num_unique_values\": 1212,\n        \"samples\": [\n          151.3\n        ],\n        \"semantic_type\": \"\",\n        \"description\": \"\"\n      }\n    },\n    {\n      \"column\": \"low\",\n      \"properties\": {\n        \"dtype\": \"number\",\n        \"std\": 68.40812640740394,\n        \"min\": 103.1,\n        \"max\": 500.33,\n        \"num_unique_values\": 1222,\n        \"samples\": [\n          113.55\n        ],\n        \"semantic_type\": \"\",\n        \"description\": \"\"\n      }\n    },\n    {\n      \"column\": \"open\",\n      \"properties\": {\n        \"dtype\": \"number\",\n        \"std\": 69.13771230826481,\n        \"min\": 104.54,\n        \"max\": 514.79,\n        \"num_unique_values\": 1202,\n        \"samples\": [\n          218.93\n        ],\n        \"semantic_type\": \"\",\n        \"description\": \"\"\n      }\n    },\n    {\n      \"column\": \"volume\",\n      \"properties\": {\n        \"dtype\": \"number\",\n        \"std\": 37100368,\n        \"min\": 11654363,\n        \"max\": 332607163,\n        \"num_unique_values\": 1257,\n        \"samples\": [\n          118931191\n        ],\n        \"semantic_type\": \"\",\n        \"description\": \"\"\n      }\n    },\n    {\n      \"column\": \"adjClose\",\n      \"properties\": {\n        \"dtype\": \"number\",\n        \"std\": 41.71636505845451,\n        \"min\": 54.5725400388,\n        \"max\": 236.48,\n        \"num_unique_values\": 1243,\n        \"samples\": [\n          183.8261897301\n        ],\n        \"semantic_type\": \"\",\n        \"description\": \"\"\n      }\n    },\n    {\n      \"column\": \"adjHigh\",\n      \"properties\": {\n        \"dtype\": \"number\",\n        \"std\": 41.947674756237504,\n        \"min\": 55.5770619908,\n        \"max\": 237.49,\n        \"num_unique_values\": 1246,\n        \"samples\": [\n          141.3379023811\n        ],\n        \"semantic_type\": \"\",\n        \"description\": \"\"\n      }\n    },\n    {\n      \"column\": \"adjLow\",\n      \"properties\": {\n        \"dtype\": \"number\",\n        \"std\": 41.46434350678449,\n        \"min\": 51.7122063451,\n        \"max\": 234.45,\n        \"num_unique_values\": 1250,\n        \"samples\": [\n          148.9443643458\n        ],\n        \"semantic_type\": \"\",\n        \"description\": \"\"\n      }\n    },\n    {\n      \"column\": \"adjOpen\",\n      \"properties\": {\n        \"dtype\": \"number\",\n        \"std\": 41.72476065617064,\n        \"min\": 55.474907216,\n        \"max\": 236.2085333823,\n        \"num_unique_values\": 1244,\n        \"samples\": [\n          131.744950512\n        ],\n        \"semantic_type\": \"\",\n        \"description\": \"\"\n      }\n    },\n    {\n      \"column\": \"adjVolume\",\n      \"properties\": {\n        \"dtype\": \"number\",\n        \"std\": 52956119,\n        \"min\": 24048344,\n        \"max\": 426884920,\n        \"num_unique_values\": 1257,\n        \"samples\": [\n          118931191\n        ],\n        \"semantic_type\": \"\",\n        \"description\": \"\"\n      }\n    },\n    {\n      \"column\": \"divCash\",\n      \"properties\": {\n        \"dtype\": \"number\",\n        \"std\": 0.051551725941842395,\n        \"min\": 0.0,\n        \"max\": 0.82,\n        \"num_unique_values\": 8,\n        \"samples\": [\n          0.77\n        ],\n        \"semantic_type\": \"\",\n        \"description\": \"\"\n      }\n    },\n    {\n      \"column\": \"splitFactor\",\n      \"properties\": {\n        \"dtype\": \"number\",\n        \"std\": 0.08461621909897445,\n        \"min\": 1.0,\n        \"max\": 4.0,\n        \"num_unique_values\": 2,\n        \"samples\": [\n          4.0\n        ],\n        \"semantic_type\": \"\",\n        \"description\": \"\"\n      }\n    },\n    {\n      \"column\": \"closed1\",\n      \"properties\": {\n        \"dtype\": \"number\",\n        \"std\": 0.1738520046566909,\n        \"min\": 0.0,\n        \"max\": 0.9999999999999998,\n        \"num_unique_values\": 1195,\n        \"samples\": [\n          0.0896681277395115\n        ],\n        \"semantic_type\": \"\",\n        \"description\": \"\"\n      }\n    }\n  ]\n}"
            }
          },
          "metadata": {},
          "execution_count": 56
        }
      ]
    },
    {
      "cell_type": "code",
      "source": [
        "correlation_matrix = df.corr()\n",
        "print(correlation_matrix)"
      ],
      "metadata": {
        "colab": {
          "base_uri": "https://localhost:8080/"
        },
        "collapsed": true,
        "id": "8XCwiRO8-aIX",
        "outputId": "b410b96e-ffbc-4b6e-df46-a8ab07943adc"
      },
      "execution_count": null,
      "outputs": [
        {
          "output_type": "stream",
          "name": "stdout",
          "text": [
            "             Unnamed: 0     close      high       low      open    volume  \\\n",
            "Unnamed: 0     1.000000 -0.270564 -0.274223 -0.266015 -0.269582 -0.114116   \n",
            "close         -0.270564  1.000000  0.999486  0.999480  0.998972 -0.511242   \n",
            "high          -0.274223  0.999486  1.000000  0.999287  0.999496 -0.502038   \n",
            "low           -0.266015  0.999480  0.999287  1.000000  0.999519 -0.519549   \n",
            "open          -0.269582  0.998972  0.999496  0.999519  1.000000 -0.510132   \n",
            "volume        -0.114116 -0.511242 -0.502038 -0.519549 -0.510132  1.000000   \n",
            "adjClose       0.918070 -0.310350 -0.314932 -0.305900 -0.309707  0.005548   \n",
            "adjHigh        0.917669 -0.314273 -0.317941 -0.309495 -0.312641  0.018844   \n",
            "adjLow         0.918493 -0.309243 -0.313490 -0.303872 -0.307606 -0.004901   \n",
            "adjOpen        0.917362 -0.312580 -0.316174 -0.307139 -0.309976  0.008132   \n",
            "adjVolume     -0.603324  0.341924  0.355858  0.329081  0.341833  0.452147   \n",
            "divCash       -0.053597  0.083606  0.083556  0.084552  0.085209 -0.055140   \n",
            "splitFactor   -0.032737 -0.024032 -0.023806 -0.024717 -0.024622  0.114525   \n",
            "closed        -0.270564  1.000000  0.999486  0.999480  0.998972 -0.511242   \n",
            "closed1       -0.270564  1.000000  0.999486  0.999480  0.998972 -0.511242   \n",
            "\n",
            "             adjClose   adjHigh    adjLow   adjOpen  adjVolume   divCash  \\\n",
            "Unnamed: 0   0.918070  0.917669  0.918493  0.917362  -0.603324 -0.053597   \n",
            "close       -0.310350 -0.314273 -0.309243 -0.312580   0.341924  0.083606   \n",
            "high        -0.314932 -0.317941 -0.313490 -0.316174   0.355858  0.083556   \n",
            "low         -0.305900 -0.309495 -0.303872 -0.307139   0.329081  0.084552   \n",
            "open        -0.309707 -0.312641 -0.307606 -0.309976   0.341833  0.085209   \n",
            "volume       0.005548  0.018844 -0.004901  0.008132   0.452147 -0.055140   \n",
            "adjClose     1.000000  0.999394  0.999395  0.998671  -0.600170 -0.056529   \n",
            "adjHigh      0.999394  1.000000  0.999240  0.999401  -0.590778 -0.057173   \n",
            "adjLow       0.999395  0.999240  1.000000  0.999398  -0.608337 -0.055962   \n",
            "adjOpen      0.998671  0.999401  0.999398  1.000000  -0.599170 -0.055963   \n",
            "adjVolume   -0.600170 -0.590778 -0.608337 -0.599170   1.000000  0.018027   \n",
            "divCash     -0.056529 -0.057173 -0.055962 -0.055963   0.018027  1.000000   \n",
            "splitFactor -0.014063 -0.013704 -0.015047 -0.014940   0.069910 -0.002986   \n",
            "closed      -0.310350 -0.314273 -0.309243 -0.312580   0.341924  0.083606   \n",
            "closed1     -0.310350 -0.314273 -0.309243 -0.312580   0.341924  0.083606   \n",
            "\n",
            "             splitFactor    closed   closed1  \n",
            "Unnamed: 0     -0.032737 -0.270564 -0.270564  \n",
            "close          -0.024032  1.000000  1.000000  \n",
            "high           -0.023806  0.999486  0.999486  \n",
            "low            -0.024717  0.999480  0.999480  \n",
            "open           -0.024622  0.998972  0.998972  \n",
            "volume          0.114525 -0.511242 -0.511242  \n",
            "adjClose       -0.014063 -0.310350 -0.310350  \n",
            "adjHigh        -0.013704 -0.314273 -0.314273  \n",
            "adjLow         -0.015047 -0.309243 -0.309243  \n",
            "adjOpen        -0.014940 -0.312580 -0.312580  \n",
            "adjVolume       0.069910  0.341924  0.341924  \n",
            "divCash        -0.002986  0.083606  0.083606  \n",
            "splitFactor     1.000000 -0.024032 -0.024032  \n",
            "closed         -0.024032  1.000000  1.000000  \n",
            "closed1        -0.024032  1.000000  1.000000  \n"
          ]
        },
        {
          "output_type": "stream",
          "name": "stderr",
          "text": [
            "<ipython-input-30-becb50483c66>:1: FutureWarning: The default value of numeric_only in DataFrame.corr is deprecated. In a future version, it will default to False. Select only valid columns or specify the value of numeric_only to silence this warning.\n",
            "  correlation_matrix = df.corr()\n"
          ]
        }
      ]
    },
    {
      "cell_type": "code",
      "source": [
        "plt.figure(figsize=(10,10))\n",
        "sns.heatmap(correlation_matrix)\n",
        "plt.show()"
      ],
      "metadata": {
        "colab": {
          "base_uri": "https://localhost:8080/",
          "height": 714
        },
        "id": "Ou6nwWgx_LlU",
        "outputId": "17c93c35-2359-407a-c903-0f5d5acdb39e"
      },
      "execution_count": null,
      "outputs": [
        {
          "output_type": "display_data",
          "data": {
            "text/plain": [
              "<Figure size 1000x1000 with 2 Axes>"
            ],
            "image/png": "[encoded data removed]"
          },
          "metadata": {}
        }
      ]
    },
    {
      "cell_type": "code",
      "source": [
        "from keras.models import Sequential\n",
        "from keras.layers import Dense, LSTM, Dropout"
      ],
      "metadata": {
        "id": "DRBwn8-EB35s"
      },
      "execution_count": null,
      "outputs": []
    },
    {
      "cell_type": "code",
      "source": [
        "training_size = int(len(df1)*0.65)\n",
        "test_size = len(df1) - training_size\n",
        "train_data, test_data = df1[0:training_size], df1[training_size:len(df)]"
      ],
      "metadata": {
        "id": "H07beT1oFB-c"
      },
      "execution_count": null,
      "outputs": []
    },
    {
      "cell_type": "code",
      "source": [
        "train_data"
      ],
      "metadata": {
        "colab": {
          "base_uri": "https://localhost:8080/",
          "height": 582
        },
        "collapsed": true,
        "id": "CHJye1E6FrHc",
        "outputId": "b5423eae-c54f-4d19-f48d-313318fde0f1"
      },
      "execution_count": null,
      "outputs": [
        {
          "output_type": "error",
          "ename": "AttributeError",
          "evalue": "'Index' object has no attribute '_format_flat'",
          "traceback": [
            "\u001b[0;31m---------------------------------------------------------------------------\u001b[0m",
            "\u001b[0;31mAttributeError\u001b[0m                            Traceback (most recent call last)",
            "\u001b[0;32m/usr/local/lib/python3.10/dist-packages/IPython/core/formatters.py\u001b[0m in \u001b[0;36m__call__\u001b[0;34m(self, obj)\u001b[0m\n\u001b[1;32m    339\u001b[0m                 \u001b[0;32mpass\u001b[0m\u001b[0;34m\u001b[0m\u001b[0;34m\u001b[0m\u001b[0m\n\u001b[1;32m    340\u001b[0m             \u001b[0;32melse\u001b[0m\u001b[0;34m:\u001b[0m\u001b[0;34m\u001b[0m\u001b[0;34m\u001b[0m\u001b[0m\n\u001b[0;32m--> 341\u001b[0;31m                 \u001b[0;32mreturn\u001b[0m \u001b[0mprinter\u001b[0m\u001b[0;34m(\u001b[0m\u001b[0mobj\u001b[0m\u001b[0;34m)\u001b[0m\u001b[0;34m\u001b[0m\u001b[0;34m\u001b[0m\u001b[0m\n\u001b[0m\u001b[1;32m    342\u001b[0m             \u001b[0;31m# Finally look for special method names\u001b[0m\u001b[0;34m\u001b[0m\u001b[0;34m\u001b[0m\u001b[0m\n\u001b[1;32m    343\u001b[0m             \u001b[0mmethod\u001b[0m \u001b[0;34m=\u001b[0m \u001b[0mget_real_method\u001b[0m\u001b[0;34m(\u001b[0m\u001b[0mobj\u001b[0m\u001b[0;34m,\u001b[0m \u001b[0mself\u001b[0m\u001b[0;34m.\u001b[0m\u001b[0mprint_method\u001b[0m\u001b[0;34m)\u001b[0m\u001b[0;34m\u001b[0m\u001b[0;34m\u001b[0m\u001b[0m\n",
            "\u001b[0;32m/usr/local/lib/python3.10/dist-packages/google/colab/_reprs.py\u001b[0m in \u001b[0;36m_pandas_series_to_html\u001b[0;34m(series)\u001b[0m\n\u001b[1;32m    215\u001b[0m   \u001b[0;32mdef\u001b[0m \u001b[0m_pandas_series_to_html\u001b[0m\u001b[0;34m(\u001b[0m\u001b[0mseries\u001b[0m\u001b[0;34m)\u001b[0m\u001b[0;34m:\u001b[0m\u001b[0;34m\u001b[0m\u001b[0;34m\u001b[0m\u001b[0m\n\u001b[1;32m    216\u001b[0m     \u001b[0;34m\"\"\"Renders a pandas Series as a DataFrame HTML table with a dtype label.\"\"\"\u001b[0m\u001b[0;34m\u001b[0m\u001b[0;34m\u001b[0m\u001b[0m\n\u001b[0;32m--> 217\u001b[0;31m     \u001b[0mseries_as_table_html\u001b[0m \u001b[0;34m=\u001b[0m \u001b[0mseries\u001b[0m\u001b[0;34m.\u001b[0m\u001b[0mto_frame\u001b[0m\u001b[0;34m(\u001b[0m\u001b[0;34m)\u001b[0m\u001b[0;34m.\u001b[0m\u001b[0m_repr_html_\u001b[0m\u001b[0;34m(\u001b[0m\u001b[0;34m)\u001b[0m  \u001b[0;31m# pylint: disable=protected-access\u001b[0m\u001b[0;34m\u001b[0m\u001b[0;34m\u001b[0m\u001b[0m\n\u001b[0m\u001b[1;32m    218\u001b[0m     \u001b[0mseries_as_table_html\u001b[0m \u001b[0;34m+=\u001b[0m \u001b[0;34mf'<br><label><b>dtype:</b> {series.dtype}</label>'\u001b[0m\u001b[0;34m\u001b[0m\u001b[0;34m\u001b[0m\u001b[0m\n\u001b[1;32m    219\u001b[0m     \u001b[0;32mreturn\u001b[0m \u001b[0mseries_as_table_html\u001b[0m\u001b[0;34m\u001b[0m\u001b[0;34m\u001b[0m\u001b[0m\n",
            "\u001b[0;32m/usr/local/lib/python3.10/dist-packages/pandas/core/frame.py\u001b[0m in \u001b[0;36m_repr_html_\u001b[0;34m(self)\u001b[0m\n\u001b[1;32m   1104\u001b[0m                 \u001b[0mdecimal\u001b[0m\u001b[0;34m=\u001b[0m\u001b[0;34m\".\"\u001b[0m\u001b[0;34m,\u001b[0m\u001b[0;34m\u001b[0m\u001b[0;34m\u001b[0m\u001b[0m\n\u001b[1;32m   1105\u001b[0m             )\n\u001b[0;32m-> 1106\u001b[0;31m             \u001b[0;32mreturn\u001b[0m \u001b[0mfmt\u001b[0m\u001b[0;34m.\u001b[0m\u001b[0mDataFrameRenderer\u001b[0m\u001b[0;34m(\u001b[0m\u001b[0mformatter\u001b[0m\u001b[0;34m)\u001b[0m\u001b[0;34m.\u001b[0m\u001b[0mto_html\u001b[0m\u001b[0;34m(\u001b[0m\u001b[0mnotebook\u001b[0m\u001b[0;34m=\u001b[0m\u001b[0;32mTrue\u001b[0m\u001b[0;34m)\u001b[0m\u001b[0;34m\u001b[0m\u001b[0;34m\u001b[0m\u001b[0m\n\u001b[0m\u001b[1;32m   1107\u001b[0m         \u001b[0;32melse\u001b[0m\u001b[0;34m:\u001b[0m\u001b[0;34m\u001b[0m\u001b[0;34m\u001b[0m\u001b[0m\n\u001b[1;32m   1108\u001b[0m             \u001b[0;32mreturn\u001b[0m \u001b[0;32mNone\u001b[0m\u001b[0;34m\u001b[0m\u001b[0;34m\u001b[0m\u001b[0m\n",
            "\u001b[0;32m/usr/local/lib/python3.10/dist-packages/pandas/io/formats/format.py\u001b[0m in \u001b[0;36mto_html\u001b[0;34m(self, buf, encoding, classes, notebook, border, table_id, render_links)\u001b[0m\n\u001b[1;32m   1108\u001b[0m             \u001b[0mrender_links\u001b[0m\u001b[0;34m=\u001b[0m\u001b[0mrender_links\u001b[0m\u001b[0;34m,\u001b[0m\u001b[0;34m\u001b[0m\u001b[0;34m\u001b[0m\u001b[0m\n\u001b[1;32m   1109\u001b[0m         )\n\u001b[0;32m-> 1110\u001b[0;31m         \u001b[0mstring\u001b[0m \u001b[0;34m=\u001b[0m \u001b[0mhtml_formatter\u001b[0m\u001b[0;34m.\u001b[0m\u001b[0mto_string\u001b[0m\u001b[0;34m(\u001b[0m\u001b[0;34m)\u001b[0m\u001b[0;34m\u001b[0m\u001b[0;34m\u001b[0m\u001b[0m\n\u001b[0m\u001b[1;32m   1111\u001b[0m         \u001b[0;32mreturn\u001b[0m \u001b[0msave_to_buffer\u001b[0m\u001b[0;34m(\u001b[0m\u001b[0mstring\u001b[0m\u001b[0;34m,\u001b[0m \u001b[0mbuf\u001b[0m\u001b[0;34m=\u001b[0m\u001b[0mbuf\u001b[0m\u001b[0;34m,\u001b[0m \u001b[0mencoding\u001b[0m\u001b[0;34m=\u001b[0m\u001b[0mencoding\u001b[0m\u001b[0;34m)\u001b[0m\u001b[0;34m\u001b[0m\u001b[0;34m\u001b[0m\u001b[0m\n\u001b[1;32m   1112\u001b[0m \u001b[0;34m\u001b[0m\u001b[0m\n",
            "\u001b[0;32m/usr/local/lib/python3.10/dist-packages/pandas/io/formats/html.py\u001b[0m in \u001b[0;36mto_string\u001b[0;34m(self)\u001b[0m\n\u001b[1;32m     86\u001b[0m             \u001b[0mby\u001b[0m \u001b[0;34m=\u001b[0m \u001b[0mchr\u001b[0m\u001b[0;34m(\u001b[0m\u001b[0;36m215\u001b[0m\u001b[0;34m)\u001b[0m  \u001b[0;31m# ×\u001b[0m\u001b[0;34m\u001b[0m\u001b[0;34m\u001b[0m\u001b[0m\n\u001b[1;32m     87\u001b[0m             self.write(\n\u001b[0;32m---> 88\u001b[0;31m                 \u001b[0;34mf\"<p>{len(self.frame)} rows {by} {len(self.frame.columns)} columns</p>\"\u001b[0m\u001b[0;34m\u001b[0m\u001b[0;34m\u001b[0m\u001b[0m\n\u001b[0m\u001b[1;32m     89\u001b[0m             )\n\u001b[1;32m     90\u001b[0m \u001b[0;34m\u001b[0m\u001b[0m\n",
            "\u001b[0;32m/usr/local/lib/python3.10/dist-packages/pandas/io/formats/html.py\u001b[0m in \u001b[0;36mrender\u001b[0;34m(self)\u001b[0m\n",
            "\u001b[0;32m/usr/local/lib/python3.10/dist-packages/pandas/io/formats/html.py\u001b[0m in \u001b[0;36mrender\u001b[0;34m(self)\u001b[0m\n\u001b[1;32m     92\u001b[0m \u001b[0;34m\u001b[0m\u001b[0m\n\u001b[1;32m     93\u001b[0m     \u001b[0;34m@\u001b[0m\u001b[0mproperty\u001b[0m\u001b[0;34m\u001b[0m\u001b[0;34m\u001b[0m\u001b[0m\n\u001b[0;32m---> 94\u001b[0;31m     \u001b[0;32mdef\u001b[0m \u001b[0mshould_show_dimensions\u001b[0m\u001b[0;34m(\u001b[0m\u001b[0mself\u001b[0m\u001b[0;34m)\u001b[0m \u001b[0;34m->\u001b[0m \u001b[0mbool\u001b[0m\u001b[0;34m:\u001b[0m\u001b[0;34m\u001b[0m\u001b[0;34m\u001b[0m\u001b[0m\n\u001b[0m\u001b[1;32m     95\u001b[0m         \u001b[0;32mreturn\u001b[0m \u001b[0mself\u001b[0m\u001b[0;34m.\u001b[0m\u001b[0mfmt\u001b[0m\u001b[0;34m.\u001b[0m\u001b[0mshould_show_dimensions\u001b[0m\u001b[0;34m\u001b[0m\u001b[0;34m\u001b[0m\u001b[0m\n\u001b[1;32m     96\u001b[0m \u001b[0;34m\u001b[0m\u001b[0m\n",
            "\u001b[0;32m/usr/local/lib/python3.10/dist-packages/pandas/io/formats/html.py\u001b[0m in \u001b[0;36m_write_table\u001b[0;34m(self, indent)\u001b[0m\n\u001b[1;32m    265\u001b[0m         \u001b[0;32mif\u001b[0m \u001b[0misinstance\u001b[0m\u001b[0;34m(\u001b[0m\u001b[0mself\u001b[0m\u001b[0;34m.\u001b[0m\u001b[0mcolumns\u001b[0m\u001b[0;34m,\u001b[0m \u001b[0mMultiIndex\u001b[0m\u001b[0;34m)\u001b[0m\u001b[0;34m:\u001b[0m\u001b[0;34m\u001b[0m\u001b[0;34m\u001b[0m\u001b[0m\n\u001b[1;32m    266\u001b[0m             \u001b[0mtemplate\u001b[0m \u001b[0;34m=\u001b[0m \u001b[0;34m'colspan=\"{span:d}\" halign=\"left\"'\u001b[0m\u001b[0;34m\u001b[0m\u001b[0;34m\u001b[0m\u001b[0m\n\u001b[0;32m--> 267\u001b[0;31m \u001b[0;34m\u001b[0m\u001b[0m\n\u001b[0m\u001b[1;32m    268\u001b[0m             \u001b[0msentinel\u001b[0m\u001b[0;34m:\u001b[0m \u001b[0mlib\u001b[0m\u001b[0;34m.\u001b[0m\u001b[0mNoDefault\u001b[0m \u001b[0;34m|\u001b[0m \u001b[0mbool\u001b[0m\u001b[0;34m\u001b[0m\u001b[0;34m\u001b[0m\u001b[0m\n\u001b[1;32m    269\u001b[0m             \u001b[0;32mif\u001b[0m \u001b[0mself\u001b[0m\u001b[0;34m.\u001b[0m\u001b[0mfmt\u001b[0m\u001b[0;34m.\u001b[0m\u001b[0msparsify\u001b[0m\u001b[0;34m:\u001b[0m\u001b[0;34m\u001b[0m\u001b[0;34m\u001b[0m\u001b[0m\n",
            "\u001b[0;32m/usr/local/lib/python3.10/dist-packages/pandas/io/formats/html.py\u001b[0m in \u001b[0;36m_write_header\u001b[0;34m(self, indent)\u001b[0m\n\u001b[1;32m    401\u001b[0m             \u001b[0mfmt_values\u001b[0m \u001b[0;34m=\u001b[0m \u001b[0;34m{\u001b[0m\u001b[0mi\u001b[0m\u001b[0;34m:\u001b[0m \u001b[0mself\u001b[0m\u001b[0;34m.\u001b[0m\u001b[0mfmt\u001b[0m\u001b[0;34m.\u001b[0m\u001b[0mformat_col\u001b[0m\u001b[0;34m(\u001b[0m\u001b[0mi\u001b[0m\u001b[0;34m)\u001b[0m \u001b[0;32mfor\u001b[0m \u001b[0mi\u001b[0m \u001b[0;32min\u001b[0m \u001b[0mrange\u001b[0m\u001b[0;34m(\u001b[0m\u001b[0mself\u001b[0m\u001b[0;34m.\u001b[0m\u001b[0mncols\u001b[0m\u001b[0;34m)\u001b[0m\u001b[0;34m}\u001b[0m\u001b[0;34m\u001b[0m\u001b[0;34m\u001b[0m\u001b[0m\n\u001b[1;32m    402\u001b[0m         \u001b[0;32mreturn\u001b[0m \u001b[0mfmt_values\u001b[0m\u001b[0;34m\u001b[0m\u001b[0;34m\u001b[0m\u001b[0m\n\u001b[0;32m--> 403\u001b[0;31m \u001b[0;34m\u001b[0m\u001b[0m\n\u001b[0m\u001b[1;32m    404\u001b[0m     \u001b[0;32mdef\u001b[0m \u001b[0m_write_body\u001b[0m\u001b[0;34m(\u001b[0m\u001b[0mself\u001b[0m\u001b[0;34m,\u001b[0m \u001b[0mindent\u001b[0m\u001b[0;34m:\u001b[0m \u001b[0mint\u001b[0m\u001b[0;34m)\u001b[0m \u001b[0;34m->\u001b[0m \u001b[0;32mNone\u001b[0m\u001b[0;34m:\u001b[0m\u001b[0;34m\u001b[0m\u001b[0;34m\u001b[0m\u001b[0m\n\u001b[1;32m    405\u001b[0m         \u001b[0mself\u001b[0m\u001b[0;34m.\u001b[0m\u001b[0mwrite\u001b[0m\u001b[0;34m(\u001b[0m\u001b[0;34m\"<tbody>\"\u001b[0m\u001b[0;34m,\u001b[0m \u001b[0mindent\u001b[0m\u001b[0;34m)\u001b[0m\u001b[0;34m\u001b[0m\u001b[0;34m\u001b[0m\u001b[0m\n",
            "\u001b[0;32m/usr/local/lib/python3.10/dist-packages/pandas/io/formats/html.py\u001b[0m in \u001b[0;36m_write_col_header\u001b[0;34m(self, indent)\u001b[0m\n\u001b[1;32m    381\u001b[0m     \u001b[0;32mdef\u001b[0m \u001b[0m_write_row_header\u001b[0m\u001b[0;34m(\u001b[0m\u001b[0mself\u001b[0m\u001b[0;34m,\u001b[0m \u001b[0mindent\u001b[0m\u001b[0;34m:\u001b[0m \u001b[0mint\u001b[0m\u001b[0;34m)\u001b[0m \u001b[0;34m->\u001b[0m \u001b[0;32mNone\u001b[0m\u001b[0;34m:\u001b[0m\u001b[0;34m\u001b[0m\u001b[0;34m\u001b[0m\u001b[0m\n\u001b[1;32m    382\u001b[0m         \u001b[0mis_truncated_horizontally\u001b[0m \u001b[0;34m=\u001b[0m \u001b[0mself\u001b[0m\u001b[0;34m.\u001b[0m\u001b[0mfmt\u001b[0m\u001b[0;34m.\u001b[0m\u001b[0mis_truncated_horizontally\u001b[0m\u001b[0;34m\u001b[0m\u001b[0;34m\u001b[0m\u001b[0m\n\u001b[0;32m--> 383\u001b[0;31m         row = [x if x is not None else \"\" for x in self.frame.index.names] + [\"\"] * (\n\u001b[0m\u001b[1;32m    384\u001b[0m             \u001b[0mself\u001b[0m\u001b[0;34m.\u001b[0m\u001b[0mncols\u001b[0m \u001b[0;34m+\u001b[0m \u001b[0;34m(\u001b[0m\u001b[0;36m1\u001b[0m \u001b[0;32mif\u001b[0m \u001b[0mis_truncated_horizontally\u001b[0m \u001b[0;32melse\u001b[0m \u001b[0;36m0\u001b[0m\u001b[0;34m)\u001b[0m\u001b[0;34m\u001b[0m\u001b[0;34m\u001b[0m\u001b[0m\n\u001b[1;32m    385\u001b[0m         )\n",
            "\u001b[0;32m/usr/local/lib/python3.10/dist-packages/pandas/io/formats/html.py\u001b[0m in \u001b[0;36m_get_columns_formatted_values\u001b[0;34m(self)\u001b[0m\n\u001b[1;32m    609\u001b[0m         template_select = \"\"\"\\\n\u001b[1;32m    610\u001b[0m                 .dataframe %s {\n\u001b[0;32m--> 611\u001b[0;31m                     \u001b[0;34m%\u001b[0m\u001b[0ms\u001b[0m\u001b[0;34m:\u001b[0m \u001b[0;34m%\u001b[0m\u001b[0ms\u001b[0m\u001b[0;34m;\u001b[0m\u001b[0;34m\u001b[0m\u001b[0;34m\u001b[0m\u001b[0m\n\u001b[0m\u001b[1;32m    612\u001b[0m                 }\"\"\"\n\u001b[1;32m    613\u001b[0m         element_props = [\n",
            "\u001b[0;31mAttributeError\u001b[0m: 'Index' object has no attribute '_format_flat'"
          ]
        },
        {
          "output_type": "execute_result",
          "data": {
            "text/plain": [
              "0      0.377358\n",
              "1      0.376431\n",
              "2      0.376706\n",
              "3      0.382192\n",
              "4      0.383970\n",
              "         ...   \n",
              "812    0.092974\n",
              "813    0.097909\n",
              "814    0.090570\n",
              "815    0.093801\n",
              "816    0.096656\n",
              "Name: close, Length: 817, dtype: float64"
            ]
          },
          "metadata": {},
          "execution_count": 39
        }
      ]
    },
    {
      "cell_type": "code",
      "source": [
        "test_data"
      ],
      "metadata": {
        "colab": {
          "base_uri": "https://localhost:8080/",
          "height": 582
        },
        "collapsed": true,
        "id": "MSLYSgGtK4Fd",
        "outputId": "4219c21f-2936-4382-8352-840364af6d5a"
      },
      "execution_count": null,
      "outputs": [
        {
          "output_type": "error",
          "ename": "AttributeError",
          "evalue": "'Index' object has no attribute '_format_flat'",
          "traceback": [
            "\u001b[0;31m---------------------------------------------------------------------------\u001b[0m",
            "\u001b[0;31mAttributeError\u001b[0m                            Traceback (most recent call last)",
            "\u001b[0;32m/usr/local/lib/python3.10/dist-packages/IPython/core/formatters.py\u001b[0m in \u001b[0;36m__call__\u001b[0;34m(self, obj)\u001b[0m\n\u001b[1;32m    339\u001b[0m                 \u001b[0;32mpass\u001b[0m\u001b[0;34m\u001b[0m\u001b[0;34m\u001b[0m\u001b[0m\n\u001b[1;32m    340\u001b[0m             \u001b[0;32melse\u001b[0m\u001b[0;34m:\u001b[0m\u001b[0;34m\u001b[0m\u001b[0;34m\u001b[0m\u001b[0m\n\u001b[0;32m--> 341\u001b[0;31m                 \u001b[0;32mreturn\u001b[0m \u001b[0mprinter\u001b[0m\u001b[0;34m(\u001b[0m\u001b[0mobj\u001b[0m\u001b[0;34m)\u001b[0m\u001b[0;34m\u001b[0m\u001b[0;34m\u001b[0m\u001b[0m\n\u001b[0m\u001b[1;32m    342\u001b[0m             \u001b[0;31m# Finally look for special method names\u001b[0m\u001b[0;34m\u001b[0m\u001b[0;34m\u001b[0m\u001b[0m\n\u001b[1;32m    343\u001b[0m             \u001b[0mmethod\u001b[0m \u001b[0;34m=\u001b[0m \u001b[0mget_real_method\u001b[0m\u001b[0;34m(\u001b[0m\u001b[0mobj\u001b[0m\u001b[0;34m,\u001b[0m \u001b[0mself\u001b[0m\u001b[0;34m.\u001b[0m\u001b[0mprint_method\u001b[0m\u001b[0;34m)\u001b[0m\u001b[0;34m\u001b[0m\u001b[0;34m\u001b[0m\u001b[0m\n",
            "\u001b[0;32m/usr/local/lib/python3.10/dist-packages/google/colab/_reprs.py\u001b[0m in \u001b[0;36m_pandas_series_to_html\u001b[0;34m(series)\u001b[0m\n\u001b[1;32m    215\u001b[0m   \u001b[0;32mdef\u001b[0m \u001b[0m_pandas_series_to_html\u001b[0m\u001b[0;34m(\u001b[0m\u001b[0mseries\u001b[0m\u001b[0;34m)\u001b[0m\u001b[0;34m:\u001b[0m\u001b[0;34m\u001b[0m\u001b[0;34m\u001b[0m\u001b[0m\n\u001b[1;32m    216\u001b[0m     \u001b[0;34m\"\"\"Renders a pandas Series as a DataFrame HTML table with a dtype label.\"\"\"\u001b[0m\u001b[0;34m\u001b[0m\u001b[0;34m\u001b[0m\u001b[0m\n\u001b[0;32m--> 217\u001b[0;31m     \u001b[0mseries_as_table_html\u001b[0m \u001b[0;34m=\u001b[0m \u001b[0mseries\u001b[0m\u001b[0;34m.\u001b[0m\u001b[0mto_frame\u001b[0m\u001b[0;34m(\u001b[0m\u001b[0;34m)\u001b[0m\u001b[0;34m.\u001b[0m\u001b[0m_repr_html_\u001b[0m\u001b[0;34m(\u001b[0m\u001b[0;34m)\u001b[0m  \u001b[0;31m# pylint: disable=protected-access\u001b[0m\u001b[0;34m\u001b[0m\u001b[0;34m\u001b[0m\u001b[0m\n\u001b[0m\u001b[1;32m    218\u001b[0m     \u001b[0mseries_as_table_html\u001b[0m \u001b[0;34m+=\u001b[0m \u001b[0;34mf'<br><label><b>dtype:</b> {series.dtype}</label>'\u001b[0m\u001b[0;34m\u001b[0m\u001b[0;34m\u001b[0m\u001b[0m\n\u001b[1;32m    219\u001b[0m     \u001b[0;32mreturn\u001b[0m \u001b[0mseries_as_table_html\u001b[0m\u001b[0;34m\u001b[0m\u001b[0;34m\u001b[0m\u001b[0m\n",
            "\u001b[0;32m/usr/local/lib/python3.10/dist-packages/pandas/core/frame.py\u001b[0m in \u001b[0;36m_repr_html_\u001b[0;34m(self)\u001b[0m\n\u001b[1;32m   1104\u001b[0m                 \u001b[0mdecimal\u001b[0m\u001b[0;34m=\u001b[0m\u001b[0;34m\".\"\u001b[0m\u001b[0;34m,\u001b[0m\u001b[0;34m\u001b[0m\u001b[0;34m\u001b[0m\u001b[0m\n\u001b[1;32m   1105\u001b[0m             )\n\u001b[0;32m-> 1106\u001b[0;31m             \u001b[0;32mreturn\u001b[0m \u001b[0mfmt\u001b[0m\u001b[0;34m.\u001b[0m\u001b[0mDataFrameRenderer\u001b[0m\u001b[0;34m(\u001b[0m\u001b[0mformatter\u001b[0m\u001b[0;34m)\u001b[0m\u001b[0;34m.\u001b[0m\u001b[0mto_html\u001b[0m\u001b[0;34m(\u001b[0m\u001b[0mnotebook\u001b[0m\u001b[0;34m=\u001b[0m\u001b[0;32mTrue\u001b[0m\u001b[0;34m)\u001b[0m\u001b[0;34m\u001b[0m\u001b[0;34m\u001b[0m\u001b[0m\n\u001b[0m\u001b[1;32m   1107\u001b[0m         \u001b[0;32melse\u001b[0m\u001b[0;34m:\u001b[0m\u001b[0;34m\u001b[0m\u001b[0;34m\u001b[0m\u001b[0m\n\u001b[1;32m   1108\u001b[0m             \u001b[0;32mreturn\u001b[0m \u001b[0;32mNone\u001b[0m\u001b[0;34m\u001b[0m\u001b[0;34m\u001b[0m\u001b[0m\n",
            "\u001b[0;32m/usr/local/lib/python3.10/dist-packages/pandas/io/formats/format.py\u001b[0m in \u001b[0;36mto_html\u001b[0;34m(self, buf, encoding, classes, notebook, border, table_id, render_links)\u001b[0m\n\u001b[1;32m   1108\u001b[0m             \u001b[0mrender_links\u001b[0m\u001b[0;34m=\u001b[0m\u001b[0mrender_links\u001b[0m\u001b[0;34m,\u001b[0m\u001b[0;34m\u001b[0m\u001b[0;34m\u001b[0m\u001b[0m\n\u001b[1;32m   1109\u001b[0m         )\n\u001b[0;32m-> 1110\u001b[0;31m         \u001b[0mstring\u001b[0m \u001b[0;34m=\u001b[0m \u001b[0mhtml_formatter\u001b[0m\u001b[0;34m.\u001b[0m\u001b[0mto_string\u001b[0m\u001b[0;34m(\u001b[0m\u001b[0;34m)\u001b[0m\u001b[0;34m\u001b[0m\u001b[0;34m\u001b[0m\u001b[0m\n\u001b[0m\u001b[1;32m   1111\u001b[0m         \u001b[0;32mreturn\u001b[0m \u001b[0msave_to_buffer\u001b[0m\u001b[0;34m(\u001b[0m\u001b[0mstring\u001b[0m\u001b[0;34m,\u001b[0m \u001b[0mbuf\u001b[0m\u001b[0;34m=\u001b[0m\u001b[0mbuf\u001b[0m\u001b[0;34m,\u001b[0m \u001b[0mencoding\u001b[0m\u001b[0;34m=\u001b[0m\u001b[0mencoding\u001b[0m\u001b[0;34m)\u001b[0m\u001b[0;34m\u001b[0m\u001b[0;34m\u001b[0m\u001b[0m\n\u001b[1;32m   1112\u001b[0m \u001b[0;34m\u001b[0m\u001b[0m\n",
            "\u001b[0;32m/usr/local/lib/python3.10/dist-packages/pandas/io/formats/html.py\u001b[0m in \u001b[0;36mto_string\u001b[0;34m(self)\u001b[0m\n\u001b[1;32m     86\u001b[0m             \u001b[0mby\u001b[0m \u001b[0;34m=\u001b[0m \u001b[0mchr\u001b[0m\u001b[0;34m(\u001b[0m\u001b[0;36m215\u001b[0m\u001b[0;34m)\u001b[0m  \u001b[0;31m# ×\u001b[0m\u001b[0;34m\u001b[0m\u001b[0;34m\u001b[0m\u001b[0m\n\u001b[1;32m     87\u001b[0m             self.write(\n\u001b[0;32m---> 88\u001b[0;31m                 \u001b[0;34mf\"<p>{len(self.frame)} rows {by} {len(self.frame.columns)} columns</p>\"\u001b[0m\u001b[0;34m\u001b[0m\u001b[0;34m\u001b[0m\u001b[0m\n\u001b[0m\u001b[1;32m     89\u001b[0m             )\n\u001b[1;32m     90\u001b[0m \u001b[0;34m\u001b[0m\u001b[0m\n",
            "\u001b[0;32m/usr/local/lib/python3.10/dist-packages/pandas/io/formats/html.py\u001b[0m in \u001b[0;36mrender\u001b[0;34m(self)\u001b[0m\n",
            "\u001b[0;32m/usr/local/lib/python3.10/dist-packages/pandas/io/formats/html.py\u001b[0m in \u001b[0;36mrender\u001b[0;34m(self)\u001b[0m\n\u001b[1;32m     92\u001b[0m \u001b[0;34m\u001b[0m\u001b[0m\n\u001b[1;32m     93\u001b[0m     \u001b[0;34m@\u001b[0m\u001b[0mproperty\u001b[0m\u001b[0;34m\u001b[0m\u001b[0;34m\u001b[0m\u001b[0m\n\u001b[0;32m---> 94\u001b[0;31m     \u001b[0;32mdef\u001b[0m \u001b[0mshould_show_dimensions\u001b[0m\u001b[0;34m(\u001b[0m\u001b[0mself\u001b[0m\u001b[0;34m)\u001b[0m \u001b[0;34m->\u001b[0m \u001b[0mbool\u001b[0m\u001b[0;34m:\u001b[0m\u001b[0;34m\u001b[0m\u001b[0;34m\u001b[0m\u001b[0m\n\u001b[0m\u001b[1;32m     95\u001b[0m         \u001b[0;32mreturn\u001b[0m \u001b[0mself\u001b[0m\u001b[0;34m.\u001b[0m\u001b[0mfmt\u001b[0m\u001b[0;34m.\u001b[0m\u001b[0mshould_show_dimensions\u001b[0m\u001b[0;34m\u001b[0m\u001b[0;34m\u001b[0m\u001b[0m\n\u001b[1;32m     96\u001b[0m \u001b[0;34m\u001b[0m\u001b[0m\n",
            "\u001b[0;32m/usr/local/lib/python3.10/dist-packages/pandas/io/formats/html.py\u001b[0m in \u001b[0;36m_write_table\u001b[0;34m(self, indent)\u001b[0m\n\u001b[1;32m    265\u001b[0m         \u001b[0;32mif\u001b[0m \u001b[0misinstance\u001b[0m\u001b[0;34m(\u001b[0m\u001b[0mself\u001b[0m\u001b[0;34m.\u001b[0m\u001b[0mcolumns\u001b[0m\u001b[0;34m,\u001b[0m \u001b[0mMultiIndex\u001b[0m\u001b[0;34m)\u001b[0m\u001b[0;34m:\u001b[0m\u001b[0;34m\u001b[0m\u001b[0;34m\u001b[0m\u001b[0m\n\u001b[1;32m    266\u001b[0m             \u001b[0mtemplate\u001b[0m \u001b[0;34m=\u001b[0m \u001b[0;34m'colspan=\"{span:d}\" halign=\"left\"'\u001b[0m\u001b[0;34m\u001b[0m\u001b[0;34m\u001b[0m\u001b[0m\n\u001b[0;32m--> 267\u001b[0;31m \u001b[0;34m\u001b[0m\u001b[0m\n\u001b[0m\u001b[1;32m    268\u001b[0m             \u001b[0msentinel\u001b[0m\u001b[0;34m:\u001b[0m \u001b[0mlib\u001b[0m\u001b[0;34m.\u001b[0m\u001b[0mNoDefault\u001b[0m \u001b[0;34m|\u001b[0m \u001b[0mbool\u001b[0m\u001b[0;34m\u001b[0m\u001b[0;34m\u001b[0m\u001b[0m\n\u001b[1;32m    269\u001b[0m             \u001b[0;32mif\u001b[0m \u001b[0mself\u001b[0m\u001b[0;34m.\u001b[0m\u001b[0mfmt\u001b[0m\u001b[0;34m.\u001b[0m\u001b[0msparsify\u001b[0m\u001b[0;34m:\u001b[0m\u001b[0;34m\u001b[0m\u001b[0;34m\u001b[0m\u001b[0m\n",
            "\u001b[0;32m/usr/local/lib/python3.10/dist-packages/pandas/io/formats/html.py\u001b[0m in \u001b[0;36m_write_header\u001b[0;34m(self, indent)\u001b[0m\n\u001b[1;32m    401\u001b[0m             \u001b[0mfmt_values\u001b[0m \u001b[0;34m=\u001b[0m \u001b[0;34m{\u001b[0m\u001b[0mi\u001b[0m\u001b[0;34m:\u001b[0m \u001b[0mself\u001b[0m\u001b[0;34m.\u001b[0m\u001b[0mfmt\u001b[0m\u001b[0;34m.\u001b[0m\u001b[0mformat_col\u001b[0m\u001b[0;34m(\u001b[0m\u001b[0mi\u001b[0m\u001b[0;34m)\u001b[0m \u001b[0;32mfor\u001b[0m \u001b[0mi\u001b[0m \u001b[0;32min\u001b[0m \u001b[0mrange\u001b[0m\u001b[0;34m(\u001b[0m\u001b[0mself\u001b[0m\u001b[0;34m.\u001b[0m\u001b[0mncols\u001b[0m\u001b[0;34m)\u001b[0m\u001b[0;34m}\u001b[0m\u001b[0;34m\u001b[0m\u001b[0;34m\u001b[0m\u001b[0m\n\u001b[1;32m    402\u001b[0m         \u001b[0;32mreturn\u001b[0m \u001b[0mfmt_values\u001b[0m\u001b[0;34m\u001b[0m\u001b[0;34m\u001b[0m\u001b[0m\n\u001b[0;32m--> 403\u001b[0;31m \u001b[0;34m\u001b[0m\u001b[0m\n\u001b[0m\u001b[1;32m    404\u001b[0m     \u001b[0;32mdef\u001b[0m \u001b[0m_write_body\u001b[0m\u001b[0;34m(\u001b[0m\u001b[0mself\u001b[0m\u001b[0;34m,\u001b[0m \u001b[0mindent\u001b[0m\u001b[0;34m:\u001b[0m \u001b[0mint\u001b[0m\u001b[0;34m)\u001b[0m \u001b[0;34m->\u001b[0m \u001b[0;32mNone\u001b[0m\u001b[0;34m:\u001b[0m\u001b[0;34m\u001b[0m\u001b[0;34m\u001b[0m\u001b[0m\n\u001b[1;32m    405\u001b[0m         \u001b[0mself\u001b[0m\u001b[0;34m.\u001b[0m\u001b[0mwrite\u001b[0m\u001b[0;34m(\u001b[0m\u001b[0;34m\"<tbody>\"\u001b[0m\u001b[0;34m,\u001b[0m \u001b[0mindent\u001b[0m\u001b[0;34m)\u001b[0m\u001b[0;34m\u001b[0m\u001b[0;34m\u001b[0m\u001b[0m\n",
            "\u001b[0;32m/usr/local/lib/python3.10/dist-packages/pandas/io/formats/html.py\u001b[0m in \u001b[0;36m_write_col_header\u001b[0;34m(self, indent)\u001b[0m\n\u001b[1;32m    381\u001b[0m     \u001b[0;32mdef\u001b[0m \u001b[0m_write_row_header\u001b[0m\u001b[0;34m(\u001b[0m\u001b[0mself\u001b[0m\u001b[0;34m,\u001b[0m \u001b[0mindent\u001b[0m\u001b[0;34m:\u001b[0m \u001b[0mint\u001b[0m\u001b[0;34m)\u001b[0m \u001b[0;34m->\u001b[0m \u001b[0;32mNone\u001b[0m\u001b[0;34m:\u001b[0m\u001b[0;34m\u001b[0m\u001b[0;34m\u001b[0m\u001b[0m\n\u001b[1;32m    382\u001b[0m         \u001b[0mis_truncated_horizontally\u001b[0m \u001b[0;34m=\u001b[0m \u001b[0mself\u001b[0m\u001b[0;34m.\u001b[0m\u001b[0mfmt\u001b[0m\u001b[0;34m.\u001b[0m\u001b[0mis_truncated_horizontally\u001b[0m\u001b[0;34m\u001b[0m\u001b[0;34m\u001b[0m\u001b[0m\n\u001b[0;32m--> 383\u001b[0;31m         row = [x if x is not None else \"\" for x in self.frame.index.names] + [\"\"] * (\n\u001b[0m\u001b[1;32m    384\u001b[0m             \u001b[0mself\u001b[0m\u001b[0;34m.\u001b[0m\u001b[0mncols\u001b[0m \u001b[0;34m+\u001b[0m \u001b[0;34m(\u001b[0m\u001b[0;36m1\u001b[0m \u001b[0;32mif\u001b[0m \u001b[0mis_truncated_horizontally\u001b[0m \u001b[0;32melse\u001b[0m \u001b[0;36m0\u001b[0m\u001b[0;34m)\u001b[0m\u001b[0;34m\u001b[0m\u001b[0;34m\u001b[0m\u001b[0m\n\u001b[1;32m    385\u001b[0m         )\n",
            "\u001b[0;32m/usr/local/lib/python3.10/dist-packages/pandas/io/formats/html.py\u001b[0m in \u001b[0;36m_get_columns_formatted_values\u001b[0;34m(self)\u001b[0m\n\u001b[1;32m    609\u001b[0m         template_select = \"\"\"\\\n\u001b[1;32m    610\u001b[0m                 .dataframe %s {\n\u001b[0;32m--> 611\u001b[0;31m                     \u001b[0;34m%\u001b[0m\u001b[0ms\u001b[0m\u001b[0;34m:\u001b[0m \u001b[0;34m%\u001b[0m\u001b[0ms\u001b[0m\u001b[0;34m;\u001b[0m\u001b[0;34m\u001b[0m\u001b[0;34m\u001b[0m\u001b[0m\n\u001b[0m\u001b[1;32m    612\u001b[0m                 }\"\"\"\n\u001b[1;32m    613\u001b[0m         element_props = [\n",
            "\u001b[0;31mAttributeError\u001b[0m: 'Index' object has no attribute '_format_flat'"
          ]
        },
        {
          "output_type": "execute_result",
          "data": {
            "text/plain": [
              "817     0.110157\n",
              "818     0.119374\n",
              "819     0.112436\n",
              "820     0.119750\n",
              "821     0.112912\n",
              "          ...   \n",
              "1252    0.312010\n",
              "1253    0.316994\n",
              "1254    0.317671\n",
              "1255    0.308729\n",
              "1256    0.298234\n",
              "Name: close, Length: 440, dtype: float64"
            ]
          },
          "metadata": {},
          "execution_count": 40
        }
      ]
    },
    {
      "cell_type": "code",
      "source": [
        "import numpy\n",
        "# convert an array of values into a dataset matrix\n",
        "def create_dataset(dataset, time_step=1):\n",
        "\tdataX, dataY = [], []\n",
        "\tfor i in range(len(dataset)-time_step-1):\n",
        "\t\ta = dataset.iloc[i:(i+time_step)].values   ###i=0, 0,1,2,3-----99   100\n",
        "\t\tdataX.append(a)\n",
        "\t\tdataY.append(dataset.iloc[i + time_step])\n",
        "\treturn numpy.array(dataX), numpy.array(dataY)"
      ],
      "metadata": {
        "id": "FvGr5tuOK9i7"
      },
      "execution_count": null,
      "outputs": []
    },
    {
      "cell_type": "code",
      "source": [
        "# reshape into X=t,t+1,t+2,t+3 and Y=t+4\n",
        "time_step = 100\n",
        "X_train, y_train = create_dataset(train_data, time_step)\n",
        "X_test, ytest = create_dataset(test_data, time_step)"
      ],
      "metadata": {
        "id": "-Dt0gQ8PLh0x"
      },
      "execution_count": null,
      "outputs": []
    },
    {
      "cell_type": "code",
      "source": [
        "print(X_train.shape, y_train.shape)"
      ],
      "metadata": {
        "colab": {
          "base_uri": "https://localhost:8080/"
        },
        "id": "s5ZsKc-sLlmm",
        "outputId": "3e1c8972-1d4f-4b83-a60e-5aae59cb9de7"
      },
      "execution_count": null,
      "outputs": [
        {
          "output_type": "stream",
          "name": "stdout",
          "text": [
            "(716, 100) (716,)\n"
          ]
        }
      ]
    },
    {
      "cell_type": "code",
      "source": [
        "print(X_test.shape, ytest.shape)"
      ],
      "metadata": {
        "colab": {
          "base_uri": "https://localhost:8080/"
        },
        "id": "7ceZWtCTOFvV",
        "outputId": "c1ebef76-aad2-49ca-df30-3ac7235656ab"
      },
      "execution_count": null,
      "outputs": [
        {
          "output_type": "stream",
          "name": "stdout",
          "text": [
            "(339, 100) (339,)\n"
          ]
        }
      ]
    },
    {
      "cell_type": "code",
      "source": [
        "# reshape input to be [samples, time steps, features] which is required for LSTM\n",
        "X_train =X_train.reshape(X_train.shape[0],X_train.shape[1] , 1)\n",
        "X_test = X_test.reshape(X_test.shape[0],X_test.shape[1] , 1)"
      ],
      "metadata": {
        "id": "uDbVUXHGOdlH"
      },
      "execution_count": null,
      "outputs": []
    },
    {
      "cell_type": "code",
      "source": [
        "### Create the Stacked LSTM model\n",
        "from tensorflow.keras.models import Sequential\n",
        "from tensorflow.keras.layers import Dense\n",
        "from tensorflow.keras.layers import LSTM"
      ],
      "metadata": {
        "id": "CEQRX1hrPgoE"
      },
      "execution_count": null,
      "outputs": []
    },
    {
      "cell_type": "code",
      "source": [
        "model=Sequential()\n",
        "model.add(LSTM(50,return_sequences=True,input_shape=(100,1)))\n",
        "model.add(LSTM(50,return_sequences=True))\n",
        "model.add(LSTM(50))\n",
        "model.add(Dense(1))\n",
        "model.compile(loss='mean_squared_error',optimizer='adam')"
      ],
      "metadata": {
        "colab": {
          "base_uri": "https://localhost:8080/"
        },
        "id": "WTNqPMbDPk7y",
        "outputId": "c4e0ac17-385d-447a-b331-2270d63e5154"
      },
      "execution_count": null,
      "outputs": [
        {
          "output_type": "stream",
          "name": "stderr",
          "text": [
            "/usr/local/lib/python3.10/dist-packages/keras/src/layers/rnn/rnn.py:204: UserWarning: Do not pass an `input_shape`/`input_dim` argument to a layer. When using Sequential models, prefer using an `Input(shape)` object as the first layer in the model instead.\n",
            "  super().__init__(**kwargs)\n"
          ]
        }
      ]
    },
    {
      "cell_type": "code",
      "source": [
        "model.summary()"
      ],
      "metadata": {
        "colab": {
          "base_uri": "https://localhost:8080/",
          "height": 257
        },
        "id": "jo-UL1qSPoi_",
        "outputId": "9330154e-0fe6-4f4d-caef-0a959b381cfe"
      },
      "execution_count": null,
      "outputs": [
        {
          "output_type": "display_data",
          "data": {
            "text/plain": [
              "\u001b[1mModel: \"sequential\"\u001b[0m\n"
            ],
            "text/html": [
              "<pre style=\"white-space:pre;overflow-x:auto;line-height:normal;font-family:Menlo,'DejaVu Sans Mono',consolas,'Courier New',monospace\"><span style=\"font-weight: bold\">Model: \"sequential\"</span>\n",
              "</pre>\n"
            ]
          },
          "metadata": {}
        },
        {
          "output_type": "display_data",
          "data": {
            "text/plain": [
              "┏━━━━━━━━━━━━━━━━━━━━━━━━━━━━━━━━━━━━━━┳━━━━━━━━━━━━━━━━━━━━━━━━━━━━━┳━━━━━━━━━━━━━━━━━┓\n",
              "┃\u001b[1m \u001b[0m\u001b[1mLayer (type)                        \u001b[0m\u001b[1m \u001b[0m┃\u001b[1m \u001b[0m\u001b[1mOutput Shape               \u001b[0m\u001b[1m \u001b[0m┃\u001b[1m \u001b[0m\u001b[1m        Param #\u001b[0m\u001b[1m \u001b[0m┃\n",
              "┡━━━━━━━━━━━━━━━━━━━━━━━━━━━━━━━━━━━━━━╇━━━━━━━━━━━━━━━━━━━━━━━━━━━━━╇━━━━━━━━━━━━━━━━━┩\n",
              "│ lstm (\u001b[38;5;33mLSTM\u001b[0m)                          │ (\u001b[38;5;45mNone\u001b[0m, \u001b[38;5;34m100\u001b[0m, \u001b[38;5;34m50\u001b[0m)             │          \u001b[38;5;34m10,400\u001b[0m │\n",
              "├──────────────────────────────────────┼─────────────────────────────┼─────────────────┤\n",
              "│ lstm_1 (\u001b[38;5;33mLSTM\u001b[0m)                        │ (\u001b[38;5;45mNone\u001b[0m, \u001b[38;5;34m100\u001b[0m, \u001b[38;5;34m50\u001b[0m)             │          \u001b[38;5;34m20,200\u001b[0m │\n",
              "├──────────────────────────────────────┼─────────────────────────────┼─────────────────┤\n",
              "│ lstm_2 (\u001b[38;5;33mLSTM\u001b[0m)                        │ (\u001b[38;5;45mNone\u001b[0m, \u001b[38;5;34m50\u001b[0m)                  │          \u001b[38;5;34m20,200\u001b[0m │\n",
              "├──────────────────────────────────────┼─────────────────────────────┼─────────────────┤\n",
              "│ dense (\u001b[38;5;33mDense\u001b[0m)                        │ (\u001b[38;5;45mNone\u001b[0m, \u001b[38;5;34m1\u001b[0m)                   │              \u001b[38;5;34m51\u001b[0m │\n",
              "└──────────────────────────────────────┴─────────────────────────────┴─────────────────┘\n"
            ],
            "text/html": [
              "<pre style=\"white-space:pre;overflow-x:auto;line-height:normal;font-family:Menlo,'DejaVu Sans Mono',consolas,'Courier New',monospace\">┏━━━━━━━━━━━━━━━━━━━━━━━━━━━━━━━━━━━━━━┳━━━━━━━━━━━━━━━━━━━━━━━━━━━━━┳━━━━━━━━━━━━━━━━━┓\n",
              "┃<span style=\"font-weight: bold\"> Layer (type)                         </span>┃<span style=\"font-weight: bold\"> Output Shape                </span>┃<span style=\"font-weight: bold\">         Param # </span>┃\n",
              "┡━━━━━━━━━━━━━━━━━━━━━━━━━━━━━━━━━━━━━━╇━━━━━━━━━━━━━━━━━━━━━━━━━━━━━╇━━━━━━━━━━━━━━━━━┩\n",
              "│ lstm (<span style=\"color: #0087ff; text-decoration-color: #0087ff\">LSTM</span>)                          │ (<span style=\"color: #00d7ff; text-decoration-color: #00d7ff\">None</span>, <span style=\"color: #00af00; text-decoration-color: #00af00\">100</span>, <span style=\"color: #00af00; text-decoration-color: #00af00\">50</span>)             │          <span style=\"color: #00af00; text-decoration-color: #00af00\">10,400</span> │\n",
              "├──────────────────────────────────────┼─────────────────────────────┼─────────────────┤\n",
              "│ lstm_1 (<span style=\"color: #0087ff; text-decoration-color: #0087ff\">LSTM</span>)                        │ (<span style=\"color: #00d7ff; text-decoration-color: #00d7ff\">None</span>, <span style=\"color: #00af00; text-decoration-color: #00af00\">100</span>, <span style=\"color: #00af00; text-decoration-color: #00af00\">50</span>)             │          <span style=\"color: #00af00; text-decoration-color: #00af00\">20,200</span> │\n",
              "├──────────────────────────────────────┼─────────────────────────────┼─────────────────┤\n",
              "│ lstm_2 (<span style=\"color: #0087ff; text-decoration-color: #0087ff\">LSTM</span>)                        │ (<span style=\"color: #00d7ff; text-decoration-color: #00d7ff\">None</span>, <span style=\"color: #00af00; text-decoration-color: #00af00\">50</span>)                  │          <span style=\"color: #00af00; text-decoration-color: #00af00\">20,200</span> │\n",
              "├──────────────────────────────────────┼─────────────────────────────┼─────────────────┤\n",
              "│ dense (<span style=\"color: #0087ff; text-decoration-color: #0087ff\">Dense</span>)                        │ (<span style=\"color: #00d7ff; text-decoration-color: #00d7ff\">None</span>, <span style=\"color: #00af00; text-decoration-color: #00af00\">1</span>)                   │              <span style=\"color: #00af00; text-decoration-color: #00af00\">51</span> │\n",
              "└──────────────────────────────────────┴─────────────────────────────┴─────────────────┘\n",
              "</pre>\n"
            ]
          },
          "metadata": {}
        },
        {
          "output_type": "display_data",
          "data": {
            "text/plain": [
              "\u001b[1m Total params: \u001b[0m\u001b[38;5;34m50,851\u001b[0m (198.64 KB)\n"
            ],
            "text/html": [
              "<pre style=\"white-space:pre;overflow-x:auto;line-height:normal;font-family:Menlo,'DejaVu Sans Mono',consolas,'Courier New',monospace\"><span style=\"font-weight: bold\"> Total params: </span><span style=\"color: #00af00; text-decoration-color: #00af00\">50,851</span> (198.64 KB)\n",
              "</pre>\n"
            ]
          },
          "metadata": {}
        },
        {
          "output_type": "display_data",
          "data": {
            "text/plain": [
              "\u001b[1m Trainable params: \u001b[0m\u001b[38;5;34m50,851\u001b[0m (198.64 KB)\n"
            ],
            "text/html": [
              "<pre style=\"white-space:pre;overflow-x:auto;line-height:normal;font-family:Menlo,'DejaVu Sans Mono',consolas,'Courier New',monospace\"><span style=\"font-weight: bold\"> Trainable params: </span><span style=\"color: #00af00; text-decoration-color: #00af00\">50,851</span> (198.64 KB)\n",
              "</pre>\n"
            ]
          },
          "metadata": {}
        },
        {
          "output_type": "display_data",
          "data": {
            "text/plain": [
              "\u001b[1m Non-trainable params: \u001b[0m\u001b[38;5;34m0\u001b[0m (0.00 B)\n"
            ],
            "text/html": [
              "<pre style=\"white-space:pre;overflow-x:auto;line-height:normal;font-family:Menlo,'DejaVu Sans Mono',consolas,'Courier New',monospace\"><span style=\"font-weight: bold\"> Non-trainable params: </span><span style=\"color: #00af00; text-decoration-color: #00af00\">0</span> (0.00 B)\n",
              "</pre>\n"
            ]
          },
          "metadata": {}
        }
      ]
    },
    {
      "cell_type": "code",
      "source": [
        "model.fit(X_train, y_train, validation_data = (X_test, ytest), epochs = 10, verbose= 64)"
      ],
      "metadata": {
        "colab": {
          "base_uri": "https://localhost:8080/"
        },
        "id": "jV18-5VWP1MQ",
        "outputId": "7abbc719-8e40-40d1-cfa3-09bf23e819b0"
      },
      "execution_count": null,
      "outputs": [
        {
          "output_type": "stream",
          "name": "stdout",
          "text": [
            "Epoch 1/10\n",
            "Epoch 2/10\n",
            "Epoch 3/10\n",
            "Epoch 4/10\n",
            "Epoch 5/10\n",
            "Epoch 6/10\n",
            "Epoch 7/10\n",
            "Epoch 8/10\n",
            "Epoch 9/10\n",
            "Epoch 10/10\n"
          ]
        },
        {
          "output_type": "execute_result",
          "data": {
            "text/plain": [
              "<keras.src.callbacks.history.History at 0x786186d00e50>"
            ]
          },
          "metadata": {},
          "execution_count": 49
        }
      ]
    },
    {
      "cell_type": "code",
      "source": [
        "import tensorflow as tf"
      ],
      "metadata": {
        "id": "wYLN2yvpQoYP"
      },
      "execution_count": null,
      "outputs": []
    },
    {
      "cell_type": "code",
      "source": [
        "tf.__version__"
      ],
      "metadata": {
        "colab": {
          "base_uri": "https://localhost:8080/",
          "height": 36
        },
        "id": "3_MsCo3aQ6Hh",
        "outputId": "414c3013-b0f0-4c73-8852-5aef6eb3d073"
      },
      "execution_count": null,
      "outputs": [
        {
          "output_type": "execute_result",
          "data": {
            "text/plain": [
              "'2.17.0'"
            ],
            "application/vnd.google.colaboratory.intrinsic+json": {
              "type": "string"
            }
          },
          "metadata": {},
          "execution_count": 51
        }
      ]
    },
    {
      "cell_type": "code",
      "source": [
        "### Lets Do the prediction and check performance metrics\n",
        "train_predict=model.predict(X_train)\n",
        "test_predict=model.predict(X_test)"
      ],
      "metadata": {
        "colab": {
          "base_uri": "https://localhost:8080/"
        },
        "id": "XaosnXv0Q-0q",
        "outputId": "b3b4b1b1-7239-45b7-f47f-26eb2c9fb8be"
      },
      "execution_count": null,
      "outputs": [
        {
          "output_type": "stream",
          "name": "stdout",
          "text": [
            "\u001b[1m23/23\u001b[0m \u001b[32m━━━━━━━━━━━━━━━━━━━━\u001b[0m\u001b[37m\u001b[0m \u001b[1m1s\u001b[0m 18ms/step\n",
            "\u001b[1m11/11\u001b[0m \u001b[32m━━━━━━━━━━━━━━━━━━━━\u001b[0m\u001b[37m\u001b[0m \u001b[1m0s\u001b[0m 5ms/step \n"
          ]
        }
      ]
    },
    {
      "cell_type": "code",
      "source": [
        "##Transformback to original form\n",
        "train_predict=scaler.inverse_transform(train_predict)\n",
        "test_predict=scaler.inverse_transform(test_predict)"
      ],
      "metadata": {
        "id": "SrxYcjwARDdH"
      },
      "execution_count": null,
      "outputs": []
    },
    {
      "cell_type": "code",
      "source": [
        "### Calculate RMSE performance metrics\n",
        "import math\n",
        "from sklearn.metrics import mean_squared_error\n",
        "math.sqrt(mean_squared_error(y_train,train_predict))"
      ],
      "metadata": {
        "colab": {
          "base_uri": "https://localhost:8080/"
        },
        "id": "y09CM265RIkS",
        "outputId": "09adc96f-5a64-4070-d12d-812737e9667c"
      },
      "execution_count": null,
      "outputs": [
        {
          "output_type": "execute_result",
          "data": {
            "text/plain": [
              "185.9054461092008"
            ]
          },
          "metadata": {},
          "execution_count": 58
        }
      ]
    },
    {
      "cell_type": "code",
      "source": [
        "### Test Data RMSE\n",
        "math.sqrt(mean_squared_error(ytest,test_predict))"
      ],
      "metadata": {
        "colab": {
          "base_uri": "https://localhost:8080/"
        },
        "id": "lrpYZwEGRNBf",
        "outputId": "06f45ae7-610b-4b6b-9543-9f7a293f4096"
      },
      "execution_count": null,
      "outputs": [
        {
          "output_type": "execute_result",
          "data": {
            "text/plain": [
              "198.36486591341009"
            ]
          },
          "metadata": {},
          "execution_count": 59
        }
      ]
    },
    {
      "source": [
        "### Plotting\n",
        "# shift train predictions for plotting\n",
        "look_back=100\n",
        "trainPredictPlot = numpy.empty_like(df1)\n",
        "trainPredictPlot[:] = np.nan\n",
        "# Reshape train_predict to a 1D array to match trainPredictPlot\n",
        "trainPredictPlot[look_back:len(train_predict)+look_back] = train_predict.reshape(-1) # This line is changed\n",
        "\n",
        "# shift test predictions for plotting\n",
        "testPredictPlot = numpy.empty_like(df1)\n",
        "testPredictPlot[:] = np.nan # Changed this line to use single index\n",
        "\n",
        "# Reshape test_predict to a 1D array and fix the slice assignment\n",
        "testPredictPlot[len(train_predict)+(look_back*2)+1:len(df1)-1] = test_predict.reshape(-1)  # This line is changed\n",
        "\n",
        "# plot baseline and predictions\n",
        "# Reshape df1 to a 2D array for inverse_transform\n",
        "plt.plot(scaler.inverse_transform(df1.values.reshape(-1, 1))) # This line is changed\n",
        "plt.plot(trainPredictPlot)\n",
        "plt.plot(testPredictPlot)\n",
        "plt.show()"
      ],
      "cell_type": "code",
      "metadata": {
        "colab": {
          "base_uri": "https://localhost:8080/",
          "height": 430
        },
        "id": "KyRWRq5fTrEI",
        "outputId": "2380974a-9a56-459b-b862-607f4ec99929"
      },
      "execution_count": null,
      "outputs": [
        {
          "output_type": "display_data",
          "data": {
            "text/plain": [
              "<Figure size 640x480 with 1 Axes>"
            ],
            "image/png": "[encoded data removed]"
          },
          "metadata": {}
        }
      ]
    },
    {
      "cell_type": "code",
      "source": [
        "len(test_data)"
      ],
      "metadata": {
        "colab": {
          "base_uri": "https://localhost:8080/"
        },
        "id": "lOBLpsWIRUed",
        "outputId": "2c97107a-68e1-4e63-8466-1875e82a1018"
      },
      "execution_count": null,
      "outputs": [
        {
          "output_type": "execute_result",
          "data": {
            "text/plain": [
              "440"
            ]
          },
          "metadata": {},
          "execution_count": 61
        }
      ]
    },
    {
      "cell_type": "code",
      "source": [
        "x_input=test_data[341:].values.reshape(1,-1)\n",
        "x_input.shape"
      ],
      "metadata": {
        "colab": {
          "base_uri": "https://localhost:8080/"
        },
        "id": "WJixRDfwUARr",
        "outputId": "3c6af3b3-2ea3-4af5-a0ca-6edf82be4aec"
      },
      "execution_count": null,
      "outputs": [
        {
          "output_type": "execute_result",
          "data": {
            "text/plain": [
              "(1, 99)"
            ]
          },
          "metadata": {},
          "execution_count": 62
        }
      ]
    },
    {
      "cell_type": "code",
      "source": [
        "temp_input=list(x_input)\n",
        "temp_input=temp_input[0].tolist()"
      ],
      "metadata": {
        "id": "ozaNoztEUDxj"
      },
      "execution_count": null,
      "outputs": []
    },
    {
      "cell_type": "code",
      "source": [
        "temp_input"
      ],
      "metadata": {
        "colab": {
          "base_uri": "https://localhost:8080/"
        },
        "id": "nLr_TVtIUmfL",
        "outputId": "4474b402-1e99-434b-c987-3dada7d2a1b0"
      },
      "execution_count": null,
      "outputs": [
        {
          "output_type": "execute_result",
          "data": {
            "text/plain": [
              "[0.2660738885410144,\n",
              " 0.26900438321853476,\n",
              " 0.2646211646837821,\n",
              " 0.275090795241077,\n",
              " 0.26912961803381336,\n",
              " 0.2575829680651221,\n",
              " 0.25209768315591735,\n",
              " 0.2537257357545397,\n",
              " 0.25605510331872255,\n",
              " 0.26652473387601755,\n",
              " 0.2686537257357545,\n",
              " 0.25993738259236066,\n",
              " 0.27529117094552286,\n",
              " 0.28410770194113966,\n",
              " 0.28731371321227306,\n",
              " 0.29931120851596743,\n",
              " 0.3030181590482154,\n",
              " 0.30517219787100813,\n",
              " 0.3159423919849718,\n",
              " 0.3023919849718221,\n",
              " 0.3098309329993738,\n",
              " 0.3194990607388854,\n",
              " 0.320551033187226,\n",
              " 0.3056731371321227,\n",
              " 0.2939010644959299,\n",
              " 0.29422667501565436,\n",
              " 0.29335003130870385,\n",
              " 0.2959799624295554,\n",
              " 0.2797745773324984,\n",
              " 0.27714464621164686,\n",
              " 0.2783218534752661,\n",
              " 0.2790231684408266,\n",
              " 0.2804257983719474,\n",
              " 0.2886412022542267,\n",
              " 0.27932373199749533,\n",
              " 0.2830807764558548,\n",
              " 0.2565560425798372,\n",
              " 0.2514464621164683,\n",
              " 0.2579336255479023,\n",
              " 0.2666750156543519,\n",
              " 0.2740137758296807,\n",
              " 0.27724483406386974,\n",
              " 0.2866123982467126,\n",
              " 0.2877395115842204,\n",
              " 0.29525360050093924,\n",
              " 0.2985848465873513,\n",
              " 0.29818409517845956,\n",
              " 0.2997370068879148,\n",
              " 0.2994614902943018,\n",
              " 0.2947777082028804,\n",
              " 0.3005635566687539,\n",
              " 0.30141515341264874,\n",
              " 0.3035441452723857,\n",
              " 0.2996869129618034,\n",
              " 0.3079524107701941,\n",
              " 0.3059737006887915,\n",
              " 0.29036944270507203,\n",
              " 0.28556042579837193,\n",
              " 0.28939261114589854,\n",
              " 0.2854852849092047,\n",
              " 0.2857107075767063,\n",
              " 0.283706950532248,\n",
              " 0.29009392611145896,\n",
              " 0.29036944270507203,\n",
              " 0.2896931747025673,\n",
              " 0.2742141515341265,\n",
              " 0.27539135879774573,\n",
              " 0.28515967438948026,\n",
              " 0.305648090169067,\n",
              " 0.3039699436443331,\n",
              " 0.2996368190356919,\n",
              " 0.3018910457107076,\n",
              " 0.29938634940513464,\n",
              " 0.30226675015654353,\n",
              " 0.30294301815904817,\n",
              " 0.31599248591108325,\n",
              " 0.29898559799624297,\n",
              " 0.3004132748904195,\n",
              " 0.2976330619912335,\n",
              " 0.300463368816531,\n",
              " 0.2876643706950532,\n",
              " 0.2978835316217909,\n",
              " 0.3073262366938008,\n",
              " 0.30607388854101436,\n",
              " 0.30234189104571074,\n",
              " 0.3117345021916093,\n",
              " 0.3181214777708203,\n",
              " 0.3129367564182843,\n",
              " 0.3138634940513463,\n",
              " 0.32100187852222917,\n",
              " 0.3247088290544771,\n",
              " 0.3231559173450219,\n",
              " 0.31038196618659986,\n",
              " 0.30990607388854097,\n",
              " 0.3120100187852223,\n",
              " 0.31699436443331247,\n",
              " 0.3176706324358171,\n",
              " 0.3087288666249217,\n",
              " 0.29823418910457106]"
            ]
          },
          "metadata": {},
          "execution_count": 64
        }
      ]
    },
    {
      "cell_type": "code",
      "source": [
        "# demonstrate prediction for next 10 days\n",
        "from numpy import array\n",
        "\n",
        "lst_output=[]\n",
        "n_steps=100\n",
        "i=0\n",
        "while(i<30):\n",
        "\n",
        "    if(len(temp_input)>100):\n",
        "        #print(temp_input)\n",
        "        x_input=np.array(temp_input[1:])\n",
        "        print(\"{} day input {}\".format(i,x_input))\n",
        "        x_input=x_input.reshape(1,-1)\n",
        "        x_input = x_input.reshape((1, len(x_input[0]), 1))\n",
        "        #print(x_input)\n",
        "        yhat = model.predict(x_input, verbose=0)\n",
        "        print(\"{} day output {}\".format(i,yhat))\n",
        "        temp_input.extend(yhat[0].tolist())\n",
        "        temp_input=temp_input[1:]\n",
        "        #print(temp_input)\n",
        "        lst_output.extend(yhat.tolist())\n",
        "        i=i+1\n",
        "    else:\n",
        "        x_input = x_input.reshape((1, n_steps,1))\n",
        "        yhat = model.predict(x_input, verbose=0)\n",
        "        print(yhat[0])\n",
        "        temp_input.extend(yhat[0].tolist())\n",
        "        print(len(temp_input))\n",
        "        lst_output.extend(yhat.tolist())\n",
        "        i=i+1\n",
        "\n",
        "\n",
        "print(lst_output)"
      ],
      "metadata": {
        "colab": {
          "base_uri": "https://localhost:8080/"
        },
        "id": "hf4TRSiKUpiM",
        "outputId": "3622b1ef-675d-4b30-ac5f-af220400a254"
      },
      "execution_count": null,
      "outputs": [
        {
          "output_type": "stream",
          "name": "stdout",
          "text": [
            "0 day input [0.26900438 0.26462116 0.2750908  0.26912962 0.25758297 0.25209768\n",
            " 0.25372574 0.2560551  0.26652473 0.26865373 0.25993738 0.27529117\n",
            " 0.2841077  0.28731371 0.29931121 0.30301816 0.3051722  0.31594239\n",
            " 0.30239198 0.30983093 0.31949906 0.32055103 0.30567314 0.29390106\n",
            " 0.29422668 0.29335003 0.29597996 0.27977458 0.27714465 0.27832185\n",
            " 0.27902317 0.2804258  0.2886412  0.27932373 0.28308078 0.25655604\n",
            " 0.25144646 0.25793363 0.26667502 0.27401378 0.27724483 0.2866124\n",
            " 0.28773951 0.2952536  0.29858485 0.2981841  0.29973701 0.29946149\n",
            " 0.29477771 0.30056356 0.30141515 0.30354415 0.29968691 0.30795241\n",
            " 0.3059737  0.29036944 0.28556043 0.28939261 0.28548528 0.28571071\n",
            " 0.28370695 0.29009393 0.29036944 0.28969317 0.27421415 0.27539136\n",
            " 0.28515967 0.30564809 0.30396994 0.29963682 0.30189105 0.29938635\n",
            " 0.30226675 0.30294302 0.31599249 0.2989856  0.30041327 0.29763306\n",
            " 0.30046337 0.28766437 0.29788353 0.30732624 0.30607389 0.30234189\n",
            " 0.3117345  0.31812148 0.31293676 0.31386349 0.32100188 0.32470883\n",
            " 0.32315592 0.31038197 0.30990607 0.31201002 0.31699436 0.31767063\n",
            " 0.30872887 0.29823419 0.32443741 0.32443741 0.32126597]\n",
            "0 day output [[0.32084456]]\n",
            "1 day input [0.26462116 0.2750908  0.26912962 0.25758297 0.25209768 0.25372574\n",
            " 0.2560551  0.26652473 0.26865373 0.25993738 0.27529117 0.2841077\n",
            " 0.28731371 0.29931121 0.30301816 0.3051722  0.31594239 0.30239198\n",
            " 0.30983093 0.31949906 0.32055103 0.30567314 0.29390106 0.29422668\n",
            " 0.29335003 0.29597996 0.27977458 0.27714465 0.27832185 0.27902317\n",
            " 0.2804258  0.2886412  0.27932373 0.28308078 0.25655604 0.25144646\n",
            " 0.25793363 0.26667502 0.27401378 0.27724483 0.2866124  0.28773951\n",
            " 0.2952536  0.29858485 0.2981841  0.29973701 0.29946149 0.29477771\n",
            " 0.30056356 0.30141515 0.30354415 0.29968691 0.30795241 0.3059737\n",
            " 0.29036944 0.28556043 0.28939261 0.28548528 0.28571071 0.28370695\n",
            " 0.29009393 0.29036944 0.28969317 0.27421415 0.27539136 0.28515967\n",
            " 0.30564809 0.30396994 0.29963682 0.30189105 0.29938635 0.30226675\n",
            " 0.30294302 0.31599249 0.2989856  0.30041327 0.29763306 0.30046337\n",
            " 0.28766437 0.29788353 0.30732624 0.30607389 0.30234189 0.3117345\n",
            " 0.31812148 0.31293676 0.31386349 0.32100188 0.32470883 0.32315592\n",
            " 0.31038197 0.30990607 0.31201002 0.31699436 0.31767063 0.30872887\n",
            " 0.29823419 0.32443741 0.32443741 0.32126597 0.32084456]\n",
            "1 day output [[0.32112965]]\n",
            "2 day input [0.2750908  0.26912962 0.25758297 0.25209768 0.25372574 0.2560551\n",
            " 0.26652473 0.26865373 0.25993738 0.27529117 0.2841077  0.28731371\n",
            " 0.29931121 0.30301816 0.3051722  0.31594239 0.30239198 0.30983093\n",
            " 0.31949906 0.32055103 0.30567314 0.29390106 0.29422668 0.29335003\n",
            " 0.29597996 0.27977458 0.27714465 0.27832185 0.27902317 0.2804258\n",
            " 0.2886412  0.27932373 0.28308078 0.25655604 0.25144646 0.25793363\n",
            " 0.26667502 0.27401378 0.27724483 0.2866124  0.28773951 0.2952536\n",
            " 0.29858485 0.2981841  0.29973701 0.29946149 0.29477771 0.30056356\n",
            " 0.30141515 0.30354415 0.29968691 0.30795241 0.3059737  0.29036944\n",
            " 0.28556043 0.28939261 0.28548528 0.28571071 0.28370695 0.29009393\n",
            " 0.29036944 0.28969317 0.27421415 0.27539136 0.28515967 0.30564809\n",
            " 0.30396994 0.29963682 0.30189105 0.29938635 0.30226675 0.30294302\n",
            " 0.31599249 0.2989856  0.30041327 0.29763306 0.30046337 0.28766437\n",
            " 0.29788353 0.30732624 0.30607389 0.30234189 0.3117345  0.31812148\n",
            " 0.31293676 0.31386349 0.32100188 0.32470883 0.32315592 0.31038197\n",
            " 0.30990607 0.31201002 0.31699436 0.31767063 0.30872887 0.29823419\n",
            " 0.32443741 0.32443741 0.32126597 0.32084456 0.32112965]\n",
            "2 day output [[0.32199314]]\n",
            "3 day input [0.26912962 0.25758297 0.25209768 0.25372574 0.2560551  0.26652473\n",
            " 0.26865373 0.25993738 0.27529117 0.2841077  0.28731371 0.29931121\n",
            " 0.30301816 0.3051722  0.31594239 0.30239198 0.30983093 0.31949906\n",
            " 0.32055103 0.30567314 0.29390106 0.29422668 0.29335003 0.29597996\n",
            " 0.27977458 0.27714465 0.27832185 0.27902317 0.2804258  0.2886412\n",
            " 0.27932373 0.28308078 0.25655604 0.25144646 0.25793363 0.26667502\n",
            " 0.27401378 0.27724483 0.2866124  0.28773951 0.2952536  0.29858485\n",
            " 0.2981841  0.29973701 0.29946149 0.29477771 0.30056356 0.30141515\n",
            " 0.30354415 0.29968691 0.30795241 0.3059737  0.29036944 0.28556043\n",
            " 0.28939261 0.28548528 0.28571071 0.28370695 0.29009393 0.29036944\n",
            " 0.28969317 0.27421415 0.27539136 0.28515967 0.30564809 0.30396994\n",
            " 0.29963682 0.30189105 0.29938635 0.30226675 0.30294302 0.31599249\n",
            " 0.2989856  0.30041327 0.29763306 0.30046337 0.28766437 0.29788353\n",
            " 0.30732624 0.30607389 0.30234189 0.3117345  0.31812148 0.31293676\n",
            " 0.31386349 0.32100188 0.32470883 0.32315592 0.31038197 0.30990607\n",
            " 0.31201002 0.31699436 0.31767063 0.30872887 0.29823419 0.32443741\n",
            " 0.32443741 0.32126597 0.32084456 0.32112965 0.32199314]\n",
            "3 day output [[0.32330075]]\n",
            "4 day input [0.25758297 0.25209768 0.25372574 0.2560551  0.26652473 0.26865373\n",
            " 0.25993738 0.27529117 0.2841077  0.28731371 0.29931121 0.30301816\n",
            " 0.3051722  0.31594239 0.30239198 0.30983093 0.31949906 0.32055103\n",
            " 0.30567314 0.29390106 0.29422668 0.29335003 0.29597996 0.27977458\n",
            " 0.27714465 0.27832185 0.27902317 0.2804258  0.2886412  0.27932373\n",
            " 0.28308078 0.25655604 0.25144646 0.25793363 0.26667502 0.27401378\n",
            " 0.27724483 0.2866124  0.28773951 0.2952536  0.29858485 0.2981841\n",
            " 0.29973701 0.29946149 0.29477771 0.30056356 0.30141515 0.30354415\n",
            " 0.29968691 0.30795241 0.3059737  0.29036944 0.28556043 0.28939261\n",
            " 0.28548528 0.28571071 0.28370695 0.29009393 0.29036944 0.28969317\n",
            " 0.27421415 0.27539136 0.28515967 0.30564809 0.30396994 0.29963682\n",
            " 0.30189105 0.29938635 0.30226675 0.30294302 0.31599249 0.2989856\n",
            " 0.30041327 0.29763306 0.30046337 0.28766437 0.29788353 0.30732624\n",
            " 0.30607389 0.30234189 0.3117345  0.31812148 0.31293676 0.31386349\n",
            " 0.32100188 0.32470883 0.32315592 0.31038197 0.30990607 0.31201002\n",
            " 0.31699436 0.31767063 0.30872887 0.29823419 0.32443741 0.32443741\n",
            " 0.32126597 0.32084456 0.32112965 0.32199314 0.32330075]\n",
            "4 day output [[0.32494345]]\n",
            "5 day input [0.25209768 0.25372574 0.2560551  0.26652473 0.26865373 0.25993738\n",
            " 0.27529117 0.2841077  0.28731371 0.29931121 0.30301816 0.3051722\n",
            " 0.31594239 0.30239198 0.30983093 0.31949906 0.32055103 0.30567314\n",
            " 0.29390106 0.29422668 0.29335003 0.29597996 0.27977458 0.27714465\n",
            " 0.27832185 0.27902317 0.2804258  0.2886412  0.27932373 0.28308078\n",
            " 0.25655604 0.25144646 0.25793363 0.26667502 0.27401378 0.27724483\n",
            " 0.2866124  0.28773951 0.2952536  0.29858485 0.2981841  0.29973701\n",
            " 0.29946149 0.29477771 0.30056356 0.30141515 0.30354415 0.29968691\n",
            " 0.30795241 0.3059737  0.29036944 0.28556043 0.28939261 0.28548528\n",
            " 0.28571071 0.28370695 0.29009393 0.29036944 0.28969317 0.27421415\n",
            " 0.27539136 0.28515967 0.30564809 0.30396994 0.29963682 0.30189105\n",
            " 0.29938635 0.30226675 0.30294302 0.31599249 0.2989856  0.30041327\n",
            " 0.29763306 0.30046337 0.28766437 0.29788353 0.30732624 0.30607389\n",
            " 0.30234189 0.3117345  0.31812148 0.31293676 0.31386349 0.32100188\n",
            " 0.32470883 0.32315592 0.31038197 0.30990607 0.31201002 0.31699436\n",
            " 0.31767063 0.30872887 0.29823419 0.32443741 0.32443741 0.32126597\n",
            " 0.32084456 0.32112965 0.32199314 0.32330075 0.32494345]\n",
            "5 day output [[0.32684228]]\n",
            "6 day input [0.25372574 0.2560551  0.26652473 0.26865373 0.25993738 0.27529117\n",
            " 0.2841077  0.28731371 0.29931121 0.30301816 0.3051722  0.31594239\n",
            " 0.30239198 0.30983093 0.31949906 0.32055103 0.30567314 0.29390106\n",
            " 0.29422668 0.29335003 0.29597996 0.27977458 0.27714465 0.27832185\n",
            " 0.27902317 0.2804258  0.2886412  0.27932373 0.28308078 0.25655604\n",
            " 0.25144646 0.25793363 0.26667502 0.27401378 0.27724483 0.2866124\n",
            " 0.28773951 0.2952536  0.29858485 0.2981841  0.29973701 0.29946149\n",
            " 0.29477771 0.30056356 0.30141515 0.30354415 0.29968691 0.30795241\n",
            " 0.3059737  0.29036944 0.28556043 0.28939261 0.28548528 0.28571071\n",
            " 0.28370695 0.29009393 0.29036944 0.28969317 0.27421415 0.27539136\n",
            " 0.28515967 0.30564809 0.30396994 0.29963682 0.30189105 0.29938635\n",
            " 0.30226675 0.30294302 0.31599249 0.2989856  0.30041327 0.29763306\n",
            " 0.30046337 0.28766437 0.29788353 0.30732624 0.30607389 0.30234189\n",
            " 0.3117345  0.31812148 0.31293676 0.31386349 0.32100188 0.32470883\n",
            " 0.32315592 0.31038197 0.30990607 0.31201002 0.31699436 0.31767063\n",
            " 0.30872887 0.29823419 0.32443741 0.32443741 0.32126597 0.32084456\n",
            " 0.32112965 0.32199314 0.32330075 0.32494345 0.32684228]\n",
            "6 day output [[0.32894477]]\n",
            "7 day input [0.2560551  0.26652473 0.26865373 0.25993738 0.27529117 0.2841077\n",
            " 0.28731371 0.29931121 0.30301816 0.3051722  0.31594239 0.30239198\n",
            " 0.30983093 0.31949906 0.32055103 0.30567314 0.29390106 0.29422668\n",
            " 0.29335003 0.29597996 0.27977458 0.27714465 0.27832185 0.27902317\n",
            " 0.2804258  0.2886412  0.27932373 0.28308078 0.25655604 0.25144646\n",
            " 0.25793363 0.26667502 0.27401378 0.27724483 0.2866124  0.28773951\n",
            " 0.2952536  0.29858485 0.2981841  0.29973701 0.29946149 0.29477771\n",
            " 0.30056356 0.30141515 0.30354415 0.29968691 0.30795241 0.3059737\n",
            " 0.29036944 0.28556043 0.28939261 0.28548528 0.28571071 0.28370695\n",
            " 0.29009393 0.29036944 0.28969317 0.27421415 0.27539136 0.28515967\n",
            " 0.30564809 0.30396994 0.29963682 0.30189105 0.29938635 0.30226675\n",
            " 0.30294302 0.31599249 0.2989856  0.30041327 0.29763306 0.30046337\n",
            " 0.28766437 0.29788353 0.30732624 0.30607389 0.30234189 0.3117345\n",
            " 0.31812148 0.31293676 0.31386349 0.32100188 0.32470883 0.32315592\n",
            " 0.31038197 0.30990607 0.31201002 0.31699436 0.31767063 0.30872887\n",
            " 0.29823419 0.32443741 0.32443741 0.32126597 0.32084456 0.32112965\n",
            " 0.32199314 0.32330075 0.32494345 0.32684228 0.32894477]\n",
            "7 day output [[0.33121848]]\n",
            "8 day input [0.26652473 0.26865373 0.25993738 0.27529117 0.2841077  0.28731371\n",
            " 0.29931121 0.30301816 0.3051722  0.31594239 0.30239198 0.30983093\n",
            " 0.31949906 0.32055103 0.30567314 0.29390106 0.29422668 0.29335003\n",
            " 0.29597996 0.27977458 0.27714465 0.27832185 0.27902317 0.2804258\n",
            " 0.2886412  0.27932373 0.28308078 0.25655604 0.25144646 0.25793363\n",
            " 0.26667502 0.27401378 0.27724483 0.2866124  0.28773951 0.2952536\n",
            " 0.29858485 0.2981841  0.29973701 0.29946149 0.29477771 0.30056356\n",
            " 0.30141515 0.30354415 0.29968691 0.30795241 0.3059737  0.29036944\n",
            " 0.28556043 0.28939261 0.28548528 0.28571071 0.28370695 0.29009393\n",
            " 0.29036944 0.28969317 0.27421415 0.27539136 0.28515967 0.30564809\n",
            " 0.30396994 0.29963682 0.30189105 0.29938635 0.30226675 0.30294302\n",
            " 0.31599249 0.2989856  0.30041327 0.29763306 0.30046337 0.28766437\n",
            " 0.29788353 0.30732624 0.30607389 0.30234189 0.3117345  0.31812148\n",
            " 0.31293676 0.31386349 0.32100188 0.32470883 0.32315592 0.31038197\n",
            " 0.30990607 0.31201002 0.31699436 0.31767063 0.30872887 0.29823419\n",
            " 0.32443741 0.32443741 0.32126597 0.32084456 0.32112965 0.32199314\n",
            " 0.32330075 0.32494345 0.32684228 0.32894477 0.33121848]\n",
            "8 day output [[0.3336437]]\n",
            "9 day input [0.26865373 0.25993738 0.27529117 0.2841077  0.28731371 0.29931121\n",
            " 0.30301816 0.3051722  0.31594239 0.30239198 0.30983093 0.31949906\n",
            " 0.32055103 0.30567314 0.29390106 0.29422668 0.29335003 0.29597996\n",
            " 0.27977458 0.27714465 0.27832185 0.27902317 0.2804258  0.2886412\n",
            " 0.27932373 0.28308078 0.25655604 0.25144646 0.25793363 0.26667502\n",
            " 0.27401378 0.27724483 0.2866124  0.28773951 0.2952536  0.29858485\n",
            " 0.2981841  0.29973701 0.29946149 0.29477771 0.30056356 0.30141515\n",
            " 0.30354415 0.29968691 0.30795241 0.3059737  0.29036944 0.28556043\n",
            " 0.28939261 0.28548528 0.28571071 0.28370695 0.29009393 0.29036944\n",
            " 0.28969317 0.27421415 0.27539136 0.28515967 0.30564809 0.30396994\n",
            " 0.29963682 0.30189105 0.29938635 0.30226675 0.30294302 0.31599249\n",
            " 0.2989856  0.30041327 0.29763306 0.30046337 0.28766437 0.29788353\n",
            " 0.30732624 0.30607389 0.30234189 0.3117345  0.31812148 0.31293676\n",
            " 0.31386349 0.32100188 0.32470883 0.32315592 0.31038197 0.30990607\n",
            " 0.31201002 0.31699436 0.31767063 0.30872887 0.29823419 0.32443741\n",
            " 0.32443741 0.32126597 0.32084456 0.32112965 0.32199314 0.32330075\n",
            " 0.32494345 0.32684228 0.32894477 0.33121848 0.3336437 ]\n",
            "9 day output [[0.33620733]]\n",
            "10 day input [0.25993738 0.27529117 0.2841077  0.28731371 0.29931121 0.30301816\n",
            " 0.3051722  0.31594239 0.30239198 0.30983093 0.31949906 0.32055103\n",
            " 0.30567314 0.29390106 0.29422668 0.29335003 0.29597996 0.27977458\n",
            " 0.27714465 0.27832185 0.27902317 0.2804258  0.2886412  0.27932373\n",
            " 0.28308078 0.25655604 0.25144646 0.25793363 0.26667502 0.27401378\n",
            " 0.27724483 0.2866124  0.28773951 0.2952536  0.29858485 0.2981841\n",
            " 0.29973701 0.29946149 0.29477771 0.30056356 0.30141515 0.30354415\n",
            " 0.29968691 0.30795241 0.3059737  0.29036944 0.28556043 0.28939261\n",
            " 0.28548528 0.28571071 0.28370695 0.29009393 0.29036944 0.28969317\n",
            " 0.27421415 0.27539136 0.28515967 0.30564809 0.30396994 0.29963682\n",
            " 0.30189105 0.29938635 0.30226675 0.30294302 0.31599249 0.2989856\n",
            " 0.30041327 0.29763306 0.30046337 0.28766437 0.29788353 0.30732624\n",
            " 0.30607389 0.30234189 0.3117345  0.31812148 0.31293676 0.31386349\n",
            " 0.32100188 0.32470883 0.32315592 0.31038197 0.30990607 0.31201002\n",
            " 0.31699436 0.31767063 0.30872887 0.29823419 0.32443741 0.32443741\n",
            " 0.32126597 0.32084456 0.32112965 0.32199314 0.32330075 0.32494345\n",
            " 0.32684228 0.32894477 0.33121848 0.3336437  0.33620733]\n",
            "10 day output [[0.33889893]]\n",
            "11 day input [0.27529117 0.2841077  0.28731371 0.29931121 0.30301816 0.3051722\n",
            " 0.31594239 0.30239198 0.30983093 0.31949906 0.32055103 0.30567314\n",
            " 0.29390106 0.29422668 0.29335003 0.29597996 0.27977458 0.27714465\n",
            " 0.27832185 0.27902317 0.2804258  0.2886412  0.27932373 0.28308078\n",
            " 0.25655604 0.25144646 0.25793363 0.26667502 0.27401378 0.27724483\n",
            " 0.2866124  0.28773951 0.2952536  0.29858485 0.2981841  0.29973701\n",
            " 0.29946149 0.29477771 0.30056356 0.30141515 0.30354415 0.29968691\n",
            " 0.30795241 0.3059737  0.29036944 0.28556043 0.28939261 0.28548528\n",
            " 0.28571071 0.28370695 0.29009393 0.29036944 0.28969317 0.27421415\n",
            " 0.27539136 0.28515967 0.30564809 0.30396994 0.29963682 0.30189105\n",
            " 0.29938635 0.30226675 0.30294302 0.31599249 0.2989856  0.30041327\n",
            " 0.29763306 0.30046337 0.28766437 0.29788353 0.30732624 0.30607389\n",
            " 0.30234189 0.3117345  0.31812148 0.31293676 0.31386349 0.32100188\n",
            " 0.32470883 0.32315592 0.31038197 0.30990607 0.31201002 0.31699436\n",
            " 0.31767063 0.30872887 0.29823419 0.32443741 0.32443741 0.32126597\n",
            " 0.32084456 0.32112965 0.32199314 0.32330075 0.32494345 0.32684228\n",
            " 0.32894477 0.33121848 0.3336437  0.33620733 0.33889893]\n",
            "11 day output [[0.3417076]]\n",
            "12 day input [0.2841077  0.28731371 0.29931121 0.30301816 0.3051722  0.31594239\n",
            " 0.30239198 0.30983093 0.31949906 0.32055103 0.30567314 0.29390106\n",
            " 0.29422668 0.29335003 0.29597996 0.27977458 0.27714465 0.27832185\n",
            " 0.27902317 0.2804258  0.2886412  0.27932373 0.28308078 0.25655604\n",
            " 0.25144646 0.25793363 0.26667502 0.27401378 0.27724483 0.2866124\n",
            " 0.28773951 0.2952536  0.29858485 0.2981841  0.29973701 0.29946149\n",
            " 0.29477771 0.30056356 0.30141515 0.30354415 0.29968691 0.30795241\n",
            " 0.3059737  0.29036944 0.28556043 0.28939261 0.28548528 0.28571071\n",
            " 0.28370695 0.29009393 0.29036944 0.28969317 0.27421415 0.27539136\n",
            " 0.28515967 0.30564809 0.30396994 0.29963682 0.30189105 0.29938635\n",
            " 0.30226675 0.30294302 0.31599249 0.2989856  0.30041327 0.29763306\n",
            " 0.30046337 0.28766437 0.29788353 0.30732624 0.30607389 0.30234189\n",
            " 0.3117345  0.31812148 0.31293676 0.31386349 0.32100188 0.32470883\n",
            " 0.32315592 0.31038197 0.30990607 0.31201002 0.31699436 0.31767063\n",
            " 0.30872887 0.29823419 0.32443741 0.32443741 0.32126597 0.32084456\n",
            " 0.32112965 0.32199314 0.32330075 0.32494345 0.32684228 0.32894477\n",
            " 0.33121848 0.3336437  0.33620733 0.33889893 0.34170759]\n",
            "12 day output [[0.34461936]]\n",
            "13 day input [0.28731371 0.29931121 0.30301816 0.3051722  0.31594239 0.30239198\n",
            " 0.30983093 0.31949906 0.32055103 0.30567314 0.29390106 0.29422668\n",
            " 0.29335003 0.29597996 0.27977458 0.27714465 0.27832185 0.27902317\n",
            " 0.2804258  0.2886412  0.27932373 0.28308078 0.25655604 0.25144646\n",
            " 0.25793363 0.26667502 0.27401378 0.27724483 0.2866124  0.28773951\n",
            " 0.2952536  0.29858485 0.2981841  0.29973701 0.29946149 0.29477771\n",
            " 0.30056356 0.30141515 0.30354415 0.29968691 0.30795241 0.3059737\n",
            " 0.29036944 0.28556043 0.28939261 0.28548528 0.28571071 0.28370695\n",
            " 0.29009393 0.29036944 0.28969317 0.27421415 0.27539136 0.28515967\n",
            " 0.30564809 0.30396994 0.29963682 0.30189105 0.29938635 0.30226675\n",
            " 0.30294302 0.31599249 0.2989856  0.30041327 0.29763306 0.30046337\n",
            " 0.28766437 0.29788353 0.30732624 0.30607389 0.30234189 0.3117345\n",
            " 0.31812148 0.31293676 0.31386349 0.32100188 0.32470883 0.32315592\n",
            " 0.31038197 0.30990607 0.31201002 0.31699436 0.31767063 0.30872887\n",
            " 0.29823419 0.32443741 0.32443741 0.32126597 0.32084456 0.32112965\n",
            " 0.32199314 0.32330075 0.32494345 0.32684228 0.32894477 0.33121848\n",
            " 0.3336437  0.33620733 0.33889893 0.34170759 0.34461936]\n",
            "13 day output [[0.34761837]]\n",
            "14 day input [0.29931121 0.30301816 0.3051722  0.31594239 0.30239198 0.30983093\n",
            " 0.31949906 0.32055103 0.30567314 0.29390106 0.29422668 0.29335003\n",
            " 0.29597996 0.27977458 0.27714465 0.27832185 0.27902317 0.2804258\n",
            " 0.2886412  0.27932373 0.28308078 0.25655604 0.25144646 0.25793363\n",
            " 0.26667502 0.27401378 0.27724483 0.2866124  0.28773951 0.2952536\n",
            " 0.29858485 0.2981841  0.29973701 0.29946149 0.29477771 0.30056356\n",
            " 0.30141515 0.30354415 0.29968691 0.30795241 0.3059737  0.29036944\n",
            " 0.28556043 0.28939261 0.28548528 0.28571071 0.28370695 0.29009393\n",
            " 0.29036944 0.28969317 0.27421415 0.27539136 0.28515967 0.30564809\n",
            " 0.30396994 0.29963682 0.30189105 0.29938635 0.30226675 0.30294302\n",
            " 0.31599249 0.2989856  0.30041327 0.29763306 0.30046337 0.28766437\n",
            " 0.29788353 0.30732624 0.30607389 0.30234189 0.3117345  0.31812148\n",
            " 0.31293676 0.31386349 0.32100188 0.32470883 0.32315592 0.31038197\n",
            " 0.30990607 0.31201002 0.31699436 0.31767063 0.30872887 0.29823419\n",
            " 0.32443741 0.32443741 0.32126597 0.32084456 0.32112965 0.32199314\n",
            " 0.32330075 0.32494345 0.32684228 0.32894477 0.33121848 0.3336437\n",
            " 0.33620733 0.33889893 0.34170759 0.34461936 0.34761837]\n",
            "14 day output [[0.35068616]]\n",
            "15 day input [0.30301816 0.3051722  0.31594239 0.30239198 0.30983093 0.31949906\n",
            " 0.32055103 0.30567314 0.29390106 0.29422668 0.29335003 0.29597996\n",
            " 0.27977458 0.27714465 0.27832185 0.27902317 0.2804258  0.2886412\n",
            " 0.27932373 0.28308078 0.25655604 0.25144646 0.25793363 0.26667502\n",
            " 0.27401378 0.27724483 0.2866124  0.28773951 0.2952536  0.29858485\n",
            " 0.2981841  0.29973701 0.29946149 0.29477771 0.30056356 0.30141515\n",
            " 0.30354415 0.29968691 0.30795241 0.3059737  0.29036944 0.28556043\n",
            " 0.28939261 0.28548528 0.28571071 0.28370695 0.29009393 0.29036944\n",
            " 0.28969317 0.27421415 0.27539136 0.28515967 0.30564809 0.30396994\n",
            " 0.29963682 0.30189105 0.29938635 0.30226675 0.30294302 0.31599249\n",
            " 0.2989856  0.30041327 0.29763306 0.30046337 0.28766437 0.29788353\n",
            " 0.30732624 0.30607389 0.30234189 0.3117345  0.31812148 0.31293676\n",
            " 0.31386349 0.32100188 0.32470883 0.32315592 0.31038197 0.30990607\n",
            " 0.31201002 0.31699436 0.31767063 0.30872887 0.29823419 0.32443741\n",
            " 0.32443741 0.32126597 0.32084456 0.32112965 0.32199314 0.32330075\n",
            " 0.32494345 0.32684228 0.32894477 0.33121848 0.3336437  0.33620733\n",
            " 0.33889893 0.34170759 0.34461936 0.34761837 0.35068616]\n",
            "15 day output [[0.35380104]]\n",
            "16 day input [0.3051722  0.31594239 0.30239198 0.30983093 0.31949906 0.32055103\n",
            " 0.30567314 0.29390106 0.29422668 0.29335003 0.29597996 0.27977458\n",
            " 0.27714465 0.27832185 0.27902317 0.2804258  0.2886412  0.27932373\n",
            " 0.28308078 0.25655604 0.25144646 0.25793363 0.26667502 0.27401378\n",
            " 0.27724483 0.2866124  0.28773951 0.2952536  0.29858485 0.2981841\n",
            " 0.29973701 0.29946149 0.29477771 0.30056356 0.30141515 0.30354415\n",
            " 0.29968691 0.30795241 0.3059737  0.29036944 0.28556043 0.28939261\n",
            " 0.28548528 0.28571071 0.28370695 0.29009393 0.29036944 0.28969317\n",
            " 0.27421415 0.27539136 0.28515967 0.30564809 0.30396994 0.29963682\n",
            " 0.30189105 0.29938635 0.30226675 0.30294302 0.31599249 0.2989856\n",
            " 0.30041327 0.29763306 0.30046337 0.28766437 0.29788353 0.30732624\n",
            " 0.30607389 0.30234189 0.3117345  0.31812148 0.31293676 0.31386349\n",
            " 0.32100188 0.32470883 0.32315592 0.31038197 0.30990607 0.31201002\n",
            " 0.31699436 0.31767063 0.30872887 0.29823419 0.32443741 0.32443741\n",
            " 0.32126597 0.32084456 0.32112965 0.32199314 0.32330075 0.32494345\n",
            " 0.32684228 0.32894477 0.33121848 0.3336437  0.33620733 0.33889893\n",
            " 0.34170759 0.34461936 0.34761837 0.35068616 0.35380104]\n",
            "16 day output [[0.35693958]]\n",
            "17 day input [0.31594239 0.30239198 0.30983093 0.31949906 0.32055103 0.30567314\n",
            " 0.29390106 0.29422668 0.29335003 0.29597996 0.27977458 0.27714465\n",
            " 0.27832185 0.27902317 0.2804258  0.2886412  0.27932373 0.28308078\n",
            " 0.25655604 0.25144646 0.25793363 0.26667502 0.27401378 0.27724483\n",
            " 0.2866124  0.28773951 0.2952536  0.29858485 0.2981841  0.29973701\n",
            " 0.29946149 0.29477771 0.30056356 0.30141515 0.30354415 0.29968691\n",
            " 0.30795241 0.3059737  0.29036944 0.28556043 0.28939261 0.28548528\n",
            " 0.28571071 0.28370695 0.29009393 0.29036944 0.28969317 0.27421415\n",
            " 0.27539136 0.28515967 0.30564809 0.30396994 0.29963682 0.30189105\n",
            " 0.29938635 0.30226675 0.30294302 0.31599249 0.2989856  0.30041327\n",
            " 0.29763306 0.30046337 0.28766437 0.29788353 0.30732624 0.30607389\n",
            " 0.30234189 0.3117345  0.31812148 0.31293676 0.31386349 0.32100188\n",
            " 0.32470883 0.32315592 0.31038197 0.30990607 0.31201002 0.31699436\n",
            " 0.31767063 0.30872887 0.29823419 0.32443741 0.32443741 0.32126597\n",
            " 0.32084456 0.32112965 0.32199314 0.32330075 0.32494345 0.32684228\n",
            " 0.32894477 0.33121848 0.3336437  0.33620733 0.33889893 0.34170759\n",
            " 0.34461936 0.34761837 0.35068616 0.35380104 0.35693958]\n",
            "17 day output [[0.36007622]]\n",
            "18 day input [0.30239198 0.30983093 0.31949906 0.32055103 0.30567314 0.29390106\n",
            " 0.29422668 0.29335003 0.29597996 0.27977458 0.27714465 0.27832185\n",
            " 0.27902317 0.2804258  0.2886412  0.27932373 0.28308078 0.25655604\n",
            " 0.25144646 0.25793363 0.26667502 0.27401378 0.27724483 0.2866124\n",
            " 0.28773951 0.2952536  0.29858485 0.2981841  0.29973701 0.29946149\n",
            " 0.29477771 0.30056356 0.30141515 0.30354415 0.29968691 0.30795241\n",
            " 0.3059737  0.29036944 0.28556043 0.28939261 0.28548528 0.28571071\n",
            " 0.28370695 0.29009393 0.29036944 0.28969317 0.27421415 0.27539136\n",
            " 0.28515967 0.30564809 0.30396994 0.29963682 0.30189105 0.29938635\n",
            " 0.30226675 0.30294302 0.31599249 0.2989856  0.30041327 0.29763306\n",
            " 0.30046337 0.28766437 0.29788353 0.30732624 0.30607389 0.30234189\n",
            " 0.3117345  0.31812148 0.31293676 0.31386349 0.32100188 0.32470883\n",
            " 0.32315592 0.31038197 0.30990607 0.31201002 0.31699436 0.31767063\n",
            " 0.30872887 0.29823419 0.32443741 0.32443741 0.32126597 0.32084456\n",
            " 0.32112965 0.32199314 0.32330075 0.32494345 0.32684228 0.32894477\n",
            " 0.33121848 0.3336437  0.33620733 0.33889893 0.34170759 0.34461936\n",
            " 0.34761837 0.35068616 0.35380104 0.35693958 0.36007622]\n",
            "18 day output [[0.3631834]]\n",
            "19 day input [0.30983093 0.31949906 0.32055103 0.30567314 0.29390106 0.29422668\n",
            " 0.29335003 0.29597996 0.27977458 0.27714465 0.27832185 0.27902317\n",
            " 0.2804258  0.2886412  0.27932373 0.28308078 0.25655604 0.25144646\n",
            " 0.25793363 0.26667502 0.27401378 0.27724483 0.2866124  0.28773951\n",
            " 0.2952536  0.29858485 0.2981841  0.29973701 0.29946149 0.29477771\n",
            " 0.30056356 0.30141515 0.30354415 0.29968691 0.30795241 0.3059737\n",
            " 0.29036944 0.28556043 0.28939261 0.28548528 0.28571071 0.28370695\n",
            " 0.29009393 0.29036944 0.28969317 0.27421415 0.27539136 0.28515967\n",
            " 0.30564809 0.30396994 0.29963682 0.30189105 0.29938635 0.30226675\n",
            " 0.30294302 0.31599249 0.2989856  0.30041327 0.29763306 0.30046337\n",
            " 0.28766437 0.29788353 0.30732624 0.30607389 0.30234189 0.3117345\n",
            " 0.31812148 0.31293676 0.31386349 0.32100188 0.32470883 0.32315592\n",
            " 0.31038197 0.30990607 0.31201002 0.31699436 0.31767063 0.30872887\n",
            " 0.29823419 0.32443741 0.32443741 0.32126597 0.32084456 0.32112965\n",
            " 0.32199314 0.32330075 0.32494345 0.32684228 0.32894477 0.33121848\n",
            " 0.3336437  0.33620733 0.33889893 0.34170759 0.34461936 0.34761837\n",
            " 0.35068616 0.35380104 0.35693958 0.36007622 0.36318341]\n",
            "19 day output [[0.3662337]]\n",
            "20 day input [0.31949906 0.32055103 0.30567314 0.29390106 0.29422668 0.29335003\n",
            " 0.29597996 0.27977458 0.27714465 0.27832185 0.27902317 0.2804258\n",
            " 0.2886412  0.27932373 0.28308078 0.25655604 0.25144646 0.25793363\n",
            " 0.26667502 0.27401378 0.27724483 0.2866124  0.28773951 0.2952536\n",
            " 0.29858485 0.2981841  0.29973701 0.29946149 0.29477771 0.30056356\n",
            " 0.30141515 0.30354415 0.29968691 0.30795241 0.3059737  0.29036944\n",
            " 0.28556043 0.28939261 0.28548528 0.28571071 0.28370695 0.29009393\n",
            " 0.29036944 0.28969317 0.27421415 0.27539136 0.28515967 0.30564809\n",
            " 0.30396994 0.29963682 0.30189105 0.29938635 0.30226675 0.30294302\n",
            " 0.31599249 0.2989856  0.30041327 0.29763306 0.30046337 0.28766437\n",
            " 0.29788353 0.30732624 0.30607389 0.30234189 0.3117345  0.31812148\n",
            " 0.31293676 0.31386349 0.32100188 0.32470883 0.32315592 0.31038197\n",
            " 0.30990607 0.31201002 0.31699436 0.31767063 0.30872887 0.29823419\n",
            " 0.32443741 0.32443741 0.32126597 0.32084456 0.32112965 0.32199314\n",
            " 0.32330075 0.32494345 0.32684228 0.32894477 0.33121848 0.3336437\n",
            " 0.33620733 0.33889893 0.34170759 0.34461936 0.34761837 0.35068616\n",
            " 0.35380104 0.35693958 0.36007622 0.36318341 0.36623371]\n",
            "20 day output [[0.36919722]]\n",
            "21 day input [0.32055103 0.30567314 0.29390106 0.29422668 0.29335003 0.29597996\n",
            " 0.27977458 0.27714465 0.27832185 0.27902317 0.2804258  0.2886412\n",
            " 0.27932373 0.28308078 0.25655604 0.25144646 0.25793363 0.26667502\n",
            " 0.27401378 0.27724483 0.2866124  0.28773951 0.2952536  0.29858485\n",
            " 0.2981841  0.29973701 0.29946149 0.29477771 0.30056356 0.30141515\n",
            " 0.30354415 0.29968691 0.30795241 0.3059737  0.29036944 0.28556043\n",
            " 0.28939261 0.28548528 0.28571071 0.28370695 0.29009393 0.29036944\n",
            " 0.28969317 0.27421415 0.27539136 0.28515967 0.30564809 0.30396994\n",
            " 0.29963682 0.30189105 0.29938635 0.30226675 0.30294302 0.31599249\n",
            " 0.2989856  0.30041327 0.29763306 0.30046337 0.28766437 0.29788353\n",
            " 0.30732624 0.30607389 0.30234189 0.3117345  0.31812148 0.31293676\n",
            " 0.31386349 0.32100188 0.32470883 0.32315592 0.31038197 0.30990607\n",
            " 0.31201002 0.31699436 0.31767063 0.30872887 0.29823419 0.32443741\n",
            " 0.32443741 0.32126597 0.32084456 0.32112965 0.32199314 0.32330075\n",
            " 0.32494345 0.32684228 0.32894477 0.33121848 0.3336437  0.33620733\n",
            " 0.33889893 0.34170759 0.34461936 0.34761837 0.35068616 0.35380104\n",
            " 0.35693958 0.36007622 0.36318341 0.36623371 0.36919722]\n",
            "21 day output [[0.3720444]]\n",
            "22 day input [0.30567314 0.29390106 0.29422668 0.29335003 0.29597996 0.27977458\n",
            " 0.27714465 0.27832185 0.27902317 0.2804258  0.2886412  0.27932373\n",
            " 0.28308078 0.25655604 0.25144646 0.25793363 0.26667502 0.27401378\n",
            " 0.27724483 0.2866124  0.28773951 0.2952536  0.29858485 0.2981841\n",
            " 0.29973701 0.29946149 0.29477771 0.30056356 0.30141515 0.30354415\n",
            " 0.29968691 0.30795241 0.3059737  0.29036944 0.28556043 0.28939261\n",
            " 0.28548528 0.28571071 0.28370695 0.29009393 0.29036944 0.28969317\n",
            " 0.27421415 0.27539136 0.28515967 0.30564809 0.30396994 0.29963682\n",
            " 0.30189105 0.29938635 0.30226675 0.30294302 0.31599249 0.2989856\n",
            " 0.30041327 0.29763306 0.30046337 0.28766437 0.29788353 0.30732624\n",
            " 0.30607389 0.30234189 0.3117345  0.31812148 0.31293676 0.31386349\n",
            " 0.32100188 0.32470883 0.32315592 0.31038197 0.30990607 0.31201002\n",
            " 0.31699436 0.31767063 0.30872887 0.29823419 0.32443741 0.32443741\n",
            " 0.32126597 0.32084456 0.32112965 0.32199314 0.32330075 0.32494345\n",
            " 0.32684228 0.32894477 0.33121848 0.3336437  0.33620733 0.33889893\n",
            " 0.34170759 0.34461936 0.34761837 0.35068616 0.35380104 0.35693958\n",
            " 0.36007622 0.36318341 0.36623371 0.36919722 0.37204441]\n",
            "22 day output [[0.3747461]]\n",
            "23 day input [0.29390106 0.29422668 0.29335003 0.29597996 0.27977458 0.27714465\n",
            " 0.27832185 0.27902317 0.2804258  0.2886412  0.27932373 0.28308078\n",
            " 0.25655604 0.25144646 0.25793363 0.26667502 0.27401378 0.27724483\n",
            " 0.2866124  0.28773951 0.2952536  0.29858485 0.2981841  0.29973701\n",
            " 0.29946149 0.29477771 0.30056356 0.30141515 0.30354415 0.29968691\n",
            " 0.30795241 0.3059737  0.29036944 0.28556043 0.28939261 0.28548528\n",
            " 0.28571071 0.28370695 0.29009393 0.29036944 0.28969317 0.27421415\n",
            " 0.27539136 0.28515967 0.30564809 0.30396994 0.29963682 0.30189105\n",
            " 0.29938635 0.30226675 0.30294302 0.31599249 0.2989856  0.30041327\n",
            " 0.29763306 0.30046337 0.28766437 0.29788353 0.30732624 0.30607389\n",
            " 0.30234189 0.3117345  0.31812148 0.31293676 0.31386349 0.32100188\n",
            " 0.32470883 0.32315592 0.31038197 0.30990607 0.31201002 0.31699436\n",
            " 0.31767063 0.30872887 0.29823419 0.32443741 0.32443741 0.32126597\n",
            " 0.32084456 0.32112965 0.32199314 0.32330075 0.32494345 0.32684228\n",
            " 0.32894477 0.33121848 0.3336437  0.33620733 0.33889893 0.34170759\n",
            " 0.34461936 0.34761837 0.35068616 0.35380104 0.35693958 0.36007622\n",
            " 0.36318341 0.36623371 0.36919722 0.37204441 0.37474611]\n",
            "23 day output [[0.37727386]]\n",
            "24 day input [0.29422668 0.29335003 0.29597996 0.27977458 0.27714465 0.27832185\n",
            " 0.27902317 0.2804258  0.2886412  0.27932373 0.28308078 0.25655604\n",
            " 0.25144646 0.25793363 0.26667502 0.27401378 0.27724483 0.2866124\n",
            " 0.28773951 0.2952536  0.29858485 0.2981841  0.29973701 0.29946149\n",
            " 0.29477771 0.30056356 0.30141515 0.30354415 0.29968691 0.30795241\n",
            " 0.3059737  0.29036944 0.28556043 0.28939261 0.28548528 0.28571071\n",
            " 0.28370695 0.29009393 0.29036944 0.28969317 0.27421415 0.27539136\n",
            " 0.28515967 0.30564809 0.30396994 0.29963682 0.30189105 0.29938635\n",
            " 0.30226675 0.30294302 0.31599249 0.2989856  0.30041327 0.29763306\n",
            " 0.30046337 0.28766437 0.29788353 0.30732624 0.30607389 0.30234189\n",
            " 0.3117345  0.31812148 0.31293676 0.31386349 0.32100188 0.32470883\n",
            " 0.32315592 0.31038197 0.30990607 0.31201002 0.31699436 0.31767063\n",
            " 0.30872887 0.29823419 0.32443741 0.32443741 0.32126597 0.32084456\n",
            " 0.32112965 0.32199314 0.32330075 0.32494345 0.32684228 0.32894477\n",
            " 0.33121848 0.3336437  0.33620733 0.33889893 0.34170759 0.34461936\n",
            " 0.34761837 0.35068616 0.35380104 0.35693958 0.36007622 0.36318341\n",
            " 0.36623371 0.36919722 0.37204441 0.37474611 0.37727386]\n",
            "24 day output [[0.37959945]]\n",
            "25 day input [0.29335003 0.29597996 0.27977458 0.27714465 0.27832185 0.27902317\n",
            " 0.2804258  0.2886412  0.27932373 0.28308078 0.25655604 0.25144646\n",
            " 0.25793363 0.26667502 0.27401378 0.27724483 0.2866124  0.28773951\n",
            " 0.2952536  0.29858485 0.2981841  0.29973701 0.29946149 0.29477771\n",
            " 0.30056356 0.30141515 0.30354415 0.29968691 0.30795241 0.3059737\n",
            " 0.29036944 0.28556043 0.28939261 0.28548528 0.28571071 0.28370695\n",
            " 0.29009393 0.29036944 0.28969317 0.27421415 0.27539136 0.28515967\n",
            " 0.30564809 0.30396994 0.29963682 0.30189105 0.29938635 0.30226675\n",
            " 0.30294302 0.31599249 0.2989856  0.30041327 0.29763306 0.30046337\n",
            " 0.28766437 0.29788353 0.30732624 0.30607389 0.30234189 0.3117345\n",
            " 0.31812148 0.31293676 0.31386349 0.32100188 0.32470883 0.32315592\n",
            " 0.31038197 0.30990607 0.31201002 0.31699436 0.31767063 0.30872887\n",
            " 0.29823419 0.32443741 0.32443741 0.32126597 0.32084456 0.32112965\n",
            " 0.32199314 0.32330075 0.32494345 0.32684228 0.32894477 0.33121848\n",
            " 0.3336437  0.33620733 0.33889893 0.34170759 0.34461936 0.34761837\n",
            " 0.35068616 0.35380104 0.35693958 0.36007622 0.36318341 0.36623371\n",
            " 0.36919722 0.37204441 0.37474611 0.37727386 0.37959945]\n",
            "25 day output [[0.38169602]]\n",
            "26 day input [0.29597996 0.27977458 0.27714465 0.27832185 0.27902317 0.2804258\n",
            " 0.2886412  0.27932373 0.28308078 0.25655604 0.25144646 0.25793363\n",
            " 0.26667502 0.27401378 0.27724483 0.2866124  0.28773951 0.2952536\n",
            " 0.29858485 0.2981841  0.29973701 0.29946149 0.29477771 0.30056356\n",
            " 0.30141515 0.30354415 0.29968691 0.30795241 0.3059737  0.29036944\n",
            " 0.28556043 0.28939261 0.28548528 0.28571071 0.28370695 0.29009393\n",
            " 0.29036944 0.28969317 0.27421415 0.27539136 0.28515967 0.30564809\n",
            " 0.30396994 0.29963682 0.30189105 0.29938635 0.30226675 0.30294302\n",
            " 0.31599249 0.2989856  0.30041327 0.29763306 0.30046337 0.28766437\n",
            " 0.29788353 0.30732624 0.30607389 0.30234189 0.3117345  0.31812148\n",
            " 0.31293676 0.31386349 0.32100188 0.32470883 0.32315592 0.31038197\n",
            " 0.30990607 0.31201002 0.31699436 0.31767063 0.30872887 0.29823419\n",
            " 0.32443741 0.32443741 0.32126597 0.32084456 0.32112965 0.32199314\n",
            " 0.32330075 0.32494345 0.32684228 0.32894477 0.33121848 0.3336437\n",
            " 0.33620733 0.33889893 0.34170759 0.34461936 0.34761837 0.35068616\n",
            " 0.35380104 0.35693958 0.36007622 0.36318341 0.36623371 0.36919722\n",
            " 0.37204441 0.37474611 0.37727386 0.37959945 0.38169602]\n",
            "26 day output [[0.38353947]]\n",
            "27 day input [0.27977458 0.27714465 0.27832185 0.27902317 0.2804258  0.2886412\n",
            " 0.27932373 0.28308078 0.25655604 0.25144646 0.25793363 0.26667502\n",
            " 0.27401378 0.27724483 0.2866124  0.28773951 0.2952536  0.29858485\n",
            " 0.2981841  0.29973701 0.29946149 0.29477771 0.30056356 0.30141515\n",
            " 0.30354415 0.29968691 0.30795241 0.3059737  0.29036944 0.28556043\n",
            " 0.28939261 0.28548528 0.28571071 0.28370695 0.29009393 0.29036944\n",
            " 0.28969317 0.27421415 0.27539136 0.28515967 0.30564809 0.30396994\n",
            " 0.29963682 0.30189105 0.29938635 0.30226675 0.30294302 0.31599249\n",
            " 0.2989856  0.30041327 0.29763306 0.30046337 0.28766437 0.29788353\n",
            " 0.30732624 0.30607389 0.30234189 0.3117345  0.31812148 0.31293676\n",
            " 0.31386349 0.32100188 0.32470883 0.32315592 0.31038197 0.30990607\n",
            " 0.31201002 0.31699436 0.31767063 0.30872887 0.29823419 0.32443741\n",
            " 0.32443741 0.32126597 0.32084456 0.32112965 0.32199314 0.32330075\n",
            " 0.32494345 0.32684228 0.32894477 0.33121848 0.3336437  0.33620733\n",
            " 0.33889893 0.34170759 0.34461936 0.34761837 0.35068616 0.35380104\n",
            " 0.35693958 0.36007622 0.36318341 0.36623371 0.36919722 0.37204441\n",
            " 0.37474611 0.37727386 0.37959945 0.38169602 0.38353947]\n",
            "27 day output [[0.3851084]]\n",
            "28 day input [0.27714465 0.27832185 0.27902317 0.2804258  0.2886412  0.27932373\n",
            " 0.28308078 0.25655604 0.25144646 0.25793363 0.26667502 0.27401378\n",
            " 0.27724483 0.2866124  0.28773951 0.2952536  0.29858485 0.2981841\n",
            " 0.29973701 0.29946149 0.29477771 0.30056356 0.30141515 0.30354415\n",
            " 0.29968691 0.30795241 0.3059737  0.29036944 0.28556043 0.28939261\n",
            " 0.28548528 0.28571071 0.28370695 0.29009393 0.29036944 0.28969317\n",
            " 0.27421415 0.27539136 0.28515967 0.30564809 0.30396994 0.29963682\n",
            " 0.30189105 0.29938635 0.30226675 0.30294302 0.31599249 0.2989856\n",
            " 0.30041327 0.29763306 0.30046337 0.28766437 0.29788353 0.30732624\n",
            " 0.30607389 0.30234189 0.3117345  0.31812148 0.31293676 0.31386349\n",
            " 0.32100188 0.32470883 0.32315592 0.31038197 0.30990607 0.31201002\n",
            " 0.31699436 0.31767063 0.30872887 0.29823419 0.32443741 0.32443741\n",
            " 0.32126597 0.32084456 0.32112965 0.32199314 0.32330075 0.32494345\n",
            " 0.32684228 0.32894477 0.33121848 0.3336437  0.33620733 0.33889893\n",
            " 0.34170759 0.34461936 0.34761837 0.35068616 0.35380104 0.35693958\n",
            " 0.36007622 0.36318341 0.36623371 0.36919722 0.37204441 0.37474611\n",
            " 0.37727386 0.37959945 0.38169602 0.38353947 0.38510841]\n",
            "28 day output [[0.38638577]]\n",
            "29 day input [0.27832185 0.27902317 0.2804258  0.2886412  0.27932373 0.28308078\n",
            " 0.25655604 0.25144646 0.25793363 0.26667502 0.27401378 0.27724483\n",
            " 0.2866124  0.28773951 0.2952536  0.29858485 0.2981841  0.29973701\n",
            " 0.29946149 0.29477771 0.30056356 0.30141515 0.30354415 0.29968691\n",
            " 0.30795241 0.3059737  0.29036944 0.28556043 0.28939261 0.28548528\n",
            " 0.28571071 0.28370695 0.29009393 0.29036944 0.28969317 0.27421415\n",
            " 0.27539136 0.28515967 0.30564809 0.30396994 0.29963682 0.30189105\n",
            " 0.29938635 0.30226675 0.30294302 0.31599249 0.2989856  0.30041327\n",
            " 0.29763306 0.30046337 0.28766437 0.29788353 0.30732624 0.30607389\n",
            " 0.30234189 0.3117345  0.31812148 0.31293676 0.31386349 0.32100188\n",
            " 0.32470883 0.32315592 0.31038197 0.30990607 0.31201002 0.31699436\n",
            " 0.31767063 0.30872887 0.29823419 0.32443741 0.32443741 0.32126597\n",
            " 0.32084456 0.32112965 0.32199314 0.32330075 0.32494345 0.32684228\n",
            " 0.32894477 0.33121848 0.3336437  0.33620733 0.33889893 0.34170759\n",
            " 0.34461936 0.34761837 0.35068616 0.35380104 0.35693958 0.36007622\n",
            " 0.36318341 0.36623371 0.36919722 0.37204441 0.37474611 0.37727386\n",
            " 0.37959945 0.38169602 0.38353947 0.38510841 0.38638577]\n",
            "29 day output [[0.38735774]]\n",
            "[[0.3208445608615875], [0.3211296498775482], [0.3219931423664093], [0.3233007490634918], [0.3249434530735016], [0.3268422782421112], [0.32894477248191833], [0.3312184810638428], [0.33364370465278625], [0.3362073302268982], [0.3388989269733429], [0.34170758724212646], [0.34461936354637146], [0.34761837124824524], [0.3506861627101898], [0.35380104184150696], [0.3569395840167999], [0.3600762188434601], [0.3631834089756012], [0.3662337064743042], [0.36919721961021423], [0.3720444142818451], [0.3747461140155792], [0.3772738575935364], [0.3795994520187378], [0.38169601559638977], [0.38353946805000305], [0.38510841131210327], [0.3863857686519623], [0.3873577415943146]]\n"
          ]
        }
      ]
    },
    {
      "cell_type": "code",
      "source": [
        "day_new=np.arange(1,101)\n",
        "day_pred=np.arange(101,131)"
      ],
      "metadata": {
        "id": "9HHr79ThUvOR"
      },
      "execution_count": null,
      "outputs": []
    },
    {
      "cell_type": "code",
      "source": [
        "len(df1)"
      ],
      "metadata": {
        "colab": {
          "base_uri": "https://localhost:8080/"
        },
        "id": "RGvJm-MiVmES",
        "outputId": "90fd322b-b603-46fe-8a10-f18ef05c02a2"
      },
      "execution_count": null,
      "outputs": [
        {
          "output_type": "execute_result",
          "data": {
            "text/plain": [
              "1257"
            ]
          },
          "metadata": {},
          "execution_count": 84
        }
      ]
    },
    {
      "source": [
        "import pandas as pd\n",
        "import matplotlib.pyplot as plt\n",
        "# Assuming 'scaler' is your defined scaler object\n",
        "\n",
        "plt.plot(day_new, scaler.inverse_transform(df1[1157:].values.reshape(-1, 1))) # Reshape to 2D\n",
        "plt.plot(day_pred, scaler.inverse_transform(lst_output))"
      ],
      "cell_type": "code",
      "metadata": {
        "colab": {
          "base_uri": "https://localhost:8080/",
          "height": 447
        },
        "id": "3i7mnFDcV8s2",
        "outputId": "1e7e8bd8-7c7d-4743-90a1-3715f4b67d93"
      },
      "execution_count": null,
      "outputs": [
        {
          "output_type": "execute_result",
          "data": {
            "text/plain": [
              "[<matplotlib.lines.Line2D at 0x78610206dab0>]"
            ]
          },
          "metadata": {},
          "execution_count": 87
        },
        {
          "output_type": "display_data",
          "data": {
            "text/plain": [
              "<Figure size 640x480 with 1 Axes>"
            ],
            "image/png": "[encoded data removed]"
          },
          "metadata": {}
        }
      ]
    },
    {
      "cell_type": "code",
      "source": [
        "df3=df1.tolist()\n",
        "df3.extend([item for sublist in lst_output for item in sublist])\n",
        "plt.plot(df3[1200:])"
      ],
      "metadata": {
        "colab": {
          "base_uri": "https://localhost:8080/",
          "height": 447
        },
        "id": "i0aTDPjuVtdl",
        "outputId": "40195b2c-0d04-4f89-9964-2502d935fc65"
      },
      "execution_count": null,
      "outputs": [
        {
          "output_type": "execute_result",
          "data": {
            "text/plain": [
              "[<matplotlib.lines.Line2D at 0x7861020fe920>]"
            ]
          },
          "metadata": {},
          "execution_count": 91
        },
        {
          "output_type": "display_data",
          "data": {
            "text/plain": [
              "<Figure size 640x480 with 1 Axes>"
            ],
            "image/png": "[encoded data removed]"
          },
          "metadata": {}
        }
      ]
    },
    {
      "source": [
        "import numpy as np\n",
        "\n",
        "df3 = df1.tolist()\n",
        "# Flatten lst_output to a 1D list\n",
        "df3.extend([item for sublist in lst_output for item in sublist])\n",
        "# Now df3 contains only single numerical values\n",
        "df3 = np.array(df3).reshape(-1, 1)  # Reshape to a 2D array with one column\n",
        "df3 = scaler.inverse_transform(df3).tolist()"
      ],
      "cell_type": "code",
      "metadata": {
        "id": "CDOgp2i7wTvs"
      },
      "execution_count": null,
      "outputs": []
    },
    {
      "cell_type": "code",
      "source": [
        "plt.plot(df3)"
      ],
      "metadata": {
        "colab": {
          "base_uri": "https://localhost:8080/",
          "height": 447
        },
        "id": "D96e2c2lYaLX",
        "outputId": "d2841f34-1e5c-4da0-e985-2b8e47ac1c8f"
      },
      "execution_count": null,
      "outputs": [
        {
          "output_type": "execute_result",
          "data": {
            "text/plain": [
              "[<matplotlib.lines.Line2D at 0x78612d396770>]"
            ]
          },
          "metadata": {},
          "execution_count": 99
        },
        {
          "output_type": "display_data",
          "data": {
            "text/plain": [
              "<Figure size 640x480 with 1 Axes>"
            ],
            "image/png": "[encoded data removed]"
          },
          "metadata": {}
        }
      ]
    },
    {
      "cell_type": "code",
      "source": [],
      "metadata": {
        "id": "hP2ESfUEYuXD"
      },
      "execution_count": null,
      "outputs": []
    }
  ]
}