{
 "cells": [
  {
   "cell_type": "markdown",
   "id": "13e06a62",
   "metadata": {},
   "source": [
    "### Decision Tree Regression"
   ]
  },
  {
   "cell_type": "code",
   "execution_count": 138,
   "id": "c84d79cb",
   "metadata": {},
   "outputs": [],
   "source": [
    "# import numpy package for arrays and stuff \n",
    "import numpy as np  \n",
    "  \n",
    "# import matplotlib.pyplot for plotting our result \n",
    "import matplotlib.pyplot as plt \n",
    "  \n",
    "# import pandas for importing csv files  \n",
    "import pandas as pd "
   ]
  },
  {
   "cell_type": "code",
   "execution_count": 139,
   "id": "40657049",
   "metadata": {},
   "outputs": [],
   "source": [
    "# import dataset \n",
    "dataset = pd.read_csv('material_data.txt')  \n",
    "# alternatively open up .csv file to read data "
   ]
  },
  {
   "cell_type": "code",
   "execution_count": 140,
   "id": "f6a9d2e4",
   "metadata": {},
   "outputs": [
    {
     "data": {
      "text/html": [
       "<div>\n",
       "<style scoped>\n",
       "    .dataframe tbody tr th:only-of-type {\n",
       "        vertical-align: middle;\n",
       "    }\n",
       "\n",
       "    .dataframe tbody tr th {\n",
       "        vertical-align: top;\n",
       "    }\n",
       "\n",
       "    .dataframe thead th {\n",
       "        text-align: right;\n",
       "    }\n",
       "</style>\n",
       "<table border=\"1\" class=\"dataframe\">\n",
       "  <thead>\n",
       "    <tr style=\"text-align: right;\">\n",
       "      <th></th>\n",
       "      <th>Elements</th>\n",
       "      <th>Atomic_Number</th>\n",
       "      <th>Electronegativity</th>\n",
       "      <th>Atomic_Radius</th>\n",
       "      <th>Thermal_Conductivity</th>\n",
       "      <th>Density</th>\n",
       "      <th>Crystal_System</th>\n",
       "    </tr>\n",
       "  </thead>\n",
       "  <tbody>\n",
       "    <tr>\n",
       "      <th>0</th>\n",
       "      <td>H</td>\n",
       "      <td>1</td>\n",
       "      <td>2.20</td>\n",
       "      <td>0.25</td>\n",
       "      <td>0.1805</td>\n",
       "      <td>0.09</td>\n",
       "      <td>HEX</td>\n",
       "    </tr>\n",
       "    <tr>\n",
       "      <th>1</th>\n",
       "      <td>He</td>\n",
       "      <td>2</td>\n",
       "      <td>0.00</td>\n",
       "      <td>1.20</td>\n",
       "      <td>0.1513</td>\n",
       "      <td>0.18</td>\n",
       "      <td>HCP</td>\n",
       "    </tr>\n",
       "    <tr>\n",
       "      <th>2</th>\n",
       "      <td>Li</td>\n",
       "      <td>3</td>\n",
       "      <td>0.98</td>\n",
       "      <td>1.45</td>\n",
       "      <td>85.0000</td>\n",
       "      <td>530.00</td>\n",
       "      <td>BCC</td>\n",
       "    </tr>\n",
       "    <tr>\n",
       "      <th>3</th>\n",
       "      <td>Be</td>\n",
       "      <td>4</td>\n",
       "      <td>1.57</td>\n",
       "      <td>1.05</td>\n",
       "      <td>190.0000</td>\n",
       "      <td>1850.00</td>\n",
       "      <td>HCP</td>\n",
       "    </tr>\n",
       "    <tr>\n",
       "      <th>4</th>\n",
       "      <td>B</td>\n",
       "      <td>5</td>\n",
       "      <td>2.04</td>\n",
       "      <td>0.85</td>\n",
       "      <td>27.0000</td>\n",
       "      <td>2340.00</td>\n",
       "      <td>RHO</td>\n",
       "    </tr>\n",
       "  </tbody>\n",
       "</table>\n",
       "</div>"
      ],
      "text/plain": [
       "  Elements  Atomic_Number  Electronegativity  Atomic_Radius  \\\n",
       "0        H              1               2.20           0.25   \n",
       "1       He              2               0.00           1.20   \n",
       "2       Li              3               0.98           1.45   \n",
       "3       Be              4               1.57           1.05   \n",
       "4        B              5               2.04           0.85   \n",
       "\n",
       "   Thermal_Conductivity  Density Crystal_System  \n",
       "0                0.1805     0.09            HEX  \n",
       "1                0.1513     0.18            HCP  \n",
       "2               85.0000   530.00            BCC  \n",
       "3              190.0000  1850.00            HCP  \n",
       "4               27.0000  2340.00            RHO  "
      ]
     },
     "execution_count": 140,
     "metadata": {},
     "output_type": "execute_result"
    }
   ],
   "source": [
    "dataset.head()"
   ]
  },
  {
   "cell_type": "markdown",
   "id": "22d8a8e2",
   "metadata": {},
   "source": [
    "### In the above dataset, I would like to predict Thermal Conductivity based on Electronegatviity, Atomic Radius and Density."
   ]
  },
  {
   "cell_type": "code",
   "execution_count": 141,
   "id": "934fa57e",
   "metadata": {},
   "outputs": [],
   "source": [
    "X = dataset[['Electronegativity','Atomic_Radius','Density']]\n",
    "#X = dataset[['Density']]"
   ]
  },
  {
   "cell_type": "code",
   "execution_count": 142,
   "id": "7304430f",
   "metadata": {},
   "outputs": [
    {
     "data": {
      "text/html": [
       "<div>\n",
       "<style scoped>\n",
       "    .dataframe tbody tr th:only-of-type {\n",
       "        vertical-align: middle;\n",
       "    }\n",
       "\n",
       "    .dataframe tbody tr th {\n",
       "        vertical-align: top;\n",
       "    }\n",
       "\n",
       "    .dataframe thead th {\n",
       "        text-align: right;\n",
       "    }\n",
       "</style>\n",
       "<table border=\"1\" class=\"dataframe\">\n",
       "  <thead>\n",
       "    <tr style=\"text-align: right;\">\n",
       "      <th></th>\n",
       "      <th>Electronegativity</th>\n",
       "      <th>Atomic_Radius</th>\n",
       "      <th>Density</th>\n",
       "    </tr>\n",
       "  </thead>\n",
       "  <tbody>\n",
       "    <tr>\n",
       "      <th>0</th>\n",
       "      <td>2.20</td>\n",
       "      <td>0.25</td>\n",
       "      <td>0.09</td>\n",
       "    </tr>\n",
       "    <tr>\n",
       "      <th>1</th>\n",
       "      <td>0.00</td>\n",
       "      <td>1.20</td>\n",
       "      <td>0.18</td>\n",
       "    </tr>\n",
       "    <tr>\n",
       "      <th>2</th>\n",
       "      <td>0.98</td>\n",
       "      <td>1.45</td>\n",
       "      <td>530.00</td>\n",
       "    </tr>\n",
       "    <tr>\n",
       "      <th>3</th>\n",
       "      <td>1.57</td>\n",
       "      <td>1.05</td>\n",
       "      <td>1850.00</td>\n",
       "    </tr>\n",
       "    <tr>\n",
       "      <th>4</th>\n",
       "      <td>2.04</td>\n",
       "      <td>0.85</td>\n",
       "      <td>2340.00</td>\n",
       "    </tr>\n",
       "    <tr>\n",
       "      <th>...</th>\n",
       "      <td>...</td>\n",
       "      <td>...</td>\n",
       "      <td>...</td>\n",
       "    </tr>\n",
       "    <tr>\n",
       "      <th>90</th>\n",
       "      <td>1.38</td>\n",
       "      <td>1.75</td>\n",
       "      <td>18950.00</td>\n",
       "    </tr>\n",
       "    <tr>\n",
       "      <th>91</th>\n",
       "      <td>1.36</td>\n",
       "      <td>1.75</td>\n",
       "      <td>20200.00</td>\n",
       "    </tr>\n",
       "    <tr>\n",
       "      <th>92</th>\n",
       "      <td>1.28</td>\n",
       "      <td>1.75</td>\n",
       "      <td>19840.00</td>\n",
       "    </tr>\n",
       "    <tr>\n",
       "      <th>93</th>\n",
       "      <td>1.30</td>\n",
       "      <td>1.75</td>\n",
       "      <td>13670.00</td>\n",
       "    </tr>\n",
       "    <tr>\n",
       "      <th>94</th>\n",
       "      <td>1.30</td>\n",
       "      <td>1.76</td>\n",
       "      <td>13500.00</td>\n",
       "    </tr>\n",
       "  </tbody>\n",
       "</table>\n",
       "<p>95 rows × 3 columns</p>\n",
       "</div>"
      ],
      "text/plain": [
       "    Electronegativity  Atomic_Radius   Density\n",
       "0                2.20           0.25      0.09\n",
       "1                0.00           1.20      0.18\n",
       "2                0.98           1.45    530.00\n",
       "3                1.57           1.05   1850.00\n",
       "4                2.04           0.85   2340.00\n",
       "..                ...            ...       ...\n",
       "90               1.38           1.75  18950.00\n",
       "91               1.36           1.75  20200.00\n",
       "92               1.28           1.75  19840.00\n",
       "93               1.30           1.75  13670.00\n",
       "94               1.30           1.76  13500.00\n",
       "\n",
       "[95 rows x 3 columns]"
      ]
     },
     "execution_count": 142,
     "metadata": {},
     "output_type": "execute_result"
    }
   ],
   "source": [
    "X"
   ]
  },
  {
   "cell_type": "code",
   "execution_count": 143,
   "id": "0fc69793",
   "metadata": {},
   "outputs": [
    {
     "name": "stdout",
     "output_type": "stream",
     "text": [
      "    Electronegativity  Atomic_Radius   Density\n",
      "0                2.20           0.25      0.09\n",
      "1                0.00           1.20      0.18\n",
      "2                0.98           1.45    530.00\n",
      "3                1.57           1.05   1850.00\n",
      "4                2.04           0.85   2340.00\n",
      "..                ...            ...       ...\n",
      "90               1.38           1.75  18950.00\n",
      "91               1.36           1.75  20200.00\n",
      "92               1.28           1.75  19840.00\n",
      "93               1.30           1.75  13670.00\n",
      "94               1.30           1.76  13500.00\n",
      "\n",
      "[95 rows x 3 columns]\n"
     ]
    },
    {
     "data": {
      "text/plain": [
       "Electronegativity    float64\n",
       "Atomic_Radius        float64\n",
       "Density              float64\n",
       "dtype: object"
      ]
     },
     "execution_count": 143,
     "metadata": {},
     "output_type": "execute_result"
    }
   ],
   "source": [
    "print(X)\n",
    "X.dtypes"
   ]
  },
  {
   "cell_type": "code",
   "execution_count": 144,
   "id": "96d1765a",
   "metadata": {},
   "outputs": [],
   "source": [
    "Y = dataset[['Thermal_Conductivity']]"
   ]
  },
  {
   "cell_type": "code",
   "execution_count": 145,
   "id": "a809812d",
   "metadata": {},
   "outputs": [
    {
     "data": {
      "text/plain": [
       "Thermal_Conductivity    float64\n",
       "dtype: object"
      ]
     },
     "execution_count": 145,
     "metadata": {},
     "output_type": "execute_result"
    }
   ],
   "source": [
    "Y\n",
    "Y.dtypes"
   ]
  },
  {
   "cell_type": "code",
   "execution_count": 146,
   "id": "976eff86",
   "metadata": {},
   "outputs": [
    {
     "data": {
      "text/plain": [
       "DecisionTreeRegressor()"
      ]
     },
     "execution_count": 146,
     "metadata": {},
     "output_type": "execute_result"
    }
   ],
   "source": [
    "from sklearn.model_selection import train_test_split\n",
    "from sklearn.tree import DecisionTreeRegressor  \n",
    "  \n",
    "# create a regressor object \n",
    "regressor = DecisionTreeRegressor()  \n",
    "X_train, X_test, Y_train, Y_test = train_test_split(\n",
    "    X, Y, test_size=0.30, random_state=0)\n",
    "# fit the regressor with X and Y data \n",
    "regressor.fit(X_train, Y_train) "
   ]
  },
  {
   "cell_type": "code",
   "execution_count": 147,
   "id": "3fa92809",
   "metadata": {},
   "outputs": [
    {
     "data": {
      "text/plain": [
       "array([1.40e+02, 8.00e+01, 1.20e+01, 9.43e-03, 2.35e+02, 1.10e+01,\n",
       "       1.70e+01, 4.00e+02, 2.05e-01, 1.50e+02, 7.20e+01, 1.40e+02,\n",
       "       2.40e+01, 6.00e+00, 1.00e+01, 1.30e+01, 1.40e+02, 1.20e+02,\n",
       "       3.50e+01, 1.50e+02, 9.10e+01, 1.50e+02, 2.20e+01, 1.40e+02,\n",
       "       4.00e+02, 8.00e+01, 4.00e+02, 1.60e+01, 3.50e+01])"
      ]
     },
     "execution_count": 147,
     "metadata": {},
     "output_type": "execute_result"
    }
   ],
   "source": [
    "# predicting a new value \n",
    "  \n",
    "Y_train_pred = regressor.predict(X_train,check_input=True) \n",
    "Y_test_pred = regressor.predict(X_test,check_input=True) \n",
    "  \n",
    "# print the predicted price \n",
    "Y_test_pred"
   ]
  },
  {
   "cell_type": "code",
   "execution_count": 148,
   "id": "0f909005",
   "metadata": {},
   "outputs": [],
   "source": [
    "import matplotlib.pyplot as plt"
   ]
  },
  {
   "cell_type": "code",
   "execution_count": 149,
   "id": "2c615036",
   "metadata": {},
   "outputs": [
    {
     "data": {
      "image/png": "[encoded data removed]",
      "text/plain": [
       "<Figure size 432x288 with 1 Axes>"
      ]
     },
     "metadata": {
      "needs_background": "light"
     },
     "output_type": "display_data"
    }
   ],
   "source": [
    "plt.scatter(Y_train, Y_train_pred, color = 'red')\n",
    "plt.show()"
   ]
  },
  {
   "cell_type": "code",
   "execution_count": 150,
   "id": "6b135048",
   "metadata": {},
   "outputs": [
    {
     "data": {
      "image/png": "[encoded data removed]",
      "text/plain": [
       "<Figure size 432x288 with 1 Axes>"
      ]
     },
     "metadata": {
      "needs_background": "light"
     },
     "output_type": "display_data"
    }
   ],
   "source": [
    "plt.scatter(Y_test, Y_test_pred, color = 'red')\n",
    "plt.show()"
   ]
  },
  {
   "cell_type": "code",
   "execution_count": 154,
   "id": "fdab28ff",
   "metadata": {},
   "outputs": [],
   "source": [
    "from sklearn.ensemble import (BaggingRegressor, RandomForestRegressor, AdaBoostRegressor)\n",
    "from sklearn.metrics import mean_squared_error"
   ]
  },
  {
   "cell_type": "code",
   "execution_count": 176,
   "id": "9b3faace",
   "metadata": {},
   "outputs": [
    {
     "name": "stdout",
     "output_type": "stream",
     "text": [
      "Bagging Estimator: 1 of 10...\n",
      "mse: ' 13593.121089360582\n",
      "Bagging Estimator: 2 of 10...\n",
      "mse: ' 7886.7321017032555\n",
      "Bagging Estimator: 3 of 10...\n",
      "mse: ' 7235.794128611719\n",
      "Bagging Estimator: 4 of 10...\n",
      "mse: ' 10927.270951804368\n",
      "Bagging Estimator: 5 of 10...\n",
      "mse: ' 5972.21499434809\n",
      "Bagging Estimator: 6 of 10...\n",
      "mse: ' 4593.859476020522\n",
      "Bagging Estimator: 7 of 10...\n",
      "mse: ' 2892.9294573142647\n",
      "Bagging Estimator: 8 of 10...\n",
      "mse: ' 9262.546984355427\n",
      "Bagging Estimator: 9 of 10...\n",
      "mse: ' 3909.715744871364\n",
      "Bagging Estimator: 10 of 10...\n",
      "mse: ' 7278.824329829162\n"
     ]
    }
   ],
   "source": [
    "# Set the random seed, number of estimators\n",
    "# and the \"step factor\" used to plot the graph of MSE\n",
    "# for each method\n",
    "random_state = 42\n",
    "n_jobs = 1  # Parallelisation factor for bagging, random forests\n",
    "n_estimators = 10\n",
    "step_factor = 1\n",
    "axis_step = int(n_estimators/step_factor)\n",
    "\n",
    "# Pre-create the arrays which will contain the MSE for\n",
    "# each particular ensemble method\n",
    "estimators = np.zeros(axis_step)\n",
    "bagging_mse = np.zeros(axis_step)\n",
    "rf_mse = np.zeros(axis_step)\n",
    "boosting_mse = np.zeros(axis_step)\n",
    "\n",
    "# Estimate the Bagging MSE over the full number\n",
    "# of estimators, across a step size (\"step_factor\")\n",
    "for i in range(0, axis_step):\n",
    "    print(\"Bagging Estimator: %d of %d...\" % (step_factor*(i+1), n_estimators))\n",
    "    bagging = BaggingRegressor(DecisionTreeRegressor(),n_estimators=step_factor*(i+1))#,random_state=random_state)\n",
    "    X_train, X_test, Y_train, Y_test = train_test_split(X, Y, test_size=0.30)#, random_state=0)\n",
    "    bagging.fit(X_train, Y_train.values.ravel())\n",
    "    mse = mean_squared_error(Y_test, bagging.predict(X_test))\n",
    "    print(\"mse: '\",mse)\n",
    "    estimators[i] = step_factor*(i+1)\n",
    "    bagging_mse[i] = mse"
   ]
  },
  {
   "cell_type": "code",
   "execution_count": 177,
   "id": "0149694b",
   "metadata": {},
   "outputs": [
    {
     "data": {
      "image/png": "[encoded data removed]",
      "text/plain": [
       "<Figure size 576x576 with 1 Axes>"
      ]
     },
     "metadata": {
      "needs_background": "light"
     },
     "output_type": "display_data"
    }
   ],
   "source": [
    "# Plot the chart of MSE versus number of estimators\n",
    "plt.figure(figsize=(8, 8))\n",
    "#plt.title('Effect of bagging as a function of estimators')\n",
    "plt.plot(estimators, bagging_mse)#, 'b-', color=\"black\", label='Bagging')\n",
    "#plt.plot(estimators, rf_mse, 'b-', color=\"blue\", label='Random Forest')\n",
    "#plt.plot(estimators, boosting_mse, 'b-', color=\"red\", label='AdaBoost')\n",
    "#plt.legend(loc='upper right')\n",
    "plt.xlabel('Estimators')\n",
    "plt.ylabel('Mean Squared Error')\n",
    "plt.show()"
   ]
  },
  {
   "cell_type": "code",
   "execution_count": 178,
   "id": "dde326e4",
   "metadata": {},
   "outputs": [
    {
     "name": "stdout",
     "output_type": "stream",
     "text": [
      "Boosting Estimator: 1 of 10...\n",
      "Boosting Estimator: 2 of 10...\n",
      "Boosting Estimator: 3 of 10...\n",
      "Boosting Estimator: 4 of 10...\n",
      "Boosting Estimator: 5 of 10...\n",
      "Boosting Estimator: 6 of 10...\n",
      "Boosting Estimator: 7 of 10...\n",
      "Boosting Estimator: 8 of 10...\n",
      "Boosting Estimator: 9 of 10...\n",
      "Boosting Estimator: 10 of 10...\n"
     ]
    }
   ],
   "source": [
    "# Estimate the AdaBoost MSE over the full number\n",
    "# of estimators, across a step size (\"step_factor\")\n",
    "for i in range(0, axis_step):\n",
    "    print(\"Boosting Estimator: %d of %d...\" % (step_factor*(i+1), n_estimators))\n",
    "    boosting = AdaBoostRegressor(DecisionTreeRegressor(),n_estimators=step_factor*(i+1),random_state=random_state,\n",
    "    learning_rate=0.01\n",
    "    )\n",
    "    boosting.fit(X_train, Y_train.values.ravel())\n",
    "    mse = mean_squared_error(Y_test, boosting.predict(X_test))\n",
    "    estimators[i] = step_factor*(i+1)\n",
    "    boosting_mse[i] = mse"
   ]
  },
  {
   "cell_type": "code",
   "execution_count": 179,
   "id": "dd32a505",
   "metadata": {},
   "outputs": [
    {
     "data": {
      "image/png": "[encoded data removed]",
      "text/plain": [
       "<Figure size 576x576 with 1 Axes>"
      ]
     },
     "metadata": {
      "needs_background": "light"
     },
     "output_type": "display_data"
    }
   ],
   "source": [
    "# Plot the chart of MSE versus number of estimators\n",
    "plt.figure(figsize=(8, 8))\n",
    "#plt.title('Effect of bagging as a function of estimators')\n",
    "plt.plot(estimators, boosting_mse)#, 'b-', color=\"black\", label='Bagging')\n",
    "#plt.plot(estimators, rf_mse, 'b-', color=\"blue\", label='Random Forest')\n",
    "#plt.plot(estimators, boosting_mse, 'b-', color=\"red\", label='AdaBoost')\n",
    "#plt.legend(loc='upper right')\n",
    "plt.xlabel('Estimators')\n",
    "plt.ylabel('Mean Squared Error')\n",
    "plt.show()"
   ]
  },
  {
   "cell_type": "code",
   "execution_count": null,
   "id": "26bc9651",
   "metadata": {},
   "outputs": [],
   "source": []
  }
 ],
 "metadata": {
  "kernelspec": {
   "display_name": "Python 3 (ipykernel)",
   "language": "python",
   "name": "python3"
  },
  "language_info": {
   "codemirror_mode": {
    "name": "ipython",
    "version": 3
   },
   "file_extension": ".py",
   "mimetype": "text/x-python",
   "name": "python",
   "nbconvert_exporter": "python",
   "pygments_lexer": "ipython3",
   "version": "3.10.1"
  }
 },
 "nbformat": 4,
 "nbformat_minor": 5
}
